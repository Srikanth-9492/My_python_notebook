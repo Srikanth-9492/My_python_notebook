{
  "nbformat": 4,
  "nbformat_minor": 0,
  "metadata": {
    "colab": {
      "provenance": [],
      "authorship_tag": "ABX9TyPR/DkiSV2wA5Xo3e8iXDXu",
      "include_colab_link": true
    },
    "kernelspec": {
      "name": "python3",
      "display_name": "Python 3"
    },
    "language_info": {
      "name": "python"
    }
  },
  "cells": [
    {
      "cell_type": "markdown",
      "metadata": {
        "id": "view-in-github",
        "colab_type": "text"
      },
      "source": [
        "<a href=\"https://colab.research.google.com/github/Srikanth-9492/My_python_notebook/blob/main/Numpy_notebook.ipynb\" target=\"_parent\"><img src=\"https://colab.research.google.com/assets/colab-badge.svg\" alt=\"Open In Colab\"/></a>"
      ]
    },
    {
      "cell_type": "markdown",
      "source": [
        "27-05-2025"
      ],
      "metadata": {
        "id": "we3iIWYZwDIL"
      }
    },
    {
      "cell_type": "markdown",
      "source": [
        "**Numpy Introduction**"
      ],
      "metadata": {
        "id": "bcQXlh4Dx-3s"
      }
    },
    {
      "cell_type": "code",
      "source": [
        "#what is Numpy?\n",
        "#numpy is a core library for scientific computing in python\n",
        "#what is the central object in numpy?\n",
        "#Numpy - Array's\n",
        "#what is Numpy?\n",
        "#Array's are high performance multi dimensional objects which is designed for mathematical operations\n",
        "#Array's are ordered, imuttable, and allows duplicate data\n"
      ],
      "metadata": {
        "id": "glcEsZhEx9tR"
      },
      "execution_count": null,
      "outputs": []
    },
    {
      "cell_type": "code",
      "execution_count": null,
      "metadata": {
        "id": "GdipuVs_v_Es"
      },
      "outputs": [],
      "source": [
        "#what are all different use cases of numpy?\n",
        "\"\"\"1.  Dot Product/ Inner product\n",
        "   2. Matric multiplication\n",
        "   3. element wise matrix multiplication\n",
        "   4. solving linear systems\n",
        "   5. inverse\n",
        "   6. determinent\n",
        "   7. choose the random numbers\n",
        "   8. statistics\n",
        "   9. Broadcasting method \"\"\"\n"
      ]
    },
    {
      "cell_type": "markdown",
      "source": [
        "** Installation of Numpy**\n",
        "\n",
        " what is pip?\n",
        "\n",
        " python package manager\n",
        "\n",
        "\n",
        " package ---> modules---> libraries----> inbuilt codes"
      ],
      "metadata": {
        "id": "qgC6tMXVzuE3"
      }
    },
    {
      "cell_type": "code",
      "source": [
        "!pip install Numpy"
      ],
      "metadata": {
        "colab": {
          "base_uri": "https://localhost:8080/"
        },
        "id": "KKNUlgLgz-Wn",
        "outputId": "4bb40ba9-d78c-4163-8236-f28839905641"
      },
      "execution_count": null,
      "outputs": [
        {
          "output_type": "stream",
          "name": "stdout",
          "text": [
            "Requirement already satisfied: Numpy in /usr/local/lib/python3.11/dist-packages (2.0.2)\n"
          ]
        }
      ]
    },
    {
      "cell_type": "code",
      "source": [
        "import numpy as np\n"
      ],
      "metadata": {
        "id": "auQxcBbQ0HzE"
      },
      "execution_count": null,
      "outputs": []
    },
    {
      "cell_type": "code",
      "source": [
        "#check the version of numpy?\n",
        "np.__version__"
      ],
      "metadata": {
        "colab": {
          "base_uri": "https://localhost:8080/",
          "height": 36
        },
        "id": "I4kdUgNq0Og-",
        "outputId": "8f7fa17c-2fa2-4e7d-a865-532bc9b10e54"
      },
      "execution_count": null,
      "outputs": [
        {
          "output_type": "execute_result",
          "data": {
            "text/plain": [
              "'2.0.2'"
            ],
            "application/vnd.google.colaboratory.intrinsic+json": {
              "type": "string"
            }
          },
          "metadata": {},
          "execution_count": 3
        }
      ]
    },
    {
      "cell_type": "code",
      "source": [
        "#How many types of data structures do we have in numpy?\n",
        "#There are 3 types\n",
        "#1D--- Array's ---> Array's with zero columns and specific rows(axis 0)\n",
        "#2D--- Array's ---> Array's with both rows(axis 0) and columns(axis 1)\n",
        "#3D--- Array's ---> also known as Multidimensional arrays\n"
      ],
      "metadata": {
        "id": "BHUeHETa0X07"
      },
      "execution_count": null,
      "outputs": []
    },
    {
      "cell_type": "markdown",
      "source": [
        "**Central object in Numpy in Array**"
      ],
      "metadata": {
        "id": "zFwUW5xN1x_O"
      }
    },
    {
      "cell_type": "code",
      "source": [
        "#How can we create an array?\n",
        "#Array's can be created from existing data\n",
        "#1D --- Array\n",
        "l = [1,2,3,4,5,6]\n",
        "a = np.array(l)\n",
        "print(a)"
      ],
      "metadata": {
        "colab": {
          "base_uri": "https://localhost:8080/"
        },
        "id": "SZKT4A_F1D4F",
        "outputId": "b093114a-b9e7-42be-cc81-faddc4a5c69f"
      },
      "execution_count": null,
      "outputs": [
        {
          "output_type": "stream",
          "name": "stdout",
          "text": [
            "[1 2 3 4 5 6]\n"
          ]
        }
      ]
    },
    {
      "cell_type": "code",
      "source": [
        "a = np.array([1,2,3,4,5,6])\n",
        "print(a)\n",
        "print(type(a))"
      ],
      "metadata": {
        "colab": {
          "base_uri": "https://localhost:8080/"
        },
        "id": "zOU3q7lw2Tq3",
        "outputId": "92056a71-6f53-42e9-8646-804af4a0f5d4"
      },
      "execution_count": null,
      "outputs": [
        {
          "output_type": "stream",
          "name": "stdout",
          "text": [
            "[1 2 3 4 5 6]\n",
            "<class 'numpy.ndarray'>\n"
          ]
        }
      ]
    },
    {
      "cell_type": "code",
      "source": [
        "#I want to see the shape of the array\n",
        "a.shape\n",
        "#find the dtype of elements in the numpy array\n",
        "a.dtype\n",
        "#Find the dimensionality of an array\n",
        "a.ndim\n",
        "#Find the total no of elements present in array\n",
        "a.size\n",
        "#Find the memory size in bytes occupied by each element in array\n",
        "a.itemsize"
      ],
      "metadata": {
        "colab": {
          "base_uri": "https://localhost:8080/"
        },
        "id": "NKt_NcBI2dJe",
        "outputId": "65050d1a-d270-4676-a111-fa904c5855cf"
      },
      "execution_count": null,
      "outputs": [
        {
          "output_type": "execute_result",
          "data": {
            "text/plain": [
              "8"
            ]
          },
          "metadata": {},
          "execution_count": 13
        }
      ]
    },
    {
      "cell_type": "markdown",
      "source": [
        "**Essential methods to create an array**"
      ],
      "metadata": {
        "id": "VGCF0_dX3b68"
      }
    },
    {
      "cell_type": "code",
      "source": [
        "t = (1,2,3,4,5,6)\n",
        "b = np.array(t)\n",
        "print(b)\n",
        "print(type(b))"
      ],
      "metadata": {
        "colab": {
          "base_uri": "https://localhost:8080/"
        },
        "id": "GYUhpCz_2o_l",
        "outputId": "16501bb5-939b-4d68-d958-7ea308772f65"
      },
      "execution_count": null,
      "outputs": [
        {
          "output_type": "stream",
          "name": "stdout",
          "text": [
            "[1 2 3 4 5 6]\n",
            "<class 'numpy.ndarray'>\n"
          ]
        }
      ]
    },
    {
      "cell_type": "code",
      "source": [
        "#create an array from dictionary?\n",
        "d1 ={\n",
        "     'name':'Medha',\n",
        "     'course':'data science'\n",
        "}\n",
        "c = np.array(d1)\n",
        "print(c)"
      ],
      "metadata": {
        "colab": {
          "base_uri": "https://localhost:8080/"
        },
        "id": "y9b9gasN350V",
        "outputId": "6c187cc9-32a4-4d71-d265-714bbe292eb9"
      },
      "execution_count": null,
      "outputs": [
        {
          "output_type": "stream",
          "name": "stdout",
          "text": [
            "{'name': 'Medha', 'course': 'data science'}\n"
          ]
        }
      ]
    },
    {
      "cell_type": "code",
      "source": [
        "#create an array from the set?\n",
        "s = {1,2,3,4,5,6,7,8}\n",
        "d = np.array(s)\n",
        "print(d)"
      ],
      "metadata": {
        "colab": {
          "base_uri": "https://localhost:8080/"
        },
        "id": "-Afgq5BQ4fgP",
        "outputId": "999a9fc5-1d58-446e-8884-259dea6f6e44"
      },
      "execution_count": null,
      "outputs": [
        {
          "output_type": "stream",
          "name": "stdout",
          "text": [
            "{1, 2, 3, 4, 5, 6, 7, 8}\n"
          ]
        }
      ]
    },
    {
      "cell_type": "markdown",
      "source": [
        "**Essential methods to access an array**"
      ],
      "metadata": {
        "id": "T2k3ILXb4vBQ"
      }
    },
    {
      "cell_type": "code",
      "source": [
        "a = np.array([1,2,3,4])\n",
        "#print the list value\n",
        "print(a[0])\n",
        "#print 2,3 from above array\n",
        "print(a[1:3])\n",
        "#reverse the above array\n",
        "print(a[::-1])"
      ],
      "metadata": {
        "colab": {
          "base_uri": "https://localhost:8080/"
        },
        "id": "zeemtRxc4tZq",
        "outputId": "55b5eb2f-2490-4e8f-e4d1-677b852e4532"
      },
      "execution_count": null,
      "outputs": [
        {
          "output_type": "stream",
          "name": "stdout",
          "text": [
            "1\n",
            "[2 3]\n",
            "[4 3 2 1]\n"
          ]
        }
      ]
    },
    {
      "cell_type": "code",
      "source": [
        "#Array's are immutable we can replace the data but we cannot add new elements and we cannot remove elements from arrays.\n",
        "a[2] = 5\n",
        "print(a)"
      ],
      "metadata": {
        "colab": {
          "base_uri": "https://localhost:8080/"
        },
        "id": "6KMCuyYv5Lo0",
        "outputId": "cea8d786-be34-4aba-9d7c-fbce3b2cec78"
      },
      "execution_count": null,
      "outputs": [
        {
          "output_type": "stream",
          "name": "stdout",
          "text": [
            "[1 2 5 4]\n"
          ]
        }
      ]
    },
    {
      "cell_type": "code",
      "source": [
        "#How can we add the new elements to the array?---> we can add by creating a new variable\n"
      ],
      "metadata": {
        "id": "oYhE_5Dt5obP"
      },
      "execution_count": null,
      "outputs": []
    },
    {
      "cell_type": "markdown",
      "source": [
        "**Element wise maths operation**"
      ],
      "metadata": {
        "id": "XgKBI1QI53x0"
      }
    },
    {
      "cell_type": "code",
      "source": [
        "b = np.array([6,7,8,9])\n",
        "print(a+b)\n",
        "#what is vector addition?\n",
        "#when we apply addition on array of same length n dimensions---> is known as vector addition\n",
        "#Note:-"
      ],
      "metadata": {
        "colab": {
          "base_uri": "https://localhost:8080/"
        },
        "id": "3hiffuQl59m5",
        "outputId": "f3f7c387-835a-4257-e77c-0ab96724ed33"
      },
      "execution_count": null,
      "outputs": [
        {
          "output_type": "stream",
          "name": "stdout",
          "text": [
            "[ 7  9 13 13]\n"
          ]
        }
      ]
    },
    {
      "cell_type": "code",
      "source": [
        "c = np.array([9])\n",
        "print(b+c)\n",
        "#What is broadcasting method?\n",
        "#Adding a single element of an array with multiply elements in another array of same dimension is known as Broadcasting method\n"
      ],
      "metadata": {
        "colab": {
          "base_uri": "https://localhost:8080/"
        },
        "id": "qrk6cf6O6_h-",
        "outputId": "d40973d3-287a-49c3-e51e-f076f144fff7"
      },
      "execution_count": null,
      "outputs": [
        {
          "output_type": "stream",
          "name": "stdout",
          "text": [
            "[15 16 17 18]\n"
          ]
        }
      ]
    },
    {
      "cell_type": "markdown",
      "source": [
        "**Difference between Array and list**\n"
      ],
      "metadata": {
        "id": "yq4K73EL7pQ2"
      }
    },
    {
      "cell_type": "code",
      "source": [
        "l = [1,2,3]\n",
        "a = np.array(l)\n",
        "print(dir(a))"
      ],
      "metadata": {
        "colab": {
          "base_uri": "https://localhost:8080/"
        },
        "id": "rWwhDJd27s9S",
        "outputId": "6acffc9c-563f-4ed4-9789-6433a088b0b1"
      },
      "execution_count": null,
      "outputs": [
        {
          "output_type": "stream",
          "name": "stdout",
          "text": [
            "['T', '__abs__', '__add__', '__and__', '__array__', '__array_finalize__', '__array_function__', '__array_interface__', '__array_namespace__', '__array_priority__', '__array_struct__', '__array_ufunc__', '__array_wrap__', '__bool__', '__class__', '__class_getitem__', '__complex__', '__contains__', '__copy__', '__deepcopy__', '__delattr__', '__delitem__', '__dir__', '__divmod__', '__dlpack__', '__dlpack_device__', '__doc__', '__eq__', '__float__', '__floordiv__', '__format__', '__ge__', '__getattribute__', '__getitem__', '__getstate__', '__gt__', '__hash__', '__iadd__', '__iand__', '__ifloordiv__', '__ilshift__', '__imatmul__', '__imod__', '__imul__', '__index__', '__init__', '__init_subclass__', '__int__', '__invert__', '__ior__', '__ipow__', '__irshift__', '__isub__', '__iter__', '__itruediv__', '__ixor__', '__le__', '__len__', '__lshift__', '__lt__', '__matmul__', '__mod__', '__mul__', '__ne__', '__neg__', '__new__', '__or__', '__pos__', '__pow__', '__radd__', '__rand__', '__rdivmod__', '__reduce__', '__reduce_ex__', '__repr__', '__rfloordiv__', '__rlshift__', '__rmatmul__', '__rmod__', '__rmul__', '__ror__', '__rpow__', '__rrshift__', '__rshift__', '__rsub__', '__rtruediv__', '__rxor__', '__setattr__', '__setitem__', '__setstate__', '__sizeof__', '__str__', '__sub__', '__subclasshook__', '__truediv__', '__xor__', 'all', 'any', 'argmax', 'argmin', 'argpartition', 'argsort', 'astype', 'base', 'byteswap', 'choose', 'clip', 'compress', 'conj', 'conjugate', 'copy', 'ctypes', 'cumprod', 'cumsum', 'data', 'device', 'diagonal', 'dot', 'dtype', 'dump', 'dumps', 'fill', 'flags', 'flat', 'flatten', 'getfield', 'imag', 'item', 'itemset', 'itemsize', 'mT', 'max', 'mean', 'min', 'nbytes', 'ndim', 'newbyteorder', 'nonzero', 'partition', 'prod', 'ptp', 'put', 'ravel', 'real', 'repeat', 'reshape', 'resize', 'round', 'searchsorted', 'setfield', 'setflags', 'shape', 'size', 'sort', 'squeeze', 'std', 'strides', 'sum', 'swapaxes', 'take', 'to_device', 'tobytes', 'tofile', 'tolist', 'tostring', 'trace', 'transpose', 'var', 'view']\n"
          ]
        }
      ]
    },
    {
      "cell_type": "code",
      "source": [
        "#adding the elements in the list:\n",
        "l.append(4)\n",
        "print(l)"
      ],
      "metadata": {
        "colab": {
          "base_uri": "https://localhost:8080/"
        },
        "id": "6FwWGrRB78Ft",
        "outputId": "b51ed5aa-4796-43c9-d2af-d40820b428af"
      },
      "execution_count": null,
      "outputs": [
        {
          "output_type": "stream",
          "name": "stdout",
          "text": [
            "[1, 2, 3, 4]\n"
          ]
        }
      ]
    },
    {
      "cell_type": "code",
      "source": [
        "#add the element  in an array\n",
        "b = np.array([5,6,7,8])\n",
        "c = np.append(a,b)\n",
        "print(c)"
      ],
      "metadata": {
        "colab": {
          "base_uri": "https://localhost:8080/"
        },
        "id": "otboOgGv8GIs",
        "outputId": "accd49de-1ea3-4653-8216-ca1ce4ceefdb"
      },
      "execution_count": null,
      "outputs": [
        {
          "output_type": "stream",
          "name": "stdout",
          "text": [
            "[1 2 3 5 6 7 8]\n"
          ]
        }
      ]
    },
    {
      "cell_type": "code",
      "source": [
        "\"MISD---> Multiple input and single destination\"\n"
      ],
      "metadata": {
        "id": "Mp1PX0jg9SBo"
      },
      "execution_count": null,
      "outputs": []
    },
    {
      "cell_type": "code",
      "source": [
        "#find the sort of below array's?\n",
        "a = np.array([10,20,30,40,50,60])\n",
        "print(np.sqrt(a))"
      ],
      "metadata": {
        "colab": {
          "base_uri": "https://localhost:8080/"
        },
        "id": "_IefKdt-99YD",
        "outputId": "c6763885-206c-42b9-d654-49395fcfe3a7"
      },
      "execution_count": null,
      "outputs": [
        {
          "output_type": "stream",
          "name": "stdout",
          "text": [
            "[3.16227766 4.47213595 5.47722558 6.32455532 7.07106781 7.74596669]\n"
          ]
        }
      ]
    },
    {
      "cell_type": "markdown",
      "source": [
        "**Dot Product**"
      ],
      "metadata": {
        "id": "JVabqnvO-Qi1"
      }
    },
    {
      "cell_type": "code",
      "source": [
        "a = np.array([1,2])\n",
        "b = np.array([3,4])\n",
        "dot = 0\n",
        "for i in range(len(a)):\n",
        "  dot = dot + a[i]*b[i]\n",
        "print(dot)"
      ],
      "metadata": {
        "colab": {
          "base_uri": "https://localhost:8080/"
        },
        "id": "RANJQ9Dg-LHr",
        "outputId": "1b95d107-1661-4094-c6ce-ba5c4904ddb9"
      },
      "execution_count": null,
      "outputs": [
        {
          "output_type": "stream",
          "name": "stdout",
          "text": [
            "11\n"
          ]
        }
      ]
    },
    {
      "cell_type": "code",
      "source": [
        "#dot product is vector multiplication of elements and sum of the result\n",
        "dot = np.dot(a,b)\n",
        "print(dot)"
      ],
      "metadata": {
        "colab": {
          "base_uri": "https://localhost:8080/"
        },
        "id": "GlWQMrWq-1cC",
        "outputId": "fd16185a-48e3-4a17-ba30-e72275a5f05a"
      },
      "execution_count": null,
      "outputs": [
        {
          "output_type": "stream",
          "name": "stdout",
          "text": [
            "11\n"
          ]
        }
      ]
    },
    {
      "cell_type": "code",
      "source": [
        "#manual method\n",
        "c = a*b\n",
        "d = np.sum(c)\n",
        "print(d)"
      ],
      "metadata": {
        "colab": {
          "base_uri": "https://localhost:8080/"
        },
        "id": "uuTKeBwq_I3D",
        "outputId": "7e96179b-b5c6-4970-82d9-66558f2367bd"
      },
      "execution_count": null,
      "outputs": [
        {
          "output_type": "stream",
          "name": "stdout",
          "text": [
            "11\n"
          ]
        }
      ]
    },
    {
      "cell_type": "code",
      "source": [
        "#another method\n",
        "e = a.dot(b)\n",
        "print(e)"
      ],
      "metadata": {
        "colab": {
          "base_uri": "https://localhost:8080/"
        },
        "id": "YBU8VFw6_QUH",
        "outputId": "860b4358-b14d-4e0f-c7a9-318536e1bc67"
      },
      "execution_count": null,
      "outputs": [
        {
          "output_type": "stream",
          "name": "stdout",
          "text": [
            "11\n"
          ]
        }
      ]
    },
    {
      "cell_type": "code",
      "source": [
        "f = a@b\n",
        "print(f)"
      ],
      "metadata": {
        "colab": {
          "base_uri": "https://localhost:8080/"
        },
        "id": "Ghzopyxe_WhX",
        "outputId": "98e4c98e-8613-4b12-9fbb-cc2d6f4f1cc8"
      },
      "execution_count": null,
      "outputs": [
        {
          "output_type": "stream",
          "name": "stdout",
          "text": [
            "11\n"
          ]
        }
      ]
    },
    {
      "cell_type": "markdown",
      "source": [
        "**Speed test b/w Array vs List**"
      ],
      "metadata": {
        "id": "chnX6IWOAOlX"
      }
    },
    {
      "cell_type": "code",
      "source": [
        "#import a time calculator to see the difference\n",
        "from timeit import default_timer as timer\n",
        "#create an random array\n",
        "a = np.random.randn(1000)\n",
        "b = np.random.randn(1000)\n",
        "#convert the above array's\n",
        "c = list(a)\n",
        "d = list(b)\n",
        "T = 1000\n",
        "def dot1():\n",
        "  dot = 0\n",
        "  for i in range(len(c)):\n",
        "    dot += c[i]*d[i]\n",
        "  return dot\n",
        "def dot2():\n",
        "  return np.dot(a,b)\n",
        "#take the timer\n",
        "start = timer()\n",
        "for i in range(T):\n",
        "  dot1()\n",
        "end = timer()\n",
        "t1 = end - start\n",
        "\n",
        "\n",
        "#create timer for numpy array\n",
        "start = timer()\n",
        "for i in range(T):\n",
        "  dot2()\n",
        "end = timer()\n",
        "t2 = end - start\n",
        "\n",
        "\n",
        "\n",
        "print('time with list',t1)\n",
        "print('time with list',t2)\n",
        "print(t1/t2)"
      ],
      "metadata": {
        "colab": {
          "base_uri": "https://localhost:8080/"
        },
        "id": "Gzhck3MCAUOP",
        "outputId": "9b704914-01a4-49d6-d65d-a5dcacc68af7"
      },
      "execution_count": null,
      "outputs": [
        {
          "output_type": "stream",
          "name": "stdout",
          "text": [
            "time with list 0.16525554500003636\n",
            "time with list 0.001770008000676171\n",
            "93.36429266811571\n"
          ]
        }
      ]
    },
    {
      "cell_type": "code",
      "source": [
        "#import a time calculator to see the difference\n",
        "from timeit import default_timer as timer\n",
        "#create an random array\n",
        "a = np.random.randn(1000)\n",
        "b = np.random.randn(1000)\n",
        "#convert the above array's\n",
        "c = tuple(a)\n",
        "d = tuple(b)\n",
        "T = 1000\n",
        "def dot1():\n",
        "  dot = 0\n",
        "  for i in range(len(c)):\n",
        "    dot += c[i]*d[i]\n",
        "  return dot\n",
        "def dot2():\n",
        "  return np.dot(a,b)\n",
        "#take the timer\n",
        "start = timer()\n",
        "for i in range(T):\n",
        "  dot1()\n",
        "end = timer()\n",
        "t1 = end - start\n",
        "\n",
        "\n",
        "#create timer for numpy array\n",
        "start = timer()\n",
        "for i in range(T):\n",
        "  dot2()\n",
        "end = timer()\n",
        "t2 = end - start\n",
        "\n",
        "\n",
        "\n",
        "print('time with tuple',t1)\n",
        "print('time with tuple',t2)\n",
        "print(t1/t2)"
      ],
      "metadata": {
        "colab": {
          "base_uri": "https://localhost:8080/"
        },
        "id": "LEzs33J8CZoS",
        "outputId": "652d858b-6301-4a78-9da5-c0d66f278a73"
      },
      "execution_count": null,
      "outputs": [
        {
          "output_type": "stream",
          "name": "stdout",
          "text": [
            "time with tuple 0.184995235000315\n",
            "time with tuple 0.0019006630000149016\n",
            "97.33194942968038\n"
          ]
        }
      ]
    },
    {
      "cell_type": "markdown",
      "source": [
        "28-05-2025"
      ],
      "metadata": {
        "id": "FoKHJBnn4RDX"
      }
    },
    {
      "cell_type": "markdown",
      "source": [
        "**Multi Dimensional Array's**"
      ],
      "metadata": {
        "id": "nfx01Ajq5X5J"
      }
    },
    {
      "cell_type": "code",
      "source": [
        "import numpy as np\n"
      ],
      "metadata": {
        "id": "3qJcQbj04Qc5"
      },
      "execution_count": null,
      "outputs": []
    },
    {
      "cell_type": "code",
      "source": [
        "#create a 2D Array\n",
        "a = np.array([[1,2,3,4],[5,6,7,8]])\n",
        "print(a)\n",
        "print(a.shape)\n"
      ],
      "metadata": {
        "colab": {
          "base_uri": "https://localhost:8080/"
        },
        "id": "hxBtZHYE5ucj",
        "outputId": "e4f93945-fb06-499e-87ed-75dc633eb583"
      },
      "execution_count": null,
      "outputs": [
        {
          "output_type": "stream",
          "name": "stdout",
          "text": [
            "[[1 2 3 4]\n",
            " [5 6 7 8]]\n",
            "(2, 4)\n"
          ]
        }
      ]
    },
    {
      "cell_type": "code",
      "source": [
        "#How can we access from the 2D array?\n",
        "#[row_index,column_index]\n",
        "#print 1,2,3,4 from above array\n",
        "print(a[0])\n",
        "#How can we acess the values from particular column and particular row\n",
        "print(a[1,2])\n",
        "print(a[0,2])\n"
      ],
      "metadata": {
        "colab": {
          "base_uri": "https://localhost:8080/"
        },
        "id": "1ahWO8nK6DVv",
        "outputId": "0b97617d-8292-4fab-ce4f-a37e194859e2"
      },
      "execution_count": null,
      "outputs": [
        {
          "output_type": "stream",
          "name": "stdout",
          "text": [
            "[1 2 3 4]\n",
            "7\n",
            "3\n"
          ]
        }
      ]
    },
    {
      "cell_type": "code",
      "source": [
        "#How can i print the entire 1st column value from below array\n",
        "b = np.array([[1,2,3,4],[5,6,7,8],[9,10,11,12]])\n",
        "print(b)\n",
        "print(b[:,0])\n",
        "#print all the values from second row.\n",
        "print(b[1])\n",
        "print(b[1,:])"
      ],
      "metadata": {
        "colab": {
          "base_uri": "https://localhost:8080/"
        },
        "id": "MOcOcyii7AxU",
        "outputId": "930a4959-d814-4074-fe2f-fa8526e16e57"
      },
      "execution_count": null,
      "outputs": [
        {
          "output_type": "stream",
          "name": "stdout",
          "text": [
            "[[ 1  2  3  4]\n",
            " [ 5  6  7  8]\n",
            " [ 9 10 11 12]]\n",
            "[1 5 9]\n",
            "[5 6 7 8]\n",
            "[5 6 7 8]\n"
          ]
        }
      ]
    },
    {
      "cell_type": "code",
      "source": [
        "b = np.array([[[1,2,3,4],[5,6,7,8],[9,10,11,12]]])\n",
        "print(b)\n",
        "print(b.shape)\n",
        "print(b[0,0,1])"
      ],
      "metadata": {
        "colab": {
          "base_uri": "https://localhost:8080/"
        },
        "id": "VAwVsGVC8AUs",
        "outputId": "b79af680-fc62-478d-f4d3-2702774f230f"
      },
      "execution_count": null,
      "outputs": [
        {
          "output_type": "stream",
          "name": "stdout",
          "text": [
            "[[[ 1  2  3  4]\n",
            "  [ 5  6  7  8]\n",
            "  [ 9 10 11 12]]]\n",
            "(1, 3, 4)\n",
            "2\n"
          ]
        }
      ]
    },
    {
      "cell_type": "markdown",
      "source": [
        "**Transpose**"
      ],
      "metadata": {
        "id": "dPTW0Dux9fMb"
      }
    },
    {
      "cell_type": "code",
      "source": [
        "#transpose converts rows into columns and columns into rows\n",
        "b = np.array([[1,2,3,4],[5,6,7,8],[9,10,11,12]])\n",
        "print(b)\n",
        "print(b.T)\n"
      ],
      "metadata": {
        "colab": {
          "base_uri": "https://localhost:8080/"
        },
        "id": "ectnvjzZ9hjv",
        "outputId": "b2aef4c6-4e49-467a-b7ea-1168a212be14"
      },
      "execution_count": null,
      "outputs": [
        {
          "output_type": "stream",
          "name": "stdout",
          "text": [
            "[[ 1  2  3  4]\n",
            " [ 5  6  7  8]\n",
            " [ 9 10 11 12]]\n",
            "[[ 1  5  9]\n",
            " [ 2  6 10]\n",
            " [ 3  7 11]\n",
            " [ 4  8 12]]\n"
          ]
        }
      ]
    },
    {
      "cell_type": "markdown",
      "source": [
        "**Matrix Multiplication**"
      ],
      "metadata": {
        "id": "5xQ3wUCK-O1f"
      }
    },
    {
      "cell_type": "code",
      "source": [
        "a = np.array([[1,2],[3,4]])\n",
        "b = np.array([[3,4],[5,6]])\n",
        "#applying the dot product\n",
        "c = np.dot(a,b)\n",
        "print(c)\n",
        "print(a@b)"
      ],
      "metadata": {
        "colab": {
          "base_uri": "https://localhost:8080/"
        },
        "id": "gDb6OekF-ORV",
        "outputId": "ad5a787a-a4e4-4026-bcea-86544f704806"
      },
      "execution_count": null,
      "outputs": [
        {
          "output_type": "stream",
          "name": "stdout",
          "text": [
            "[[13 16]\n",
            " [29 36]]\n",
            "[[13 16]\n",
            " [29 36]]\n"
          ]
        }
      ]
    },
    {
      "cell_type": "markdown",
      "source": [
        "**Inverse**"
      ],
      "metadata": {
        "id": "TWYaGg2f_RUS"
      }
    },
    {
      "cell_type": "code",
      "source": [
        "#find the inverse of an array a?\n",
        "d = np.linalg.inv(b)\n",
        "print(d)"
      ],
      "metadata": {
        "colab": {
          "base_uri": "https://localhost:8080/"
        },
        "id": "uXTE7JnA_Thb",
        "outputId": "2079a3f1-dccd-4811-b5bf-c4d67e8e9758"
      },
      "execution_count": null,
      "outputs": [
        {
          "output_type": "stream",
          "name": "stdout",
          "text": [
            "[[-3.   2. ]\n",
            " [ 2.5 -1.5]]\n"
          ]
        }
      ]
    },
    {
      "cell_type": "code",
      "source": [
        "#How can i find the diagonal of array a?\n",
        "e = np.diag(a)\n",
        "print(e)"
      ],
      "metadata": {
        "colab": {
          "base_uri": "https://localhost:8080/"
        },
        "id": "g6Rshg-Z_qN8",
        "outputId": "d40a96ef-2531-42fe-a6c5-2f49342fda22"
      },
      "execution_count": null,
      "outputs": [
        {
          "output_type": "stream",
          "name": "stdout",
          "text": [
            "[1 4]\n"
          ]
        }
      ]
    },
    {
      "cell_type": "code",
      "source": [
        "#diagonal on vector returns the matrix\n",
        "f = np.diag([1,4,5])\n",
        "print(f)"
      ],
      "metadata": {
        "colab": {
          "base_uri": "https://localhost:8080/"
        },
        "id": "DCQ6H5Zn_4oa",
        "outputId": "3ea2259c-3e2e-43eb-c037-5403a4b62fed"
      },
      "execution_count": null,
      "outputs": [
        {
          "output_type": "stream",
          "name": "stdout",
          "text": [
            "[[1 0 0]\n",
            " [0 4 0]\n",
            " [0 0 5]]\n"
          ]
        }
      ]
    },
    {
      "cell_type": "code",
      "source": [
        "#print the values from the column 2 and 3\n",
        "b = np.array([[1,2,3,4],[5,6,7,8],[9,10,11,12]])\n",
        "print(b)\n",
        "print(b[:,1:3])\n",
        "print(b[0:3,1:3])\n",
        "print(b[:,-1:]) #print last column all the values in 2D form"
      ],
      "metadata": {
        "colab": {
          "base_uri": "https://localhost:8080/"
        },
        "id": "6E1lS9YRAjBQ",
        "outputId": "0d2f573c-ff77-46ab-b285-681ea5ce8be7"
      },
      "execution_count": null,
      "outputs": [
        {
          "output_type": "stream",
          "name": "stdout",
          "text": [
            "[[ 1  2  3  4]\n",
            " [ 5  6  7  8]\n",
            " [ 9 10 11 12]]\n",
            "[[ 2  3]\n",
            " [ 6  7]\n",
            " [10 11]]\n",
            "[[ 2  3]\n",
            " [ 6  7]\n",
            " [10 11]]\n",
            "[[ 4]\n",
            " [ 8]\n",
            " [12]]\n"
          ]
        }
      ]
    },
    {
      "cell_type": "markdown",
      "source": [
        "**Boolean Indexing**"
      ],
      "metadata": {
        "id": "6SpF6rplCYyb"
      }
    },
    {
      "cell_type": "code",
      "source": [
        "a = np.array([[1,2],[3,4],[5,6]])\n",
        "print(a)\n",
        "#print the numbers which is more than 2\n",
        "print(a[a>2])\n",
        "#print(a>2)"
      ],
      "metadata": {
        "colab": {
          "base_uri": "https://localhost:8080/"
        },
        "id": "NGQprtF9CPCK",
        "outputId": "7fdd5e2a-ea44-4a76-a7a7-4cde47a6ff19"
      },
      "execution_count": null,
      "outputs": [
        {
          "output_type": "stream",
          "name": "stdout",
          "text": [
            "[[1 2]\n",
            " [3 4]\n",
            " [5 6]]\n",
            "[3 4 5 6]\n"
          ]
        }
      ]
    },
    {
      "cell_type": "code",
      "source": [
        "l = (1,2,3,4)\n",
        "print(l*2)\n",
        "\n",
        "print(a*2)"
      ],
      "metadata": {
        "colab": {
          "base_uri": "https://localhost:8080/"
        },
        "id": "H8YI9bdYC0Rt",
        "outputId": "cdb3706f-d502-4f5c-8c99-37eb99de7916"
      },
      "execution_count": null,
      "outputs": [
        {
          "output_type": "stream",
          "name": "stdout",
          "text": [
            "(1, 2, 3, 4, 1, 2, 3, 4)\n",
            "[[ 2  4]\n",
            " [ 6  8]\n",
            " [10 12]]\n"
          ]
        }
      ]
    },
    {
      "cell_type": "code",
      "source": [
        "#How can we apply a condition in array?\n",
        "#np.where(condition,True,False)\n",
        "c = np.where(a>2,a,-1)\n",
        "print(c)\n"
      ],
      "metadata": {
        "colab": {
          "base_uri": "https://localhost:8080/"
        },
        "id": "98dP3B7wDQGV",
        "outputId": "9548ad1d-de79-441e-ad80-6a0fc9652cb0"
      },
      "execution_count": null,
      "outputs": [
        {
          "output_type": "stream",
          "name": "stdout",
          "text": [
            "[[-1 -1]\n",
            " [ 3  4]\n",
            " [ 5  6]]\n"
          ]
        }
      ]
    },
    {
      "cell_type": "code",
      "source": [
        "#compute the indexes where the condition is true?\n",
        "#np.argwhere()\n",
        "i = np.argwhere(a>2)\n",
        "print(i)"
      ],
      "metadata": {
        "colab": {
          "base_uri": "https://localhost:8080/"
        },
        "id": "3szntoZQD5T-",
        "outputId": "e9185310-38cd-4d26-b0d9-2e1e3e16732b"
      },
      "execution_count": null,
      "outputs": [
        {
          "output_type": "stream",
          "name": "stdout",
          "text": [
            "[[1 0]\n",
            " [1 1]\n",
            " [2 0]\n",
            " [2 1]]\n"
          ]
        }
      ]
    },
    {
      "cell_type": "code",
      "source": [
        "#[10,19,20,30,41,50,61] from above list compute the index of even numbers\n",
        "a = np.array([10,19,20,30,41,50,61])\n",
        "even = np.argwhere(a%2==0).flatten()  #flatten prints the o/p in single line\n",
        "print(even)"
      ],
      "metadata": {
        "colab": {
          "base_uri": "https://localhost:8080/"
        },
        "id": "U628HEAYEUmk",
        "outputId": "197e5182-78c0-4d39-bd11-f71a48df6814"
      },
      "execution_count": null,
      "outputs": [
        {
          "output_type": "stream",
          "name": "stdout",
          "text": [
            "[0 2 3 5]\n"
          ]
        }
      ]
    },
    {
      "cell_type": "code",
      "source": [
        "a_even =a[even]\n",
        "print(a_even)"
      ],
      "metadata": {
        "colab": {
          "base_uri": "https://localhost:8080/"
        },
        "id": "yXHLjgm-FcGB",
        "outputId": "4ec647cc-654c-47af-c451-2e4e575a4e89"
      },
      "execution_count": null,
      "outputs": [
        {
          "output_type": "stream",
          "name": "stdout",
          "text": [
            "[10 20 30 50]\n"
          ]
        }
      ]
    },
    {
      "cell_type": "markdown",
      "source": [
        "**Reshaping of an Array**"
      ],
      "metadata": {
        "id": "xLlWkl9wFsVQ"
      }
    },
    {
      "cell_type": "code",
      "source": [
        "#create a range of an array upto 9\n",
        "a = np.arange(1,10)\n",
        "print(a)\n"
      ],
      "metadata": {
        "colab": {
          "base_uri": "https://localhost:8080/"
        },
        "id": "SXzb_t-cFw1U",
        "outputId": "3deead44-a894-480a-ea11-b2f4fc87caa9"
      },
      "execution_count": null,
      "outputs": [
        {
          "output_type": "stream",
          "name": "stdout",
          "text": [
            "[1 2 3 4 5 6 7 8 9]\n"
          ]
        }
      ]
    },
    {
      "cell_type": "code",
      "source": [
        "b = a.reshape(3,3)\n",
        "print(b)"
      ],
      "metadata": {
        "colab": {
          "base_uri": "https://localhost:8080/"
        },
        "id": "MsVbMJtwGIQy",
        "outputId": "4b1c1792-e43f-4c52-9835-c732b9240f7f"
      },
      "execution_count": null,
      "outputs": [
        {
          "output_type": "stream",
          "name": "stdout",
          "text": [
            "[[1 2 3]\n",
            " [4 5 6]\n",
            " [7 8 9]]\n"
          ]
        }
      ]
    },
    {
      "cell_type": "code",
      "source": [
        "#print a range of number from 1 to 10 and reshape it in to 5,2 columns\n",
        "#print a range of number from 1 to 6 and reshape it in to 2 rows,3 columns\n",
        "a = np.arange(10)\n",
        "print(a)\n",
        "b = a.reshape(5,2)\n",
        "print(b)\n",
        "\n",
        "c = np.arange(1,7)\n",
        "d = c.reshape(2,3)\n",
        "\n",
        "print(d)"
      ],
      "metadata": {
        "colab": {
          "base_uri": "https://localhost:8080/"
        },
        "id": "KUVSkcWsGfW2",
        "outputId": "56d47941-bcd3-4f6d-8e2a-af903f2f2e51"
      },
      "execution_count": null,
      "outputs": [
        {
          "output_type": "stream",
          "name": "stdout",
          "text": [
            "[0 1 2 3 4 5 6 7 8 9]\n",
            "[[0 1]\n",
            " [2 3]\n",
            " [4 5]\n",
            " [6 7]\n",
            " [8 9]]\n",
            "[[1 2 3]\n",
            " [4 5 6]]\n"
          ]
        }
      ]
    },
    {
      "cell_type": "markdown",
      "source": [
        "**np.newaxis**"
      ],
      "metadata": {
        "id": "BwmMMZiTHXdv"
      }
    },
    {
      "cell_type": "code",
      "source": [
        "#newaxis:- is used to create a axis in the data\n",
        "a = np.arange(1,7)\n",
        "print(a)\n",
        "print(a.shape)"
      ],
      "metadata": {
        "colab": {
          "base_uri": "https://localhost:8080/"
        },
        "id": "QO9T8aeMHbz5",
        "outputId": "bc5485af-b95c-448b-d168-0852ec4cff47"
      },
      "execution_count": null,
      "outputs": [
        {
          "output_type": "stream",
          "name": "stdout",
          "text": [
            "[1 2 3 4 5 6]\n",
            "(6,)\n"
          ]
        }
      ]
    },
    {
      "cell_type": "code",
      "source": [
        "#newaxis\n",
        "d = a[np.newaxis,:]\n",
        "print(d)\n",
        "print(d.shape)"
      ],
      "metadata": {
        "colab": {
          "base_uri": "https://localhost:8080/"
        },
        "id": "A_kRJqYNHw9q",
        "outputId": "29fee67c-00c3-4a4b-c4d5-543c6f415079"
      },
      "execution_count": null,
      "outputs": [
        {
          "output_type": "stream",
          "name": "stdout",
          "text": [
            "[[1 2 3 4 5 6]]\n",
            "(1, 6)\n"
          ]
        }
      ]
    },
    {
      "cell_type": "code",
      "source": [
        "e = a[:,np.newaxis]\n",
        "print(e)\n",
        "print(e.shape)"
      ],
      "metadata": {
        "colab": {
          "base_uri": "https://localhost:8080/"
        },
        "id": "gYNiME2_IVu0",
        "outputId": "b388cd08-81dd-495b-ea1f-18c51fa8f8c7"
      },
      "execution_count": null,
      "outputs": [
        {
          "output_type": "stream",
          "name": "stdout",
          "text": [
            "[[1]\n",
            " [2]\n",
            " [3]\n",
            " [4]\n",
            " [5]\n",
            " [6]]\n",
            "(6, 1)\n"
          ]
        }
      ]
    },
    {
      "cell_type": "code",
      "source": [
        "#np.array([])\n",
        "#np.array([[]])\n",
        "#np.shape\n",
        "#np.size\n",
        "#np.dtype\n",
        "#np.itemsize\n",
        "#np.dot(array1,array2)\n",
        "#np.sqrt()\n",
        "#np.linalg.inv(array1)\n",
        "#np.where(condition,true,false)\n",
        "#np.argwhere(condition)  (.flatten())\n",
        "#np.arange(start,end)\n",
        "#np.reshape(no.row,no.column)\n",
        "#np.diag(array1 or [vector])\n",
        "#np.newaxis\n",
        "#Transpose(T)\n"
      ],
      "metadata": {
        "id": "fwM4F2TpJ_cc"
      },
      "execution_count": null,
      "outputs": []
    },
    {
      "cell_type": "markdown",
      "source": [
        "29-05-2025"
      ],
      "metadata": {
        "id": "SDj-mTmGBc9Z"
      }
    },
    {
      "cell_type": "markdown",
      "source": [
        "**Concatenation**"
      ],
      "metadata": {
        "id": "7m_QXMteB06R"
      }
    },
    {
      "cell_type": "code",
      "source": [
        "import numpy as np\n"
      ],
      "metadata": {
        "id": "jmR7IjrvBh18"
      },
      "execution_count": 1,
      "outputs": []
    },
    {
      "cell_type": "code",
      "source": [
        "a = np.array([[1,2],[3,4]])\n",
        "b = np.array([[5,6]])\n",
        "#combine or concatenate the above 2 arrays\n",
        "#b.shape\n",
        "c = np.concatenate((a,b),axis=None)\n",
        "print(c)"
      ],
      "metadata": {
        "colab": {
          "base_uri": "https://localhost:8080/"
        },
        "id": "Wio64B7tB68h",
        "outputId": "f7de553d-98d4-4789-a978-fbe598a587e2"
      },
      "execution_count": 2,
      "outputs": [
        {
          "output_type": "stream",
          "name": "stdout",
          "text": [
            "[1 2 3 4 5 6]\n"
          ]
        }
      ]
    },
    {
      "cell_type": "code",
      "source": [
        "c = np.concatenate((a,b),axis=0)\n",
        "print(c)"
      ],
      "metadata": {
        "colab": {
          "base_uri": "https://localhost:8080/"
        },
        "id": "Pr_DKWmSB9zH",
        "outputId": "c1e32f21-752c-409e-a318-9ad0f605df63"
      },
      "execution_count": 3,
      "outputs": [
        {
          "output_type": "stream",
          "name": "stdout",
          "text": [
            "[[1 2]\n",
            " [3 4]\n",
            " [5 6]]\n"
          ]
        }
      ]
    },
    {
      "cell_type": "code",
      "source": [
        "d = np.concatenate((a,b.T),axis=1)\n",
        "print(d)\n",
        "#Note:- when we concatenate two array's along with the rows we need to check both array have same number of columns\n",
        "#2.when we concatenate two array's along with the columns we need to check both array have same number of rows"
      ],
      "metadata": {
        "colab": {
          "base_uri": "https://localhost:8080/"
        },
        "id": "O6EEqQsbCA3H",
        "outputId": "e599b10b-cd99-45f2-ab5d-ed7a2235d8ce"
      },
      "execution_count": 4,
      "outputs": [
        {
          "output_type": "stream",
          "name": "stdout",
          "text": [
            "[[1 2 5]\n",
            " [3 4 6]]\n"
          ]
        }
      ]
    },
    {
      "cell_type": "code",
      "source": [
        "a = np.array([[1,2],[3,4]])\n",
        "b = np.array([[5,6],[7,8]])\n",
        "c = np.concatenate((a,b),axis=1)\n",
        "print(c)\n",
        "#print the 1st row value\n",
        "print(c[0,:])\n",
        "print(c[0])"
      ],
      "metadata": {
        "colab": {
          "base_uri": "https://localhost:8080/"
        },
        "id": "FTvDvkAUCGfR",
        "outputId": "712c17c7-6c68-481c-e713-78f9735d83b7"
      },
      "execution_count": 5,
      "outputs": [
        {
          "output_type": "stream",
          "name": "stdout",
          "text": [
            "[[1 2 5 6]\n",
            " [3 4 7 8]]\n",
            "[1 2 5 6]\n",
            "[1 2 5 6]\n"
          ]
        }
      ]
    },
    {
      "cell_type": "code",
      "source": [
        "a = np.array([[1,2],[3,4]])\n",
        "b = np.array([[5,6],[7,8]])\n",
        "c = np.concatenate((a,b),axis=0)\n",
        "print(c)\n",
        "#print the 1st row value\n",
        "print(c[0,:])\n",
        "print(c[0])"
      ],
      "metadata": {
        "colab": {
          "base_uri": "https://localhost:8080/"
        },
        "id": "Ich0nHXHCJML",
        "outputId": "efc4616b-9011-4daf-f75b-d5e343d7cb5e"
      },
      "execution_count": 6,
      "outputs": [
        {
          "output_type": "stream",
          "name": "stdout",
          "text": [
            "[[1 2]\n",
            " [3 4]\n",
            " [5 6]\n",
            " [7 8]]\n",
            "[1 2]\n",
            "[1 2]\n"
          ]
        }
      ]
    },
    {
      "cell_type": "markdown",
      "source": [
        "HSTACK-->Stack arrays in sequence horizentally"
      ],
      "metadata": {
        "id": "3ULiOgZqCOX-"
      }
    },
    {
      "cell_type": "code",
      "source": [
        "d = np.hstack((a,b))\n",
        "print(d)"
      ],
      "metadata": {
        "colab": {
          "base_uri": "https://localhost:8080/"
        },
        "id": "IQmdBMYiCMs4",
        "outputId": "ee4c30e7-3de4-43c6-bc6c-ac1dce9774d4"
      },
      "execution_count": 7,
      "outputs": [
        {
          "output_type": "stream",
          "name": "stdout",
          "text": [
            "[[1 2 5 6]\n",
            " [3 4 7 8]]\n"
          ]
        }
      ]
    },
    {
      "cell_type": "code",
      "source": [
        "arr1 = np.array([1,2,3,4])\n",
        "arr2 = np.array([5,6,7,8])\n",
        "arr = np.hstack((arr1,arr2))\n",
        "print(arr)"
      ],
      "metadata": {
        "colab": {
          "base_uri": "https://localhost:8080/"
        },
        "id": "bhABTbHZCUpb",
        "outputId": "4c4d2bd2-a659-4e38-c77d-4d7ab1d73b32"
      },
      "execution_count": 8,
      "outputs": [
        {
          "output_type": "stream",
          "name": "stdout",
          "text": [
            "[1 2 3 4 5 6 7 8]\n"
          ]
        }
      ]
    },
    {
      "cell_type": "markdown",
      "source": [
        "VSTACK-->stack arrays in sequence vertically"
      ],
      "metadata": {
        "id": "_q6jwyFdCX_z"
      }
    },
    {
      "cell_type": "code",
      "source": [
        "#apply vstack on 1D array\n",
        "v = np.vstack((arr1,arr2))\n",
        "print(v)"
      ],
      "metadata": {
        "colab": {
          "base_uri": "https://localhost:8080/"
        },
        "id": "kh-BJKh0CdY6",
        "outputId": "c4959f6f-baf0-4f87-8856-41fb2f11bfaa"
      },
      "execution_count": 9,
      "outputs": [
        {
          "output_type": "stream",
          "name": "stdout",
          "text": [
            "[[1 2 3 4]\n",
            " [5 6 7 8]]\n"
          ]
        }
      ]
    },
    {
      "cell_type": "code",
      "source": [
        "a = np.array([[1,2],[3,4]])\n",
        "b = np.array([[5,6],[7,8]])\n",
        "v = np.vstack((a,b))\n",
        "print(v)"
      ],
      "metadata": {
        "colab": {
          "base_uri": "https://localhost:8080/"
        },
        "id": "JUVcEDVFCf6M",
        "outputId": "110aa058-6c78-4fe9-a1e2-59dad72b8ca0"
      },
      "execution_count": 10,
      "outputs": [
        {
          "output_type": "stream",
          "name": "stdout",
          "text": [
            "[[1 2]\n",
            " [3 4]\n",
            " [5 6]\n",
            " [7 8]]\n"
          ]
        }
      ]
    },
    {
      "cell_type": "code",
      "source": [
        "print(a)\n",
        "print(b)"
      ],
      "metadata": {
        "colab": {
          "base_uri": "https://localhost:8080/"
        },
        "id": "Z5vnI724ClPI",
        "outputId": "5a426034-f55b-4492-b6e7-86e2e8fc75da"
      },
      "execution_count": 11,
      "outputs": [
        {
          "output_type": "stream",
          "name": "stdout",
          "text": [
            "[[1 2]\n",
            " [3 4]]\n",
            "[[5 6]\n",
            " [7 8]]\n"
          ]
        }
      ]
    },
    {
      "cell_type": "markdown",
      "source": [
        "Copying of an array"
      ],
      "metadata": {
        "id": "oO1_PvkCCn1A"
      }
    },
    {
      "cell_type": "code",
      "source": [
        "a = np.array([1,2,3])\n",
        "b = a\n",
        "b[0]=42\n",
        "print(a)\n",
        "print(b)\n",
        "#np.copy():- if you make any changes in the new array it won't impact on the old array"
      ],
      "metadata": {
        "colab": {
          "base_uri": "https://localhost:8080/"
        },
        "id": "T8qXHf4DCnEK",
        "outputId": "e3330c78-e0a3-4852-ba37-de5388d9fa38"
      },
      "execution_count": 12,
      "outputs": [
        {
          "output_type": "stream",
          "name": "stdout",
          "text": [
            "[42  2  3]\n",
            "[42  2  3]\n"
          ]
        }
      ]
    },
    {
      "cell_type": "code",
      "source": [
        "a = np.array([1,2,3])\n",
        "b = a.copy()\n",
        "b[0]=42\n",
        "print(a)\n",
        "print(b)"
      ],
      "metadata": {
        "colab": {
          "base_uri": "https://localhost:8080/"
        },
        "id": "OhxaHyJGCx4S",
        "outputId": "809640ce-6816-4907-fa01-df3b86847efa"
      },
      "execution_count": 13,
      "outputs": [
        {
          "output_type": "stream",
          "name": "stdout",
          "text": [
            "[1 2 3]\n",
            "[42  2  3]\n"
          ]
        }
      ]
    },
    {
      "cell_type": "markdown",
      "source": [
        "Data Types"
      ],
      "metadata": {
        "id": "jHml-iwQC2RR"
      }
    },
    {
      "cell_type": "code",
      "source": [
        "#convert an array of int64 to int32\n",
        "a = np.array([1,2,3,4],dtype='int32') #or dtype = np.int32\n",
        "print(a)\n",
        "print(a.dtype)"
      ],
      "metadata": {
        "colab": {
          "base_uri": "https://localhost:8080/"
        },
        "id": "thZMM2_TC4It",
        "outputId": "94a583b4-33d6-4d1c-b84d-0726df14f518"
      },
      "execution_count": 14,
      "outputs": [
        {
          "output_type": "stream",
          "name": "stdout",
          "text": [
            "[1 2 3 4]\n",
            "int32\n"
          ]
        }
      ]
    },
    {
      "cell_type": "code",
      "source": [
        "b = np.array([1.5,2.5,3.5],dtype=np.float32)\n",
        "print(b.dtype)"
      ],
      "metadata": {
        "colab": {
          "base_uri": "https://localhost:8080/"
        },
        "id": "GUPbV-idC7zd",
        "outputId": "07f937a4-1ea8-4653-a192-295cf8e90266"
      },
      "execution_count": 15,
      "outputs": [
        {
          "output_type": "stream",
          "name": "stdout",
          "text": [
            "float32\n"
          ]
        }
      ]
    },
    {
      "cell_type": "markdown",
      "source": [
        "Generating Array's"
      ],
      "metadata": {
        "id": "Jeg30oIoC-wG"
      }
    },
    {
      "cell_type": "code",
      "source": [
        "#generate an array's of zero with 2 rows and 3 columns\n",
        "a = np.zeros((2,3))\n",
        "print(a)"
      ],
      "metadata": {
        "colab": {
          "base_uri": "https://localhost:8080/"
        },
        "id": "_SzYuk1ZC-TT",
        "outputId": "dde902f3-1137-41d4-eab5-a571d87a18ad"
      },
      "execution_count": 16,
      "outputs": [
        {
          "output_type": "stream",
          "name": "stdout",
          "text": [
            "[[0. 0. 0.]\n",
            " [0. 0. 0.]]\n"
          ]
        }
      ]
    },
    {
      "cell_type": "code",
      "source": [
        "b = np.zeros(3)\n",
        "print(b)"
      ],
      "metadata": {
        "colab": {
          "base_uri": "https://localhost:8080/"
        },
        "id": "NEYsQqHLDGEE",
        "outputId": "71aa43e0-5a41-4b38-8932-6a44ec1c88d4"
      },
      "execution_count": 17,
      "outputs": [
        {
          "output_type": "stream",
          "name": "stdout",
          "text": [
            "[0. 0. 0.]\n"
          ]
        }
      ]
    },
    {
      "cell_type": "code",
      "source": [
        "#generate an array's of ones with 2 rows and 3cols\n",
        "c = np.ones((2,3))\n",
        "print(c)"
      ],
      "metadata": {
        "colab": {
          "base_uri": "https://localhost:8080/"
        },
        "id": "I6Jj9xLzDIe2",
        "outputId": "81c10960-2ec8-4150-9321-4ebef7d4b476"
      },
      "execution_count": 18,
      "outputs": [
        {
          "output_type": "stream",
          "name": "stdout",
          "text": [
            "[[1. 1. 1.]\n",
            " [1. 1. 1.]]\n"
          ]
        }
      ]
    },
    {
      "cell_type": "code",
      "source": [
        "#generate an array of specific number with particular rows and columns\n",
        "d = np.full((3,3),5)\n",
        "print(d)\n",
        "#np.full((rows,col),number)"
      ],
      "metadata": {
        "colab": {
          "base_uri": "https://localhost:8080/"
        },
        "id": "7SSaZU0GDK9k",
        "outputId": "76807f32-14c6-4adb-ca93-05c9cdc1c8c3"
      },
      "execution_count": 19,
      "outputs": [
        {
          "output_type": "stream",
          "name": "stdout",
          "text": [
            "[[5 5 5]\n",
            " [5 5 5]\n",
            " [5 5 5]]\n"
          ]
        }
      ]
    },
    {
      "cell_type": "code",
      "source": [
        "#generate an identity matrix\n",
        "e = np.eye(3)\n",
        "print(e)\n",
        "f = np.identity(3)\n",
        "print(f)"
      ],
      "metadata": {
        "colab": {
          "base_uri": "https://localhost:8080/"
        },
        "id": "Q4w60-gWDNX7",
        "outputId": "23689e13-5efc-4a74-94b8-5a3ddad5ad16"
      },
      "execution_count": 20,
      "outputs": [
        {
          "output_type": "stream",
          "name": "stdout",
          "text": [
            "[[1. 0. 0.]\n",
            " [0. 1. 0.]\n",
            " [0. 0. 1.]]\n",
            "[[1. 0. 0.]\n",
            " [0. 1. 0.]\n",
            " [0. 0. 1.]]\n"
          ]
        }
      ]
    },
    {
      "cell_type": "code",
      "source": [
        "#generate a range of numbers upto 9\n",
        "i = np.arange(10)\n",
        "print(i)"
      ],
      "metadata": {
        "colab": {
          "base_uri": "https://localhost:8080/"
        },
        "id": "yWkfStpLDRvn",
        "outputId": "7b7d5617-1a3c-4138-baae-f0a77c3f5cbe"
      },
      "execution_count": 21,
      "outputs": [
        {
          "output_type": "stream",
          "name": "stdout",
          "text": [
            "[0 1 2 3 4 5 6 7 8 9]\n"
          ]
        }
      ]
    },
    {
      "cell_type": "code",
      "source": [
        "#linspace:- splits the data into n equal parts\n",
        "j = np.linspace(0,10,5)\n",
        "print(j)\n",
        "#np.linspace(start,end,no of partitions)"
      ],
      "metadata": {
        "colab": {
          "base_uri": "https://localhost:8080/"
        },
        "id": "Ci4MwOtFDUGg",
        "outputId": "b92aa085-1253-41c7-a8f6-355adf9e55db"
      },
      "execution_count": 22,
      "outputs": [
        {
          "output_type": "stream",
          "name": "stdout",
          "text": [
            "[ 0.   2.5  5.   7.5 10. ]\n"
          ]
        }
      ]
    },
    {
      "cell_type": "markdown",
      "source": [
        "Random Numbers"
      ],
      "metadata": {
        "id": "Up4IAWpBDV8l"
      }
    },
    {
      "cell_type": "code",
      "source": [
        "#generate random numbers those are uniformly distributed from 0-1\n",
        "a = np.random.random((3,2))\n",
        "print(a)"
      ],
      "metadata": {
        "colab": {
          "base_uri": "https://localhost:8080/"
        },
        "id": "y6SgjJozDX13",
        "outputId": "000a39d2-9297-4e7e-8c80-7c287ce64a8e"
      },
      "execution_count": 23,
      "outputs": [
        {
          "output_type": "stream",
          "name": "stdout",
          "text": [
            "[[0.5405709  0.36721162]\n",
            " [0.13105412 0.77991612]\n",
            " [0.74390721 0.71248009]]\n"
          ]
        }
      ]
    },
    {
      "cell_type": "code",
      "source": [
        "#generate an array which is normally distributes or gussian distribution\n",
        "b = np.random.randn(3,2)\n",
        "print(b)\n",
        "print(b.mean(),b.std(),b.var())"
      ],
      "metadata": {
        "colab": {
          "base_uri": "https://localhost:8080/"
        },
        "id": "T0qHCMjSDZ8K",
        "outputId": "5e755fd6-6853-477e-b695-7322fddc14b7"
      },
      "execution_count": 24,
      "outputs": [
        {
          "output_type": "stream",
          "name": "stdout",
          "text": [
            "[[ 1.4522727  -0.47536107]\n",
            " [-0.3823876  -0.4950765 ]\n",
            " [ 0.32030192  1.00051301]]\n",
            "0.2367104098366705 0.7630873530897054 0.5823023084454527\n"
          ]
        }
      ]
    },
    {
      "cell_type": "code",
      "source": [
        "#generate an array of random numbers with 1000 and find the mean varience and std\n",
        "c = np.random.randn(1000)\n",
        "print(np.mean(c))\n",
        "print(np.var(c))\n",
        "print(np.std(c))"
      ],
      "metadata": {
        "colab": {
          "base_uri": "https://localhost:8080/"
        },
        "id": "CM36eqAeDcKT",
        "outputId": "07fc3ee5-5943-42b7-e8a4-0c2dfd6507bd"
      },
      "execution_count": 25,
      "outputs": [
        {
          "output_type": "stream",
          "name": "stdout",
          "text": [
            "-0.012364194447467324\n",
            "1.0604927729674563\n",
            "1.0298022980006678\n"
          ]
        }
      ]
    },
    {
      "cell_type": "code",
      "source": [
        "#generate an array of integers from 3,20 with 2 rows and 3 cols\n",
        "d = np.random.randint(3,20,size=(2,3))\n",
        "print(d)"
      ],
      "metadata": {
        "colab": {
          "base_uri": "https://localhost:8080/"
        },
        "id": "NUQoJKhpDfDQ",
        "outputId": "8c4a4dd8-17c6-4736-ef7a-808db3ea7f7e"
      },
      "execution_count": 26,
      "outputs": [
        {
          "output_type": "stream",
          "name": "stdout",
          "text": [
            "[[ 5 16 15]\n",
            " [10 16  4]]\n"
          ]
        }
      ]
    },
    {
      "cell_type": "code",
      "source": [
        "#generate an array of numbers upto 6 randomly with size of 10\n",
        "\n",
        "e = np.random.choice(6,size=10)\n",
        "print(e)"
      ],
      "metadata": {
        "colab": {
          "base_uri": "https://localhost:8080/"
        },
        "id": "JftyXCugDhKw",
        "outputId": "85a62a1c-c912-4a81-c81d-33e0d72d9d87"
      },
      "execution_count": 27,
      "outputs": [
        {
          "output_type": "stream",
          "name": "stdout",
          "text": [
            "[5 3 3 4 1 1 4 5 3 5]\n"
          ]
        }
      ]
    },
    {
      "cell_type": "code",
      "source": [
        "e = np.random.choice([3,5,7,9],size=10)\n",
        "print(e)"
      ],
      "metadata": {
        "colab": {
          "base_uri": "https://localhost:8080/"
        },
        "id": "oKSrjDlDDjZU",
        "outputId": "a6a56ef7-af64-4a71-cb0b-f3d26e06b1ab"
      },
      "execution_count": 28,
      "outputs": [
        {
          "output_type": "stream",
          "name": "stdout",
          "text": [
            "[3 7 7 9 3 7 7 7 7 5]\n"
          ]
        }
      ]
    },
    {
      "cell_type": "code",
      "source": [
        "#np.concatenate((arr1,arr2).axis=None,0,1)\n",
        "#np.hstack((arr1,arr2))\n",
        "#np.vstack((arr1,arr2))\n",
        "#np.copy()\n",
        "#change dtype of int64 and flot64-->np.array(l,dtype=np.int32)\n",
        "#np.zeros((row,col))\n",
        "#np.ones((row,col))\n",
        "#np.full(row,col,number)\n",
        "#np.eye(N)\n",
        "#np.linspace(start,end,no of partitions)\n",
        "#unifrom data-->np.random.random((row,col))\n",
        "#normal distribution--> np.random.randn(row,col)\n",
        "#how can you say a data is randomly distributed--> mean is zero, varience is equal to 1 and std is equal to 1\n",
        "#random_numbers_with specific size-->np.random.choice(range of numbers,size=number)\n",
        "#generate range of random integers-->np.random.randint(start,end, size=(row,col))\n"
      ],
      "metadata": {
        "id": "zp5LNQe2DrsK"
      },
      "execution_count": 29,
      "outputs": []
    }
  ]
}