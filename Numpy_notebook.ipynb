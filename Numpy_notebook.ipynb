{
  "nbformat": 4,
  "nbformat_minor": 0,
  "metadata": {
    "colab": {
      "provenance": [],
      "authorship_tag": "ABX9TyOhLyd+RjVx9wrOJQsl1IJt",
      "include_colab_link": true
    },
    "kernelspec": {
      "name": "python3",
      "display_name": "Python 3"
    },
    "language_info": {
      "name": "python"
    }
  },
  "cells": [
    {
      "cell_type": "markdown",
      "metadata": {
        "id": "view-in-github",
        "colab_type": "text"
      },
      "source": [
        "<a href=\"https://colab.research.google.com/github/Srikanth-9492/My_python_notebook/blob/main/Numpy_notebook.ipynb\" target=\"_parent\"><img src=\"https://colab.research.google.com/assets/colab-badge.svg\" alt=\"Open In Colab\"/></a>"
      ]
    },
    {
      "cell_type": "markdown",
      "source": [
        "27-05-2025"
      ],
      "metadata": {
        "id": "we3iIWYZwDIL"
      }
    },
    {
      "cell_type": "markdown",
      "source": [
        "**Numpy Introduction**"
      ],
      "metadata": {
        "id": "bcQXlh4Dx-3s"
      }
    },
    {
      "cell_type": "code",
      "source": [
        "#what is Numpy?\n",
        "#numpy is a core library for scientific computing in python\n",
        "#what is the central object in numpy?\n",
        "#Numpy - Array's\n",
        "#what is Numpy?\n",
        "#Array's are high performance multi dimensional objects which is designed for mathematical operations\n",
        "#Array's are ordered, imuttable, and allows duplicate data\n"
      ],
      "metadata": {
        "id": "glcEsZhEx9tR"
      },
      "execution_count": null,
      "outputs": []
    },
    {
      "cell_type": "code",
      "execution_count": null,
      "metadata": {
        "id": "GdipuVs_v_Es"
      },
      "outputs": [],
      "source": [
        "#what are all different use cases of numpy?\n",
        "\"\"\"1.  Dot Product/ Inner product\n",
        "   2. Matric multiplication\n",
        "   3. element wise matrix multiplication\n",
        "   4. solving linear systems\n",
        "   5. inverse\n",
        "   6. determinent\n",
        "   7. choose the random numbers\n",
        "   8. statistics\n",
        "   9. Broadcasting method \"\"\"\n",
        ""
      ]
    },
    {
      "cell_type": "markdown",
      "source": [
        "** Installation of Numpy**\n",
        "\n",
        " what is pip?\n",
        "\n",
        " python package manager\n",
        "\n",
        "\n",
        " package ---> modules---> libraries----> inbuilt codes"
      ],
      "metadata": {
        "id": "qgC6tMXVzuE3"
      }
    },
    {
      "cell_type": "code",
      "source": [
        "!pip install Numpy"
      ],
      "metadata": {
        "colab": {
          "base_uri": "https://localhost:8080/"
        },
        "id": "KKNUlgLgz-Wn",
        "outputId": "4bb40ba9-d78c-4163-8236-f28839905641"
      },
      "execution_count": 1,
      "outputs": [
        {
          "output_type": "stream",
          "name": "stdout",
          "text": [
            "Requirement already satisfied: Numpy in /usr/local/lib/python3.11/dist-packages (2.0.2)\n"
          ]
        }
      ]
    },
    {
      "cell_type": "code",
      "source": [
        "import numpy as np\n"
      ],
      "metadata": {
        "id": "auQxcBbQ0HzE"
      },
      "execution_count": 2,
      "outputs": []
    },
    {
      "cell_type": "code",
      "source": [
        "#check the version of numpy?\n",
        "np.__version__"
      ],
      "metadata": {
        "colab": {
          "base_uri": "https://localhost:8080/",
          "height": 36
        },
        "id": "I4kdUgNq0Og-",
        "outputId": "8f7fa17c-2fa2-4e7d-a865-532bc9b10e54"
      },
      "execution_count": 3,
      "outputs": [
        {
          "output_type": "execute_result",
          "data": {
            "text/plain": [
              "'2.0.2'"
            ],
            "application/vnd.google.colaboratory.intrinsic+json": {
              "type": "string"
            }
          },
          "metadata": {},
          "execution_count": 3
        }
      ]
    },
    {
      "cell_type": "code",
      "source": [
        "#How many types of data structures do we have in numpy?\n",
        "#There are 3 types\n",
        "#1D--- Array's ---> Array's with zero columns and specific rows(axis 0)\n",
        "#2D--- Array's ---> Array's with both rows(axis 0) and columns(axis 1)\n",
        "#3D--- Array's ---> also known as Multidimensional arrays\n"
      ],
      "metadata": {
        "id": "BHUeHETa0X07"
      },
      "execution_count": 4,
      "outputs": []
    },
    {
      "cell_type": "markdown",
      "source": [
        "**Central object in Numpy in Array**"
      ],
      "metadata": {
        "id": "zFwUW5xN1x_O"
      }
    },
    {
      "cell_type": "code",
      "source": [
        "#How can we create an array?\n",
        "#Array's can be created from existing data\n",
        "#1D --- Array\n",
        "l = [1,2,3,4,5,6]\n",
        "a = np.array(l)\n",
        "print(a)"
      ],
      "metadata": {
        "colab": {
          "base_uri": "https://localhost:8080/"
        },
        "id": "SZKT4A_F1D4F",
        "outputId": "b093114a-b9e7-42be-cc81-faddc4a5c69f"
      },
      "execution_count": 5,
      "outputs": [
        {
          "output_type": "stream",
          "name": "stdout",
          "text": [
            "[1 2 3 4 5 6]\n"
          ]
        }
      ]
    },
    {
      "cell_type": "code",
      "source": [
        "a = np.array([1,2,3,4,5,6])\n",
        "print(a)\n",
        "print(type(a))"
      ],
      "metadata": {
        "colab": {
          "base_uri": "https://localhost:8080/"
        },
        "id": "zOU3q7lw2Tq3",
        "outputId": "92056a71-6f53-42e9-8646-804af4a0f5d4"
      },
      "execution_count": 6,
      "outputs": [
        {
          "output_type": "stream",
          "name": "stdout",
          "text": [
            "[1 2 3 4 5 6]\n",
            "<class 'numpy.ndarray'>\n"
          ]
        }
      ]
    },
    {
      "cell_type": "code",
      "source": [
        "#I want to see the shape of the array\n",
        "a.shape\n",
        "#find the dtype of elements in the numpy array\n",
        "a.dtype\n",
        "#Find the dimensionality of an array\n",
        "a.ndim\n",
        "#Find the total no of elements present in array\n",
        "a.size\n",
        "#Find the memory size in bytes occupied by each element in array\n",
        "a.itemsize"
      ],
      "metadata": {
        "colab": {
          "base_uri": "https://localhost:8080/"
        },
        "id": "NKt_NcBI2dJe",
        "outputId": "65050d1a-d270-4676-a111-fa904c5855cf"
      },
      "execution_count": 13,
      "outputs": [
        {
          "output_type": "execute_result",
          "data": {
            "text/plain": [
              "8"
            ]
          },
          "metadata": {},
          "execution_count": 13
        }
      ]
    },
    {
      "cell_type": "markdown",
      "source": [
        "**Essential methods to create an array**"
      ],
      "metadata": {
        "id": "VGCF0_dX3b68"
      }
    },
    {
      "cell_type": "code",
      "source": [
        "t = (1,2,3,4,5,6)\n",
        "b = np.array(t)\n",
        "print(b)\n",
        "print(type(b))"
      ],
      "metadata": {
        "colab": {
          "base_uri": "https://localhost:8080/"
        },
        "id": "GYUhpCz_2o_l",
        "outputId": "16501bb5-939b-4d68-d958-7ea308772f65"
      },
      "execution_count": 14,
      "outputs": [
        {
          "output_type": "stream",
          "name": "stdout",
          "text": [
            "[1 2 3 4 5 6]\n",
            "<class 'numpy.ndarray'>\n"
          ]
        }
      ]
    },
    {
      "cell_type": "code",
      "source": [
        "#create an array from dictionary?\n",
        "d1 ={\n",
        "     'name':'Medha',\n",
        "     'course':'data science'\n",
        "}\n",
        "c = np.array(d1)\n",
        "print(c)"
      ],
      "metadata": {
        "colab": {
          "base_uri": "https://localhost:8080/"
        },
        "id": "y9b9gasN350V",
        "outputId": "6c187cc9-32a4-4d71-d265-714bbe292eb9"
      },
      "execution_count": 19,
      "outputs": [
        {
          "output_type": "stream",
          "name": "stdout",
          "text": [
            "{'name': 'Medha', 'course': 'data science'}\n"
          ]
        }
      ]
    },
    {
      "cell_type": "code",
      "source": [
        "#create an array from the set?\n",
        "s = {1,2,3,4,5,6,7,8}\n",
        "d = np.array(s)\n",
        "print(d)"
      ],
      "metadata": {
        "colab": {
          "base_uri": "https://localhost:8080/"
        },
        "id": "-Afgq5BQ4fgP",
        "outputId": "999a9fc5-1d58-446e-8884-259dea6f6e44"
      },
      "execution_count": 20,
      "outputs": [
        {
          "output_type": "stream",
          "name": "stdout",
          "text": [
            "{1, 2, 3, 4, 5, 6, 7, 8}\n"
          ]
        }
      ]
    },
    {
      "cell_type": "markdown",
      "source": [
        "**Essential methods to access an array**"
      ],
      "metadata": {
        "id": "T2k3ILXb4vBQ"
      }
    },
    {
      "cell_type": "code",
      "source": [
        "a = np.array([1,2,3,4])\n",
        "#print the list value\n",
        "print(a[0])\n",
        "#print 2,3 from above array\n",
        "print(a[1:3])\n",
        "#reverse the above array\n",
        "print(a[::-1])"
      ],
      "metadata": {
        "colab": {
          "base_uri": "https://localhost:8080/"
        },
        "id": "zeemtRxc4tZq",
        "outputId": "55b5eb2f-2490-4e8f-e4d1-677b852e4532"
      },
      "execution_count": 24,
      "outputs": [
        {
          "output_type": "stream",
          "name": "stdout",
          "text": [
            "1\n",
            "[2 3]\n",
            "[4 3 2 1]\n"
          ]
        }
      ]
    },
    {
      "cell_type": "code",
      "source": [
        "#Array's are immutable we can replace the data but we cannot add new elements and we cannot remove elements from arrays.\n",
        "a[2] = 5\n",
        "print(a)"
      ],
      "metadata": {
        "colab": {
          "base_uri": "https://localhost:8080/"
        },
        "id": "6KMCuyYv5Lo0",
        "outputId": "cea8d786-be34-4aba-9d7c-fbce3b2cec78"
      },
      "execution_count": 25,
      "outputs": [
        {
          "output_type": "stream",
          "name": "stdout",
          "text": [
            "[1 2 5 4]\n"
          ]
        }
      ]
    },
    {
      "cell_type": "code",
      "source": [
        "#How can we add the new elements to the array?---> we can add by creating a new variable\n"
      ],
      "metadata": {
        "id": "oYhE_5Dt5obP"
      },
      "execution_count": null,
      "outputs": []
    },
    {
      "cell_type": "markdown",
      "source": [
        "**Element wise maths operation**"
      ],
      "metadata": {
        "id": "XgKBI1QI53x0"
      }
    },
    {
      "cell_type": "code",
      "source": [
        "b = np.array([6,7,8,9])\n",
        "print(a+b)\n",
        "#what is vector addition?\n",
        "#when we apply addition on array of same length n dimensions---> is known as vector addition\n",
        "#Note:-"
      ],
      "metadata": {
        "colab": {
          "base_uri": "https://localhost:8080/"
        },
        "id": "3hiffuQl59m5",
        "outputId": "f3f7c387-835a-4257-e77c-0ab96724ed33"
      },
      "execution_count": 26,
      "outputs": [
        {
          "output_type": "stream",
          "name": "stdout",
          "text": [
            "[ 7  9 13 13]\n"
          ]
        }
      ]
    },
    {
      "cell_type": "code",
      "source": [
        "c = np.array([9])\n",
        "print(b+c)\n",
        "#What is broadcasting method?\n",
        "#Adding a single element of an array with multiply elements in another array of same dimension is known as Broadcasting method\n"
      ],
      "metadata": {
        "colab": {
          "base_uri": "https://localhost:8080/"
        },
        "id": "qrk6cf6O6_h-",
        "outputId": "d40973d3-287a-49c3-e51e-f076f144fff7"
      },
      "execution_count": 31,
      "outputs": [
        {
          "output_type": "stream",
          "name": "stdout",
          "text": [
            "[15 16 17 18]\n"
          ]
        }
      ]
    },
    {
      "cell_type": "markdown",
      "source": [
        "**Difference between Array and list**\n"
      ],
      "metadata": {
        "id": "yq4K73EL7pQ2"
      }
    },
    {
      "cell_type": "code",
      "source": [
        "l = [1,2,3]\n",
        "a = np.array(l)\n",
        "print(dir(a))"
      ],
      "metadata": {
        "colab": {
          "base_uri": "https://localhost:8080/"
        },
        "id": "rWwhDJd27s9S",
        "outputId": "6acffc9c-563f-4ed4-9789-6433a088b0b1"
      },
      "execution_count": 35,
      "outputs": [
        {
          "output_type": "stream",
          "name": "stdout",
          "text": [
            "['T', '__abs__', '__add__', '__and__', '__array__', '__array_finalize__', '__array_function__', '__array_interface__', '__array_namespace__', '__array_priority__', '__array_struct__', '__array_ufunc__', '__array_wrap__', '__bool__', '__class__', '__class_getitem__', '__complex__', '__contains__', '__copy__', '__deepcopy__', '__delattr__', '__delitem__', '__dir__', '__divmod__', '__dlpack__', '__dlpack_device__', '__doc__', '__eq__', '__float__', '__floordiv__', '__format__', '__ge__', '__getattribute__', '__getitem__', '__getstate__', '__gt__', '__hash__', '__iadd__', '__iand__', '__ifloordiv__', '__ilshift__', '__imatmul__', '__imod__', '__imul__', '__index__', '__init__', '__init_subclass__', '__int__', '__invert__', '__ior__', '__ipow__', '__irshift__', '__isub__', '__iter__', '__itruediv__', '__ixor__', '__le__', '__len__', '__lshift__', '__lt__', '__matmul__', '__mod__', '__mul__', '__ne__', '__neg__', '__new__', '__or__', '__pos__', '__pow__', '__radd__', '__rand__', '__rdivmod__', '__reduce__', '__reduce_ex__', '__repr__', '__rfloordiv__', '__rlshift__', '__rmatmul__', '__rmod__', '__rmul__', '__ror__', '__rpow__', '__rrshift__', '__rshift__', '__rsub__', '__rtruediv__', '__rxor__', '__setattr__', '__setitem__', '__setstate__', '__sizeof__', '__str__', '__sub__', '__subclasshook__', '__truediv__', '__xor__', 'all', 'any', 'argmax', 'argmin', 'argpartition', 'argsort', 'astype', 'base', 'byteswap', 'choose', 'clip', 'compress', 'conj', 'conjugate', 'copy', 'ctypes', 'cumprod', 'cumsum', 'data', 'device', 'diagonal', 'dot', 'dtype', 'dump', 'dumps', 'fill', 'flags', 'flat', 'flatten', 'getfield', 'imag', 'item', 'itemset', 'itemsize', 'mT', 'max', 'mean', 'min', 'nbytes', 'ndim', 'newbyteorder', 'nonzero', 'partition', 'prod', 'ptp', 'put', 'ravel', 'real', 'repeat', 'reshape', 'resize', 'round', 'searchsorted', 'setfield', 'setflags', 'shape', 'size', 'sort', 'squeeze', 'std', 'strides', 'sum', 'swapaxes', 'take', 'to_device', 'tobytes', 'tofile', 'tolist', 'tostring', 'trace', 'transpose', 'var', 'view']\n"
          ]
        }
      ]
    },
    {
      "cell_type": "code",
      "source": [
        "#adding the elements in the list:\n",
        "l.append(4)\n",
        "print(l)"
      ],
      "metadata": {
        "colab": {
          "base_uri": "https://localhost:8080/"
        },
        "id": "6FwWGrRB78Ft",
        "outputId": "b51ed5aa-4796-43c9-d2af-d40820b428af"
      },
      "execution_count": 33,
      "outputs": [
        {
          "output_type": "stream",
          "name": "stdout",
          "text": [
            "[1, 2, 3, 4]\n"
          ]
        }
      ]
    },
    {
      "cell_type": "code",
      "source": [
        "#add the element  in an array\n",
        "b = np.array([5,6,7,8])\n",
        "c = np.append(a,b)\n",
        "print(c)"
      ],
      "metadata": {
        "colab": {
          "base_uri": "https://localhost:8080/"
        },
        "id": "otboOgGv8GIs",
        "outputId": "accd49de-1ea3-4653-8216-ca1ce4ceefdb"
      },
      "execution_count": 34,
      "outputs": [
        {
          "output_type": "stream",
          "name": "stdout",
          "text": [
            "[1 2 3 5 6 7 8]\n"
          ]
        }
      ]
    },
    {
      "cell_type": "code",
      "source": [
        "\"MISD---> Multiple input and single destination\"\n"
      ],
      "metadata": {
        "id": "Mp1PX0jg9SBo"
      },
      "execution_count": null,
      "outputs": []
    },
    {
      "cell_type": "code",
      "source": [
        "#find the sort of below array's?\n",
        "a = np.array([10,20,30,40,50,60])\n",
        "print(np.sqrt(a))"
      ],
      "metadata": {
        "colab": {
          "base_uri": "https://localhost:8080/"
        },
        "id": "_IefKdt-99YD",
        "outputId": "c6763885-206c-42b9-d654-49395fcfe3a7"
      },
      "execution_count": 36,
      "outputs": [
        {
          "output_type": "stream",
          "name": "stdout",
          "text": [
            "[3.16227766 4.47213595 5.47722558 6.32455532 7.07106781 7.74596669]\n"
          ]
        }
      ]
    },
    {
      "cell_type": "markdown",
      "source": [
        "**Dot Product**"
      ],
      "metadata": {
        "id": "JVabqnvO-Qi1"
      }
    },
    {
      "cell_type": "code",
      "source": [
        "a = np.array([1,2])\n",
        "b = np.array([3,4])\n",
        "dot = 0\n",
        "for i in range(len(a)):\n",
        "  dot = dot + a[i]*b[i]\n",
        "print(dot)"
      ],
      "metadata": {
        "colab": {
          "base_uri": "https://localhost:8080/"
        },
        "id": "RANJQ9Dg-LHr",
        "outputId": "1b95d107-1661-4094-c6ce-ba5c4904ddb9"
      },
      "execution_count": 37,
      "outputs": [
        {
          "output_type": "stream",
          "name": "stdout",
          "text": [
            "11\n"
          ]
        }
      ]
    },
    {
      "cell_type": "code",
      "source": [
        "#dot product is vector multiplication of elements and sum of the result\n",
        "dot = np.dot(a,b)\n",
        "print(dot)"
      ],
      "metadata": {
        "colab": {
          "base_uri": "https://localhost:8080/"
        },
        "id": "GlWQMrWq-1cC",
        "outputId": "fd16185a-48e3-4a17-ba30-e72275a5f05a"
      },
      "execution_count": 39,
      "outputs": [
        {
          "output_type": "stream",
          "name": "stdout",
          "text": [
            "11\n"
          ]
        }
      ]
    },
    {
      "cell_type": "code",
      "source": [
        "#manual method\n",
        "c = a*b\n",
        "d = np.sum(c)\n",
        "print(d)"
      ],
      "metadata": {
        "colab": {
          "base_uri": "https://localhost:8080/"
        },
        "id": "uuTKeBwq_I3D",
        "outputId": "7e96179b-b5c6-4970-82d9-66558f2367bd"
      },
      "execution_count": 40,
      "outputs": [
        {
          "output_type": "stream",
          "name": "stdout",
          "text": [
            "11\n"
          ]
        }
      ]
    },
    {
      "cell_type": "code",
      "source": [
        "#another method\n",
        "e = a.dot(b)\n",
        "print(e)"
      ],
      "metadata": {
        "colab": {
          "base_uri": "https://localhost:8080/"
        },
        "id": "YBU8VFw6_QUH",
        "outputId": "860b4358-b14d-4e0f-c7a9-318536e1bc67"
      },
      "execution_count": 41,
      "outputs": [
        {
          "output_type": "stream",
          "name": "stdout",
          "text": [
            "11\n"
          ]
        }
      ]
    },
    {
      "cell_type": "code",
      "source": [
        "f = a@b\n",
        "print(f)"
      ],
      "metadata": {
        "colab": {
          "base_uri": "https://localhost:8080/"
        },
        "id": "Ghzopyxe_WhX",
        "outputId": "98e4c98e-8613-4b12-9fbb-cc2d6f4f1cc8"
      },
      "execution_count": 42,
      "outputs": [
        {
          "output_type": "stream",
          "name": "stdout",
          "text": [
            "11\n"
          ]
        }
      ]
    },
    {
      "cell_type": "markdown",
      "source": [
        "**Speed test b/w Array vs List**"
      ],
      "metadata": {
        "id": "chnX6IWOAOlX"
      }
    },
    {
      "cell_type": "code",
      "source": [
        "#import a time calculator to see the difference\n",
        "from timeit import default_timer as timer\n",
        "#create an random array\n",
        "a = np.random.randn(1000)\n",
        "b = np.random.randn(1000)\n",
        "#convert the above array's\n",
        "c = list(a)\n",
        "d = list(b)\n",
        "T = 1000\n",
        "def dot1():\n",
        "  dot = 0\n",
        "  for i in range(len(c)):\n",
        "    dot += c[i]*d[i]\n",
        "  return dot\n",
        "def dot2():\n",
        "  return np.dot(a,b)\n",
        "#take the timer\n",
        "start = timer()\n",
        "for i in range(T):\n",
        "  dot1()\n",
        "end = timer()\n",
        "t1 = end - start\n",
        "\n",
        "\n",
        "#create timer for numpy array\n",
        "start = timer()\n",
        "for i in range(T):\n",
        "  dot2()\n",
        "end = timer()\n",
        "t2 = end - start\n",
        "\n",
        "\n",
        "\n",
        "print('time with list',t1)\n",
        "print('time with list',t2)\n",
        "print(t1/t2)"
      ],
      "metadata": {
        "colab": {
          "base_uri": "https://localhost:8080/"
        },
        "id": "Gzhck3MCAUOP",
        "outputId": "9b704914-01a4-49d6-d65d-a5dcacc68af7"
      },
      "execution_count": 45,
      "outputs": [
        {
          "output_type": "stream",
          "name": "stdout",
          "text": [
            "time with list 0.16525554500003636\n",
            "time with list 0.001770008000676171\n",
            "93.36429266811571\n"
          ]
        }
      ]
    },
    {
      "cell_type": "code",
      "source": [
        "#import a time calculator to see the difference\n",
        "from timeit import default_timer as timer\n",
        "#create an random array\n",
        "a = np.random.randn(1000)\n",
        "b = np.random.randn(1000)\n",
        "#convert the above array's\n",
        "c = tuple(a)\n",
        "d = tuple(b)\n",
        "T = 1000\n",
        "def dot1():\n",
        "  dot = 0\n",
        "  for i in range(len(c)):\n",
        "    dot += c[i]*d[i]\n",
        "  return dot\n",
        "def dot2():\n",
        "  return np.dot(a,b)\n",
        "#take the timer\n",
        "start = timer()\n",
        "for i in range(T):\n",
        "  dot1()\n",
        "end = timer()\n",
        "t1 = end - start\n",
        "\n",
        "\n",
        "#create timer for numpy array\n",
        "start = timer()\n",
        "for i in range(T):\n",
        "  dot2()\n",
        "end = timer()\n",
        "t2 = end - start\n",
        "\n",
        "\n",
        "\n",
        "print('time with tuple',t1)\n",
        "print('time with tuple',t2)\n",
        "print(t1/t2)"
      ],
      "metadata": {
        "colab": {
          "base_uri": "https://localhost:8080/"
        },
        "id": "LEzs33J8CZoS",
        "outputId": "652d858b-6301-4a78-9da5-c0d66f278a73"
      },
      "execution_count": 46,
      "outputs": [
        {
          "output_type": "stream",
          "name": "stdout",
          "text": [
            "time with tuple 0.184995235000315\n",
            "time with tuple 0.0019006630000149016\n",
            "97.33194942968038\n"
          ]
        }
      ]
    }
  ]
}