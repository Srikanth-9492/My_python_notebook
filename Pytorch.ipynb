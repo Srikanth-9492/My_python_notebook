{
  "nbformat": 4,
  "nbformat_minor": 0,
  "metadata": {
    "colab": {
      "provenance": [],
      "authorship_tag": "ABX9TyO12svP5ZXNe/uDo21USUAk",
      "include_colab_link": true
    },
    "kernelspec": {
      "name": "python3",
      "display_name": "Python 3"
    },
    "language_info": {
      "name": "python"
    }
  },
  "cells": [
    {
      "cell_type": "markdown",
      "metadata": {
        "id": "view-in-github",
        "colab_type": "text"
      },
      "source": [
        "<a href=\"https://colab.research.google.com/github/Srikanth-9492/My_python_notebook/blob/main/Pytorch.ipynb\" target=\"_parent\"><img src=\"https://colab.research.google.com/assets/colab-badge.svg\" alt=\"Open In Colab\"/></a>"
      ]
    },
    {
      "cell_type": "markdown",
      "source": [
        "Import required libraries"
      ],
      "metadata": {
        "id": "NQH2OoR5M25m"
      }
    },
    {
      "cell_type": "code",
      "execution_count": 1,
      "metadata": {
        "id": "pfYQWaRmMo7A"
      },
      "outputs": [],
      "source": [
        "import torch\n",
        "import torch.nn as nn\n",
        "import torch.optim as optim\n",
        "import matplotlib.pyplot as plt"
      ]
    },
    {
      "cell_type": "code",
      "source": [
        "#x = -1 x = +1\n",
        "#create 100 samples\n",
        "n_samples = 100\n",
        "x0 = torch.randn(n_samples,2) * 0.5 + torch.tensor([-1.0,-1.0])\n",
        "x1 = torch.randn(n_samples,2) * 0.5 + torch.tensor([1.0,1.0])\n",
        "\n",
        "#define the features and labels\n",
        "X = torch.cat([x0,x1],dim=0) #features (200,2)\n",
        "y = torch.cat([torch.zeros(n_samples),torch.ones(n_samples)])     #class1 and class 0\n",
        "\n",
        "print(\"shape of data:\",X.shape,y.shape)"
      ],
      "metadata": {
        "colab": {
          "base_uri": "https://localhost:8080/"
        },
        "id": "rcvVf2EjM7I2",
        "outputId": "50911824-381f-4d73-ad27-83577ad5b245"
      },
      "execution_count": 2,
      "outputs": [
        {
          "output_type": "stream",
          "name": "stdout",
          "text": [
            "shape of data: torch.Size([200, 2]) torch.Size([200])\n"
          ]
        }
      ]
    },
    {
      "cell_type": "markdown",
      "source": [
        "**define the neural network**\n",
        "\n",
        "input 2 features\n",
        "\n",
        "Hidden layers 4\n",
        "\n",
        "output 2 clases  (0 or 1)"
      ],
      "metadata": {
        "id": "R75RY5tsNBBz"
      }
    },
    {
      "cell_type": "code",
      "source": [
        "class simpleNN(nn.Module):\n",
        "  def __init__(self):\n",
        "    super(simpleNN,self).__init__()\n",
        "    self.fc1 = nn.Linear(2,4)  #input\n",
        "    self.fc2 = nn.Linear(4,2)  #output(2clases)\n",
        "\n",
        "  def forward(self,x):\n",
        "    x = torch.relu(self.fc1(x))\n",
        "    x = self.fc2(x)\n",
        "    return x\n",
        "\n",
        "model = simpleNN()\n",
        "print(model)"
      ],
      "metadata": {
        "colab": {
          "base_uri": "https://localhost:8080/"
        },
        "id": "getvyCzXM9mC",
        "outputId": "30badaee-7c57-4fd4-e485-4d924e575206"
      },
      "execution_count": 3,
      "outputs": [
        {
          "output_type": "stream",
          "name": "stdout",
          "text": [
            "simpleNN(\n",
            "  (fc1): Linear(in_features=2, out_features=4, bias=True)\n",
            "  (fc2): Linear(in_features=4, out_features=2, bias=True)\n",
            ")\n"
          ]
        }
      ]
    },
    {
      "cell_type": "markdown",
      "source": [
        "Loss function and Optimizer"
      ],
      "metadata": {
        "id": "BoHjWJ2vNGk6"
      }
    },
    {
      "cell_type": "code",
      "source": [
        "criterion = nn.CrossEntropyLoss()\n",
        "optimizer = optim.SGD(model.parameters(), lr = 0.1)"
      ],
      "metadata": {
        "id": "X6cwGKwDNEfy"
      },
      "execution_count": 4,
      "outputs": []
    },
    {
      "cell_type": "code",
      "source": [
        "#training\n",
        "epochs = 50\n",
        "losses = []\n",
        "for epoch in range(epochs):\n",
        "  #forward pass\n",
        "  outputs = model(X)\n",
        "  loss = criterion(outputs,y.long())   #long()  is used to check labels are integers or not\n",
        "\n",
        "  #backward pass\n",
        "  optimizer.zero_grad()\n",
        "  loss.backward()\n",
        "  optimizer.step()\n",
        "\n",
        "  losses.append(loss.item())\n",
        "  if (epoch+1) %10 ==0:\n",
        "    print(f\"Epoch [{epoch+1}/{epochs}], Loss: {loss.item():.4f}\")"
      ],
      "metadata": {
        "colab": {
          "base_uri": "https://localhost:8080/"
        },
        "id": "PVQhMVlENNX7",
        "outputId": "d3bd6329-76df-41cb-967e-09df4fb5c24e"
      },
      "execution_count": 5,
      "outputs": [
        {
          "output_type": "stream",
          "name": "stdout",
          "text": [
            "Epoch [10/50], Loss: 0.5307\n",
            "Epoch [20/50], Loss: 0.3852\n",
            "Epoch [30/50], Loss: 0.2857\n",
            "Epoch [40/50], Loss: 0.2114\n",
            "Epoch [50/50], Loss: 0.1546\n"
          ]
        }
      ]
    },
    {
      "cell_type": "code",
      "source": [
        "plt.plot(losses)\n",
        "plt.xlabel(\"Epoch\")\n",
        "plt.ylabel(\"Loss\")\n",
        "plt.title(\"Training loss curve\")\n",
        "plt.show()"
      ],
      "metadata": {
        "colab": {
          "base_uri": "https://localhost:8080/",
          "height": 472
        },
        "id": "CHcuCX_FNgZg",
        "outputId": "b1719c0c-c51f-4f63-d34a-73c396759c72"
      },
      "execution_count": 6,
      "outputs": [
        {
          "output_type": "display_data",
          "data": {
            "text/plain": [
              "<Figure size 640x480 with 1 Axes>"
            ],
            "image/png": "[encoded data removed]"
          },
          "metadata": {}
        }
      ]
    },
    {
      "cell_type": "code",
      "source": [],
      "metadata": {
        "id": "S6ZJdwy7NqQu"
      },
      "execution_count": null,
      "outputs": []
    }
  ]
}