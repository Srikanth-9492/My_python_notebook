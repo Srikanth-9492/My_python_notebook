{
  "nbformat": 4,
  "nbformat_minor": 0,
  "metadata": {
    "colab": {
      "provenance": [],
      "include_colab_link": true
    },
    "kernelspec": {
      "name": "python3",
      "display_name": "Python 3"
    },
    "language_info": {
      "name": "python"
    }
  },
  "cells": [
    {
      "cell_type": "markdown",
      "metadata": {
        "id": "view-in-github",
        "colab_type": "text"
      },
      "source": [
        "<a href=\"https://colab.research.google.com/github/Srikanth-9492/My_python_notebook/blob/main/Srikanth.ipynb\" target=\"_parent\"><img src=\"https://colab.research.google.com/assets/colab-badge.svg\" alt=\"Open In Colab\"/></a>"
      ]
    },
    {
      "cell_type": "markdown",
      "source": [
        "#Module1_Python29-04-2025"
      ],
      "metadata": {
        "id": "BvLs0iu9lZ-U"
      }
    },
    {
      "cell_type": "code",
      "execution_count": null,
      "metadata": {
        "id": "TMvEFv2YkTB9"
      },
      "outputs": [],
      "source": [
        "#what is python\n",
        "\"\"\"1.Python is most emerging,general purposing programming language\n",
        "   2. Python is high level programming language\n",
        "   3.Python is a dynamcally typed programming language\n",
        "   4.Python is object oriented programming language\n",
        "   5.Python is interpreted programming language \"\"\"\n",
        "#what is comment?\n",
        "#for better understanding of the code we use comments\n",
        "#comments are 2 types\n",
        "#1.Single line comment\n",
        "#2.multiline comment-->double triple quotes(\"\"\" \"\"\")"
      ]
    },
    {
      "cell_type": "code",
      "source": [
        "#print \"Hello world!\" in python?\n",
        "print(\"Hello world!\")\n",
        "#print()-->it is inbuilt function used to execute and display the result"
      ],
      "metadata": {
        "colab": {
          "base_uri": "https://localhost:8080/"
        },
        "id": "n7fT5_rJnYQy",
        "outputId": "075bd298-64d3-4f2d-dd42-2dbc4b783948"
      },
      "execution_count": null,
      "outputs": [
        {
          "output_type": "stream",
          "name": "stdout",
          "text": [
            "Hello world!\n"
          ]
        }
      ]
    },
    {
      "cell_type": "markdown",
      "source": [
        "Numerical data types"
      ],
      "metadata": {
        "id": "jGrJBsfMn_jn"
      }
    },
    {
      "cell_type": "code",
      "source": [
        "#How many types of Numerical data types/\n",
        "#there are 3 types\n",
        "#1.Integer--->int-->a whole number eithe +ve or -ve without decimal point is known as integer\n",
        "print(20)\n",
        "print(5)\n",
        "#find the type for above elements\n",
        "#type()--- is an inbuilt function used to print the data type of the object\n",
        "print(type(10))\n",
        "print(type(5))"
      ],
      "metadata": {
        "colab": {
          "base_uri": "https://localhost:8080/"
        },
        "id": "lpjP62hfoGFq",
        "outputId": "c53a4ab9-cdad-48a8-d95d-9720f12c962e"
      },
      "execution_count": null,
      "outputs": [
        {
          "output_type": "stream",
          "name": "stdout",
          "text": [
            "20\n",
            "5\n",
            "<class 'int'>\n",
            "<class 'int'>\n"
          ]
        }
      ]
    },
    {
      "cell_type": "code",
      "source": [
        "#float----> #float---> A whole number either +ve or -ve with decimal point is known as float\n",
        "print(10.5)\n",
        "print(-5.5)\n",
        "#find the type for above elements\n",
        "print(type(10.5))\n",
        "print(type(-5.5))"
      ],
      "metadata": {
        "colab": {
          "base_uri": "https://localhost:8080/"
        },
        "id": "5W3ccuUbpS6a",
        "outputId": "a3616b1a-03c6-47b0-ad14-2cda2c4ce3eb"
      },
      "execution_count": null,
      "outputs": [
        {
          "output_type": "stream",
          "name": "stdout",
          "text": [
            "10.5\n",
            "-5.5\n",
            "<class 'float'>\n",
            "<class 'float'>\n"
          ]
        }
      ]
    },
    {
      "cell_type": "code",
      "source": [
        "#3.Complex numbers----->complex----> A REAL NUMBER withits imaginary part is known as complex number\n",
        "#imaginary is denoted with letter 'i'---->is known as iota\n",
        "print(2+5j)\n",
        "print(6j+3)\n",
        "print(type(2+5j))\n",
        "print(type(6j+3))"
      ],
      "metadata": {
        "colab": {
          "base_uri": "https://localhost:8080/"
        },
        "id": "TRvyXYgqqCia",
        "outputId": "cdc3af5d-8834-4b85-be2f-d1a370293314"
      },
      "execution_count": null,
      "outputs": [
        {
          "output_type": "stream",
          "name": "stdout",
          "text": [
            "(2+5j)\n",
            "(3+6j)\n",
            "<class 'complex'>\n",
            "<class 'complex'>\n"
          ]
        }
      ]
    },
    {
      "cell_type": "markdown",
      "source": [
        "Arthemetic Operators\n"
      ],
      "metadata": {
        "id": "IAALqlE7rmZj"
      }
    },
    {
      "cell_type": "code",
      "source": [
        "#How many types of arthimetic operators do we have in Python?\n",
        "#There are 7 types of arithemetic operators\n",
        "#1.Addition----->\n",
        "print(10+5)\n",
        "print(type(10+5))"
      ],
      "metadata": {
        "colab": {
          "base_uri": "https://localhost:8080/"
        },
        "collapsed": true,
        "id": "V-VfMrBcr3s8",
        "outputId": "38f52667-a573-4579-87f3-0a7bd7d2bdfd"
      },
      "execution_count": null,
      "outputs": [
        {
          "output_type": "stream",
          "name": "stdout",
          "text": [
            "15\n",
            "<class 'int'>\n"
          ]
        }
      ]
    },
    {
      "cell_type": "code",
      "source": [
        "#2.Substraction------>\n",
        "print(10-5)\n",
        "print(type(10-5))"
      ],
      "metadata": {
        "colab": {
          "base_uri": "https://localhost:8080/"
        },
        "collapsed": true,
        "id": "RF7gfK9LsI2E",
        "outputId": "608f5a57-bd27-4c6b-9cc8-0e723262308d"
      },
      "execution_count": null,
      "outputs": [
        {
          "output_type": "stream",
          "name": "stdout",
          "text": [
            "5\n",
            "<class 'int'>\n"
          ]
        }
      ]
    },
    {
      "cell_type": "code",
      "source": [
        "#3.Multiplication ------>\n",
        "print(2*3)\n",
        "print(type(2*3))"
      ],
      "metadata": {
        "colab": {
          "base_uri": "https://localhost:8080/"
        },
        "id": "OZhyEGkcsjNn",
        "outputId": "70aa10af-064a-4570-945e-4a451215c6b8"
      },
      "execution_count": null,
      "outputs": [
        {
          "output_type": "stream",
          "name": "stdout",
          "text": [
            "6\n",
            "<class 'int'>\n"
          ]
        }
      ]
    },
    {
      "cell_type": "code",
      "source": [
        "#4.Division------>\n",
        "print(10/5)\n",
        "print(type(10/5))\n",
        "#what is default data type for the division--->why\n",
        "#some times in divison we may get decimal number in quotient or integers also.So the founder\n",
        "#(Gudeo Van Rossum) to get the proper quotient data type for division is float"
      ],
      "metadata": {
        "colab": {
          "base_uri": "https://localhost:8080/"
        },
        "id": "qBm3QDzqsu2E",
        "outputId": "28a79dc4-329f-45f0-b4f1-07730065d12b"
      },
      "execution_count": null,
      "outputs": [
        {
          "output_type": "stream",
          "name": "stdout",
          "text": [
            "2.0\n",
            "<class 'float'>\n"
          ]
        }
      ]
    },
    {
      "cell_type": "code",
      "source": [
        "#5.Modulus--->%----> remainder of the division\n",
        "print(10%5)\n",
        "print(type(10%5))"
      ],
      "metadata": {
        "colab": {
          "base_uri": "https://localhost:8080/"
        },
        "id": "C2lViKztu3j1",
        "outputId": "ab6515ae-3fac-4e57-b94b-7f1184111388"
      },
      "execution_count": null,
      "outputs": [
        {
          "output_type": "stream",
          "name": "stdout",
          "text": [
            "0\n",
            "<class 'int'>\n"
          ]
        }
      ]
    },
    {
      "cell_type": "code",
      "source": [
        "#6.Exponential---->**---> to the power off\n",
        "print(2**3)\n",
        "print(type(2**3))"
      ],
      "metadata": {
        "colab": {
          "base_uri": "https://localhost:8080/"
        },
        "collapsed": true,
        "id": "orXeDF7nvI-N",
        "outputId": "d5d75af9-dcdf-47fd-e5db-d91fc18d8b39"
      },
      "execution_count": null,
      "outputs": [
        {
          "output_type": "stream",
          "name": "stdout",
          "text": [
            "8\n",
            "<class 'int'>\n"
          ]
        }
      ]
    },
    {
      "cell_type": "code",
      "source": [
        "#7.Floor Division---->//---->also known as integer division\n",
        "#it ignores the values after the decimal point for a quotient\n",
        "print(10/3)\n",
        "print(10//3)"
      ],
      "metadata": {
        "colab": {
          "base_uri": "https://localhost:8080/"
        },
        "id": "37ttHifUvZzq",
        "outputId": "3e319b4a-9851-4a53-9b4d-ac09875ed9ee"
      },
      "execution_count": null,
      "outputs": [
        {
          "output_type": "stream",
          "name": "stdout",
          "text": [
            "3.3333333333333335\n",
            "3\n"
          ]
        }
      ]
    },
    {
      "cell_type": "code",
      "source": [
        "#what is floor value?\n",
        "#The values before the decimal point is known as floor value\n",
        "#what is ceil value?\n",
        "#the text upcoming value for a decimal number where the decimal point is more than 0.5"
      ],
      "metadata": {
        "id": "npUWiZ4Sv4Wn"
      },
      "execution_count": null,
      "outputs": []
    },
    {
      "cell_type": "markdown",
      "source": [
        "round()"
      ],
      "metadata": {
        "id": "O2GJbOZRwWJO"
      }
    },
    {
      "cell_type": "code",
      "source": [
        "#1.round() works only for the decimal numbers\n",
        "#2.if the decimal point more than 0.5 round() print the next upcoming value--->ceil value\n",
        "#3.if the decimal point less than 0.5 round() print the floor value\n",
        "print(round(9))\n",
        "print(round(5.5))\n",
        "print(round(5.48))\n",
        "print(round(1234.46789))\n",
        "print(round(567.987))\n",
        "#round() is used print number with specific ndigits\n",
        "#round(number,ndigits)\n"
      ],
      "metadata": {
        "colab": {
          "base_uri": "https://localhost:8080/"
        },
        "id": "_bXB3mD5wUgi",
        "outputId": "10843323-a1ed-45c7-dfb1-8778f9ffb8db"
      },
      "execution_count": null,
      "outputs": [
        {
          "output_type": "stream",
          "name": "stdout",
          "text": [
            "9\n",
            "6\n",
            "5\n",
            "1234\n",
            "568\n"
          ]
        }
      ]
    },
    {
      "cell_type": "code",
      "source": [
        "print(round(231537.8378844540))\n",
        "print(round(426.3284747,3))"
      ],
      "metadata": {
        "colab": {
          "base_uri": "https://localhost:8080/"
        },
        "id": "8g-hAVOsx8kz",
        "outputId": "7497196d-a9d6-4a3d-8320-9a6db6d836d4"
      },
      "execution_count": null,
      "outputs": [
        {
          "output_type": "stream",
          "name": "stdout",
          "text": [
            "231538\n",
            "426.328\n"
          ]
        }
      ]
    },
    {
      "cell_type": "code",
      "source": [
        "print(round(785.42563,0))\n",
        "print(round(6589.32947890,5))\n",
        "print(round(12.59426,4))"
      ],
      "metadata": {
        "colab": {
          "base_uri": "https://localhost:8080/"
        },
        "id": "cLt6ruNUyjFj",
        "outputId": "8b6adcbb-ecea-4951-b179-13172a0a13db"
      },
      "execution_count": null,
      "outputs": [
        {
          "output_type": "stream",
          "name": "stdout",
          "text": [
            "785.0\n",
            "6589.32948\n",
            "12.5943\n"
          ]
        }
      ]
    },
    {
      "cell_type": "code",
      "source": [
        "#round(-ve digit)\n",
        "#variables\n",
        "#types of errors\n",
        "#industrial rules to create the variables\n",
        "#what is dynamically typed programming language\n",
        "#why python is interpreted programming\n",
        "#prove python is a case sensitive programming language\n",
        "#smart ways of writing variables\n",
        "#input()"
      ],
      "metadata": {
        "id": "FWVYEfaOy2yR"
      },
      "execution_count": null,
      "outputs": []
    },
    {
      "cell_type": "markdown",
      "source": [
        "30_04_2025\n",
        "\n",
        "round()"
      ],
      "metadata": {
        "id": "QaLUOoPZtyop"
      }
    },
    {
      "cell_type": "code",
      "source": [
        "print(3754.2366325)\n",
        "print(round(3754.2366325,2))\n"
      ],
      "metadata": {
        "colab": {
          "base_uri": "https://localhost:8080/"
        },
        "id": "MxUNvhMmubQh",
        "outputId": "5ebb930a-3921-4ea3-d791-e80b117ca42b"
      },
      "execution_count": null,
      "outputs": [
        {
          "output_type": "stream",
          "name": "stdout",
          "text": [
            "3754.2366325\n",
            "3754.24\n"
          ]
        }
      ]
    },
    {
      "cell_type": "code",
      "source": [
        "print(3754.2366325)\n",
        "print(round(3754.2366325,-2))\n",
        "#after decimal point the number become zero"
      ],
      "metadata": {
        "colab": {
          "base_uri": "https://localhost:8080/"
        },
        "id": "W5_PTId2vH6t",
        "outputId": "c09c89d2-ef38-4d1e-d0c8-586c301dbbc4"
      },
      "execution_count": null,
      "outputs": [
        {
          "output_type": "stream",
          "name": "stdout",
          "text": [
            "3754.2366325\n",
            "3800.0\n"
          ]
        }
      ]
    },
    {
      "cell_type": "code",
      "source": [
        "print(3754.2366325)\n",
        "print(round(3754.2366325,-3))"
      ],
      "metadata": {
        "colab": {
          "base_uri": "https://localhost:8080/"
        },
        "id": "UTgJFJa7vaCE",
        "outputId": "8139ab2b-2fac-44db-f8c3-2d3598d02f17"
      },
      "execution_count": null,
      "outputs": [
        {
          "output_type": "stream",
          "name": "stdout",
          "text": [
            "3754.2366325\n",
            "4000.0\n"
          ]
        }
      ]
    },
    {
      "cell_type": "code",
      "source": [
        "print(3754.2366325)\n",
        "print(round(3754.2366325,-4))"
      ],
      "metadata": {
        "colab": {
          "base_uri": "https://localhost:8080/"
        },
        "id": "H5BkJU9evn-h",
        "outputId": "0c8e68a4-6e25-48c3-bfc7-3de50b87ba1d"
      },
      "execution_count": null,
      "outputs": [
        {
          "output_type": "stream",
          "name": "stdout",
          "text": [
            "3754.2366325\n",
            "0.0\n"
          ]
        }
      ]
    },
    {
      "cell_type": "code",
      "source": [
        "print(round(827256.723456,-3))"
      ],
      "metadata": {
        "colab": {
          "base_uri": "https://localhost:8080/"
        },
        "id": "UopdTs03vtU9",
        "outputId": "3545338e-ab05-462b-fd18-91747e8d8ec8"
      },
      "execution_count": null,
      "outputs": [
        {
          "output_type": "stream",
          "name": "stdout",
          "text": [
            "827000.0\n"
          ]
        }
      ]
    },
    {
      "cell_type": "code",
      "source": [
        "print(round(827256.723456,-4))"
      ],
      "metadata": {
        "colab": {
          "base_uri": "https://localhost:8080/"
        },
        "id": "cfgdrIiZwURP",
        "outputId": "05d4c750-0769-4f72-dba1-253330fad461"
      },
      "execution_count": null,
      "outputs": [
        {
          "output_type": "stream",
          "name": "stdout",
          "text": [
            "830000.0\n"
          ]
        }
      ]
    },
    {
      "cell_type": "code",
      "source": [
        "print(round(-12345.4567,-3))"
      ],
      "metadata": {
        "colab": {
          "base_uri": "https://localhost:8080/"
        },
        "id": "GastTRddwUJ6",
        "outputId": "ae8fc6d4-12bd-4b20-d64f-ab0e5a85f294"
      },
      "execution_count": null,
      "outputs": [
        {
          "output_type": "stream",
          "name": "stdout",
          "text": [
            "-12000.0\n"
          ]
        }
      ]
    },
    {
      "cell_type": "code",
      "source": [
        "print(round(73424.3452,-5))"
      ],
      "metadata": {
        "colab": {
          "base_uri": "https://localhost:8080/"
        },
        "id": "P4bsof2txcWE",
        "outputId": "0d66c508-0c49-4aa0-a145-9d7ef186a888"
      },
      "execution_count": null,
      "outputs": [
        {
          "output_type": "stream",
          "name": "stdout",
          "text": [
            "100000.0\n"
          ]
        }
      ]
    },
    {
      "cell_type": "code",
      "source": [
        "print(round(53624.73626,-5))"
      ],
      "metadata": {
        "colab": {
          "base_uri": "https://localhost:8080/"
        },
        "id": "-r_uEug9xnxk",
        "outputId": "f9dfc0f5-5c55-4909-834a-87ff42233bb3"
      },
      "execution_count": null,
      "outputs": [
        {
          "output_type": "stream",
          "name": "stdout",
          "text": [
            "100000.0\n"
          ]
        }
      ]
    },
    {
      "cell_type": "markdown",
      "source": [
        "Variables"
      ],
      "metadata": {
        "id": "F6jevzBJx37f"
      }
    },
    {
      "cell_type": "code",
      "source": [
        "#what is a variable?\n",
        "#variables are containers where we can store our valuable information/data to reuse it\n",
        "#How can we create a variable and how can we access the data from variables?\n",
        "a = \"Hello world!\"\n",
        "print(a)\n",
        "print(type(a))"
      ],
      "metadata": {
        "colab": {
          "base_uri": "https://localhost:8080/"
        },
        "id": "8naZBy2ox9uH",
        "outputId": "48117ca2-b2eb-4bf5-abc7-bf4ef6759fb7"
      },
      "execution_count": null,
      "outputs": [
        {
          "output_type": "stream",
          "name": "stdout",
          "text": [
            "Hello world!\n",
            "<class 'str'>\n"
          ]
        }
      ]
    },
    {
      "cell_type": "code",
      "source": [
        "#take two variables and apply all arthemetic operators\n",
        "a = 10\n",
        "b = 5\n",
        "print(a+b)\n",
        "print(a-b)\n",
        "print(a*b)\n",
        "print(a/b)"
      ],
      "metadata": {
        "colab": {
          "base_uri": "https://localhost:8080/"
        },
        "id": "iRBFebtCzbQs",
        "outputId": "02c11c16-ce7a-4f4a-d584-1c38e5279f09"
      },
      "execution_count": null,
      "outputs": [
        {
          "output_type": "stream",
          "name": "stdout",
          "text": [
            "15\n",
            "5\n",
            "50\n",
            "2.0\n"
          ]
        }
      ]
    },
    {
      "cell_type": "markdown",
      "source": [
        "Types of Errors"
      ],
      "metadata": {
        "id": "6lml_ZXYz6zu"
      }
    },
    {
      "cell_type": "code",
      "source": [
        "#How many types of errors do we have in Python?\n",
        "#there are 2 types of errors\n",
        "#1.Syntax Error:-when you break rules of a programming language it can rise syntax error\n",
        "'''hello I am using\n",
        "multiline comment when we use single triple quotes\n",
        "we need to enclose with single quotes\"\"\"\n",
        "#2.logical Error:-except syntax error all the errors comes under logical errors\n",
        "print(10* *5)\n",
        "#ex:- indentation errors,Name error, Type error, attribute error, recurssive error....etc\n"
      ],
      "metadata": {
        "id": "4fuu6n1Az5pP"
      },
      "execution_count": null,
      "outputs": []
    },
    {
      "cell_type": "markdown",
      "source": [
        "rules to create variables"
      ],
      "metadata": {
        "id": "19Fy7neg2NNQ"
      }
    },
    {
      "cell_type": "code",
      "source": [
        "#1.start creating the variables by using alphabets\n",
        "son = 20\n",
        "print(son)"
      ],
      "metadata": {
        "colab": {
          "base_uri": "https://localhost:8080/"
        },
        "id": "iUg35Y4C2Muh",
        "outputId": "08de7012-27af-4064-fa6b-08cb13b4c771"
      },
      "execution_count": null,
      "outputs": [
        {
          "output_type": "stream",
          "name": "stdout",
          "text": [
            "20\n"
          ]
        }
      ]
    },
    {
      "cell_type": "code",
      "source": [
        "#2.dont start creating the variable by using numbers\n",
        "2 = \"hello\"\n",
        "print(2)"
      ],
      "metadata": {
        "id": "s4E0CwNy2gGo"
      },
      "execution_count": null,
      "outputs": []
    },
    {
      "cell_type": "code",
      "source": [
        "#2.dont start creating the variable by using numbers\n",
        "2 = \"hello\"\n",
        "print(2)"
      ],
      "metadata": {
        "id": "4jRe5qBU2s9W"
      },
      "execution_count": null,
      "outputs": []
    },
    {
      "cell_type": "code",
      "source": [
        "#4.dont use special characters in the variable name--->!,@,#,$,%,^,&,*,?,white space\n",
        "son@age = 20\n",
        "print(son@age)"
      ],
      "metadata": {
        "id": "YHXuT7Sm-EB3"
      },
      "execution_count": null,
      "outputs": []
    },
    {
      "cell_type": "code",
      "source": [
        "#5.start creating the variable by using under score __\n",
        "_ = 10\n",
        "print(_)"
      ],
      "metadata": {
        "colab": {
          "base_uri": "https://localhost:8080/"
        },
        "id": "bhh3MaRp-mQc",
        "outputId": "cb2c48db-51bd-402e-eb7f-c6513dbd1fc3"
      },
      "execution_count": null,
      "outputs": [
        {
          "output_type": "stream",
          "name": "stdout",
          "text": [
            "10\n"
          ]
        }
      ]
    },
    {
      "cell_type": "code",
      "source": [
        "#instead of space use the underscore\n",
        "son_age = 20\n",
        "print(son_age)"
      ],
      "metadata": {
        "colab": {
          "base_uri": "https://localhost:8080/"
        },
        "id": "etHUUQEd-yEH",
        "outputId": "93d4d575-35f2-488f-88c3-2b67856496a9"
      },
      "execution_count": null,
      "outputs": [
        {
          "output_type": "stream",
          "name": "stdout",
          "text": [
            "20\n"
          ]
        }
      ]
    },
    {
      "cell_type": "code",
      "source": [
        "#6.Dont use the inbuilt keywords in the variable name\n",
        "import keyword\n",
        "print(keyword.kwlist)"
      ],
      "metadata": {
        "colab": {
          "base_uri": "https://localhost:8080/"
        },
        "id": "3-Ob2Cy4-84y",
        "outputId": "9fd1f971-e1b3-41d2-a354-65f904952010"
      },
      "execution_count": null,
      "outputs": [
        {
          "output_type": "stream",
          "name": "stdout",
          "text": [
            "['False', 'None', 'True', 'and', 'as', 'assert', 'async', 'await', 'break', 'class', 'continue', 'def', 'del', 'elif', 'else', 'except', 'finally', 'for', 'from', 'global', 'if', 'import', 'in', 'is', 'lambda', 'nonlocal', 'not', 'or', 'pass', 'raise', 'return', 'try', 'while', 'with', 'yield']\n"
          ]
        }
      ]
    },
    {
      "cell_type": "code",
      "source": [
        "None = 90\n",
        "print(None)"
      ],
      "metadata": {
        "id": "ZGpVrm9FAvfL"
      },
      "execution_count": null,
      "outputs": []
    },
    {
      "cell_type": "code",
      "source": [
        "#7.we cannot encourage to write a variable name in uppercase letters\n",
        "SONAGE = 30\n",
        "print(SONAGE)"
      ],
      "metadata": {
        "colab": {
          "base_uri": "https://localhost:8080/"
        },
        "id": "FRxvwDuDA2zp",
        "outputId": "54e30720-174a-444d-e35a-9c3b54d18bb2"
      },
      "execution_count": null,
      "outputs": [
        {
          "output_type": "stream",
          "name": "stdout",
          "text": [
            "30\n"
          ]
        }
      ]
    },
    {
      "cell_type": "code",
      "source": [
        "# object oriented programming means each LOC having own identity own properties own interaction based on three ways the object is belongs to certain category of class"
      ],
      "metadata": {
        "id": "hKlGbENMBe2w"
      },
      "execution_count": null,
      "outputs": []
    },
    {
      "cell_type": "markdown",
      "source": [
        "Python is a dynamically typed programming language"
      ],
      "metadata": {
        "id": "h-1_yIrdCUWj"
      }
    },
    {
      "cell_type": "code",
      "source": [
        "#we no need to define the datatypes to the variables in the python\n",
        "#python can read the data automatically by itself\n",
        "a = 10\n",
        "print(type(a))\n",
        "b = \"How\"\n",
        "print(type(b))"
      ],
      "metadata": {
        "colab": {
          "base_uri": "https://localhost:8080/"
        },
        "id": "9pc0SX0dCSyg",
        "outputId": "48c73039-e2f1-4102-fa0c-c0d677303bbd"
      },
      "execution_count": null,
      "outputs": [
        {
          "output_type": "stream",
          "name": "stdout",
          "text": [
            "<class 'int'>\n",
            "<class 'str'>\n"
          ]
        }
      ]
    },
    {
      "cell_type": "markdown",
      "source": [
        "Python is a interpreted programming language"
      ],
      "metadata": {
        "id": "lqXuEuNhC3fE"
      }
    },
    {
      "cell_type": "code",
      "source": [
        "#python execute the code step by step and last line of values can be taken into consideration\n",
        "a = 20\n",
        "b = 4\n",
        "a = 5\n",
        "b = 10\n",
        "print(a+b)"
      ],
      "metadata": {
        "colab": {
          "base_uri": "https://localhost:8080/"
        },
        "id": "9TtM6xMCC8Co",
        "outputId": "3f3b49e6-3294-4653-c0d1-f087c139bde1"
      },
      "execution_count": null,
      "outputs": [
        {
          "output_type": "stream",
          "name": "stdout",
          "text": [
            "15\n"
          ]
        }
      ]
    },
    {
      "cell_type": "markdown",
      "source": [
        "Python is a case sensitive programming language"
      ],
      "metadata": {
        "id": "XjJhgHF_DNN9"
      }
    },
    {
      "cell_type": "code",
      "source": [
        "c = 10\n",
        "print(C)"
      ],
      "metadata": {
        "id": "Uj_f5ZhEDStK"
      },
      "execution_count": null,
      "outputs": []
    },
    {
      "cell_type": "markdown",
      "source": [
        "Smart ways of writing variables"
      ],
      "metadata": {
        "id": "etrbmgjPDcwf"
      }
    },
    {
      "cell_type": "code",
      "source": [
        "#1.assign multiple value to multiple variables and printing separate line?\n",
        "# hint:take 3 variables and assign values\n",
        "a = 10\n",
        "b = 5\n",
        "c = 4\n",
        "print(a)\n",
        "print(b)\n",
        "print(c)"
      ],
      "metadata": {
        "colab": {
          "base_uri": "https://localhost:8080/"
        },
        "id": "wPQF4ufQDYNB",
        "outputId": "ef285fc2-a328-4785-a603-c4575cc259ea"
      },
      "execution_count": null,
      "outputs": [
        {
          "output_type": "stream",
          "name": "stdout",
          "text": [
            "10\n",
            "5\n",
            "4\n"
          ]
        }
      ]
    },
    {
      "cell_type": "code",
      "source": [
        "a,b,c = 10,20,30\n",
        "print(a,b,c, sep='\\n')"
      ],
      "metadata": {
        "colab": {
          "base_uri": "https://localhost:8080/"
        },
        "id": "uQzTCSdwEGc-",
        "outputId": "edc0ea9f-81cb-4dd3-e80c-4e39640aad07"
      },
      "execution_count": null,
      "outputs": [
        {
          "output_type": "stream",
          "name": "stdout",
          "text": [
            "10\n",
            "20\n",
            "30\n"
          ]
        }
      ]
    },
    {
      "cell_type": "code",
      "source": [
        "#Assign the same value to the variables and print in sep line\n",
        "a = b = c = 10\n",
        "print(a,b,c, sep='\\n')"
      ],
      "metadata": {
        "colab": {
          "base_uri": "https://localhost:8080/"
        },
        "id": "fivRr6c5EV_G",
        "outputId": "2567620d-044d-4caf-bc00-688643e01c88"
      },
      "execution_count": null,
      "outputs": [
        {
          "output_type": "stream",
          "name": "stdout",
          "text": [
            "10\n",
            "10\n",
            "10\n"
          ]
        }
      ]
    },
    {
      "cell_type": "code",
      "source": [
        "a = b = c = 10\n",
        "print(a,b,c)"
      ],
      "metadata": {
        "colab": {
          "base_uri": "https://localhost:8080/"
        },
        "id": "6fSYaGsuE3qR",
        "outputId": "cfefffbf-27c5-4114-c3df-c191683ad0c2"
      },
      "execution_count": null,
      "outputs": [
        {
          "output_type": "stream",
          "name": "stdout",
          "text": [
            "10 10 10\n"
          ]
        }
      ]
    },
    {
      "cell_type": "markdown",
      "source": [
        "01-05-2025"
      ],
      "metadata": {
        "id": "DcVok7mpuCfl"
      }
    },
    {
      "cell_type": "markdown",
      "source": [
        "***input()***"
      ],
      "metadata": {
        "id": "eKsaVRnruHxw"
      }
    },
    {
      "cell_type": "code",
      "source": [
        "#what is input()?\n",
        "#input() is a inbuilt function where it can intakes any kind of information or value and store it\n",
        "#How can we create the input()?\n",
        "#by assigning to a variable\n",
        "a = input('Enter your Name: ')\n",
        "#HOow can we access the information from input()?\n",
        "print(a)"
      ],
      "metadata": {
        "id": "cgN3x_j9sFPV"
      },
      "execution_count": null,
      "outputs": []
    },
    {
      "cell_type": "code",
      "source": [
        "#take 2 input functions and apply addition on it\n",
        "a = input('enter num1: ')\n",
        "b = input('enter num2: ')\n",
        "print(a+b)\n",
        "#Note:- The default data type for input() is strings\n",
        "#adding of two strings is known as concatenation"
      ],
      "metadata": {
        "colab": {
          "base_uri": "https://localhost:8080/"
        },
        "id": "SRWGrR9VwPLD",
        "outputId": "ac07a1de-d483-4056-efaf-17b2d8bebacf"
      },
      "execution_count": null,
      "outputs": [
        {
          "output_type": "stream",
          "name": "stdout",
          "text": [
            "enter num1: 7\n",
            "enter num2: 3\n",
            "73\n"
          ]
        }
      ]
    },
    {
      "cell_type": "code",
      "source": [
        "#How can we deal with numerical data when we use input()?\n",
        "#before the input() we need specify the particular numerical data type, int or float\n",
        "a = int(input('enter num1: '))\n",
        "b = int(input('enter num2: '))\n",
        "print(a+b)"
      ],
      "metadata": {
        "id": "vA4kYlBww2px",
        "colab": {
          "base_uri": "https://localhost:8080/"
        },
        "outputId": "8fd1e6ad-cb1d-4e0b-d9f6-8f6228d2d8dc"
      },
      "execution_count": null,
      "outputs": [
        {
          "output_type": "stream",
          "name": "stdout",
          "text": [
            "enter num1: 3\n",
            "enter num2: 5\n",
            "8\n"
          ]
        }
      ]
    },
    {
      "cell_type": "code",
      "source": [
        "a = float(input('enter num1: '))\n",
        "b = float(input('enter num2: '))\n",
        "print(a+b)"
      ],
      "metadata": {
        "colab": {
          "base_uri": "https://localhost:8080/"
        },
        "id": "mo7BfIhxzrey",
        "outputId": "acf4faeb-9a7d-4a4b-d629-20e12fc77801"
      },
      "execution_count": null,
      "outputs": [
        {
          "output_type": "stream",
          "name": "stdout",
          "text": [
            "enter num1: 34.6\n",
            "enter num2: 23.6\n",
            "58.2\n"
          ]
        }
      ]
    },
    {
      "cell_type": "code",
      "source": [],
      "metadata": {
        "id": "9mpgcKg4IO71"
      },
      "execution_count": null,
      "outputs": []
    },
    {
      "cell_type": "markdown",
      "source": [
        "#Strings"
      ],
      "metadata": {
        "id": "6JZJCz9u0zkv"
      }
    },
    {
      "cell_type": "code",
      "source": [
        "    #what is Strings?\n",
        "#string is collection of multiple characters where each characters can be accessible\n",
        "#How can we declare string?\n",
        "#a string declared by using(\" \") or (' ')\n",
        "#How many types of strings do we have?\n",
        "#There are 2 types\n",
        "#1.single line string--->\" \" or ' '\n",
        "#2.multiline string---->\"\"\"double triple quotes \"\"\" or '''single triple quotes'''\n",
        "\n"
      ],
      "metadata": {
        "id": "eVpbAkrFz3tw"
      },
      "execution_count": null,
      "outputs": []
    },
    {
      "cell_type": "code",
      "source": [
        "print(\"Hello world!\")\n",
        "a = \"\"\"Hi\n",
        "       Good day!\n",
        "       Today session is about strings\"\"\"\n",
        "print(a)"
      ],
      "metadata": {
        "colab": {
          "base_uri": "https://localhost:8080/"
        },
        "id": "Ra_Hkw9M2CQi",
        "outputId": "9add3ae5-cd38-4639-dcc1-350f665ccf55"
      },
      "execution_count": null,
      "outputs": [
        {
          "output_type": "stream",
          "name": "stdout",
          "text": [
            "Hello world!\n",
            "Hi\n",
            "       Good day!\n",
            "       Today session is about strings\n"
          ]
        }
      ]
    },
    {
      "cell_type": "code",
      "source": [
        "#How can we access the characters from the string\n",
        "#by using indexing and slicing operator---->[]\n",
        "#what is indexing?\n",
        "#positional number character in the string\n",
        "#the indexing can be starts from zero\n",
        "#The process of accessing a range of characters from string is known as slicing\n",
        "#The range of characters from the main string is known as sub-string"
      ],
      "metadata": {
        "id": "NrRWfxpB2ZGE"
      },
      "execution_count": null,
      "outputs": []
    },
    {
      "cell_type": "code",
      "source": [
        "a = \"Hello world!\"\n",
        "#from the above string print letter 'w'\n",
        "#syntax:- [index number]\n",
        "print(a[6])\n",
        "#print letter 'd'\n",
        "print(a[10])"
      ],
      "metadata": {
        "colab": {
          "base_uri": "https://localhost:8080/"
        },
        "id": "gME0rkEX4QXu",
        "outputId": "0b4f95ed-b2da-4188-de31-009b31e635fc"
      },
      "execution_count": null,
      "outputs": [
        {
          "output_type": "stream",
          "name": "stdout",
          "text": [
            "w\n",
            "d\n"
          ]
        }
      ]
    },
    {
      "cell_type": "code",
      "source": [
        "#access the range of characters from above string print only \"hello\"\n",
        "#syntax :- [start:end_index] ----> always give the end_index can be ---->n+1\n",
        "print(a[0:4])\n",
        "#"
      ],
      "metadata": {
        "colab": {
          "base_uri": "https://localhost:8080/"
        },
        "id": "yaUi6K0O430d",
        "outputId": "4e19ac93-fc8a-45c4-9616-56f026e4aaf2"
      },
      "execution_count": null,
      "outputs": [
        {
          "output_type": "stream",
          "name": "stdout",
          "text": [
            "Hell\n"
          ]
        }
      ]
    },
    {
      "cell_type": "code",
      "source": [
        "b = \"Hello world!\"\n",
        "print(b[6:12])"
      ],
      "metadata": {
        "colab": {
          "base_uri": "https://localhost:8080/"
        },
        "id": "WgXvI1eZ5ku5",
        "outputId": "a092b1a4-c991-49a5-b2c2-b8f62a3bd7ff"
      },
      "execution_count": null,
      "outputs": [
        {
          "output_type": "stream",
          "name": "stdout",
          "text": [
            "world!\n"
          ]
        }
      ]
    },
    {
      "cell_type": "code",
      "source": [
        "c = \"hello good evening!\"\n",
        "#print \"good\"\n",
        "print(c[6:10])"
      ],
      "metadata": {
        "colab": {
          "base_uri": "https://localhost:8080/"
        },
        "id": "w8aa7yXX5vEt",
        "outputId": "149f00e7-943c-4ed2-8a96-e556c22a30ab"
      },
      "execution_count": null,
      "outputs": [
        {
          "output_type": "stream",
          "name": "stdout",
          "text": [
            "good\n"
          ]
        }
      ]
    },
    {
      "cell_type": "code",
      "source": [
        "d = \"Hello world!\"\n",
        "#from above string print the characters at the even inde position number\n",
        "#syntax---->[start:end:step]\n",
        "print(d[0:12:2])\n",
        "#from above string print the odd index position characters.\n",
        "print(d[1:12:2])\n",
        "#print the last character of the string\n",
        "print(d[11])"
      ],
      "metadata": {
        "colab": {
          "base_uri": "https://localhost:8080/"
        },
        "id": "suoyUg3T6eTA",
        "outputId": "f02d7f86-8ef1-4065-ccea-249dcd3d94c2"
      },
      "execution_count": null,
      "outputs": [
        {
          "output_type": "stream",
          "name": "stdout",
          "text": [
            "Hlowrd\n",
            "el ol!\n",
            "!\n"
          ]
        }
      ]
    },
    {
      "cell_type": "code",
      "source": [
        "#what is negative indexing?\n",
        "#accessing the range of characters in reverse direction by using -ve indexing\n",
        "#negative indexing starts with -1\n",
        "a = \"Hello guys accessing the range of characters in reverse direction\"\n",
        "#syntax:- [-ve_index]\n",
        "print(a[-1])"
      ],
      "metadata": {
        "colab": {
          "base_uri": "https://localhost:8080/"
        },
        "id": "FjIVtxYW74cV",
        "outputId": "6a4be3de-757c-4131-8fcf-84d04f3dd191"
      },
      "execution_count": null,
      "outputs": [
        {
          "output_type": "stream",
          "name": "stdout",
          "text": [
            "n\n"
          ]
        }
      ]
    },
    {
      "cell_type": "code",
      "source": [
        "#access the range of characters in reverse direction--- for ex access 'world!'\n",
        "#expect_output:- !dlrow\n",
        "#syntax:- [start-ve index:end-ve index]\n",
        "a = \"Hello world!\"\n",
        "print(a[-1:-7:-1])\n",
        "print(a[6:12])\n",
        "#Because the default slicing direction is from left to right\n",
        "#if you want to reverse a string we need define the step_index as -1"
      ],
      "metadata": {
        "colab": {
          "base_uri": "https://localhost:8080/"
        },
        "id": "WH_TcJBn81bG",
        "outputId": "5a61ec5b-0615-4b0e-b2d2-0021f6659c4e"
      },
      "execution_count": null,
      "outputs": [
        {
          "output_type": "stream",
          "name": "stdout",
          "text": [
            "!dlrow\n",
            "world!\n"
          ]
        }
      ]
    },
    {
      "cell_type": "code",
      "source": [
        "#find the length of the below string?\n",
        "d = \"Hello world!\"\n",
        "print(len(d))\n",
        "#len starts from 1"
      ],
      "metadata": {
        "colab": {
          "base_uri": "https://localhost:8080/"
        },
        "id": "AyG2k6cv-Gl1",
        "outputId": "555cc277-ed9b-4bf0-eacc-5815959be2b7"
      },
      "execution_count": null,
      "outputs": [
        {
          "output_type": "stream",
          "name": "stdout",
          "text": [
            "12\n"
          ]
        }
      ]
    },
    {
      "cell_type": "markdown",
      "source": [
        "Default indexing\n"
      ],
      "metadata": {
        "id": "KoCAoRGn-cxG"
      }
    },
    {
      "cell_type": "code",
      "source": [
        "a = \"Hello World!\"\n",
        "print(a[:])\n",
        "print(a[0:len(a)])\n",
        "print(a[::2])\n",
        "print(a[1::2])"
      ],
      "metadata": {
        "colab": {
          "base_uri": "https://localhost:8080/"
        },
        "id": "vE9o2A2n-fK7",
        "outputId": "c06a13a0-90af-49bc-9242-9bc378154f73"
      },
      "execution_count": null,
      "outputs": [
        {
          "output_type": "stream",
          "name": "stdout",
          "text": [
            "Hello World!\n",
            "Hello World!\n",
            "HloWrd\n",
            "el ol!\n"
          ]
        }
      ]
    },
    {
      "cell_type": "code",
      "source": [
        "#check the string whether it is palindrome or not\n",
        "b = input(\"enter the string\")\n",
        "print(b[::-1])"
      ],
      "metadata": {
        "id": "-6Xp7P6k_TPd"
      },
      "execution_count": null,
      "outputs": []
    },
    {
      "cell_type": "markdown",
      "source": [
        "02-05-2025"
      ],
      "metadata": {
        "id": "OC_7vULt3XCq"
      }
    },
    {
      "cell_type": "markdown",
      "source": [
        "String Methods"
      ],
      "metadata": {
        "id": "3CKLMpaSDH6y"
      }
    },
    {
      "cell_type": "code",
      "source": [
        "#what is string? #what are all the methods we can apply on string\n",
        "#The methods applied on string is known as string methods\n",
        "#if i want to know all the methods of a string use---> dir()\n",
        "a = \"Hello World!\"\n",
        "print(type(a))\n",
        "print(dir(a))\n",
        "\"\"\"'capitalize', 'casefold', 'center', 'count', 'encode', 'endswith', 'expandtabs', 'find', 'format', 'format_map',\n",
        "'index', 'isalnum', 'isalpha', 'isascii', 'isdecimal', 'isdigit', 'isidentifier', 'islower', 'isnumeric', 'isprintable',\n",
        " 'isspace', 'istitle', 'isupper', 'join', 'ljust', 'lower', 'lstrip', 'maketrans', 'partition', 'removeprefix',\n",
        "  'removesuffix', 'replace', 'rfind', 'rindex', 'rjust', 'rpartition', 'rsplit', 'rstrip',\n",
        "'split', 'splitlines', 'startswith', 'strip', 'swapcase', 'title', 'translate', 'upper', 'zfill'\"\"\""
      ],
      "metadata": {
        "colab": {
          "base_uri": "https://localhost:8080/",
          "height": 125
        },
        "id": "dJ6Itb213aBX",
        "outputId": "707bd8a2-172a-4d46-ac11-1341868103d8"
      },
      "execution_count": null,
      "outputs": [
        {
          "output_type": "stream",
          "name": "stdout",
          "text": [
            "<class 'str'>\n",
            "['__add__', '__class__', '__contains__', '__delattr__', '__dir__', '__doc__', '__eq__', '__format__', '__ge__', '__getattribute__', '__getitem__', '__getnewargs__', '__getstate__', '__gt__', '__hash__', '__init__', '__init_subclass__', '__iter__', '__le__', '__len__', '__lt__', '__mod__', '__mul__', '__ne__', '__new__', '__reduce__', '__reduce_ex__', '__repr__', '__rmod__', '__rmul__', '__setattr__', '__sizeof__', '__str__', '__subclasshook__', 'capitalize', 'casefold', 'center', 'count', 'encode', 'endswith', 'expandtabs', 'find', 'format', 'format_map', 'index', 'isalnum', 'isalpha', 'isascii', 'isdecimal', 'isdigit', 'isidentifier', 'islower', 'isnumeric', 'isprintable', 'isspace', 'istitle', 'isupper', 'join', 'ljust', 'lower', 'lstrip', 'maketrans', 'partition', 'removeprefix', 'removesuffix', 'replace', 'rfind', 'rindex', 'rjust', 'rpartition', 'rsplit', 'rstrip', 'split', 'splitlines', 'startswith', 'strip', 'swapcase', 'title', 'translate', 'upper', 'zfill']\n"
          ]
        },
        {
          "output_type": "execute_result",
          "data": {
            "text/plain": [
              "\"'capitalize', 'casefold', 'center', 'count', 'encode', 'endswith', 'expandtabs', 'find', 'format', 'format_map', \\n'index', 'isalnum', 'isalpha', 'isascii', 'isdecimal', 'isdigit', 'isidentifier', 'islower', 'isnumeric', 'isprintable',\\n 'isspace', 'istitle', 'isupper', 'join', 'ljust', 'lower', 'lstrip', 'maketrans', 'partition', 'removeprefix',\\n  'removesuffix', 'replace', 'rfind', 'rindex', 'rjust', 'rpartition', 'rsplit', 'rstrip', \\n'split', 'splitlines', 'startswith', 'strip', 'swapcase', 'title', 'translate', 'upper', 'zfill'\""
            ],
            "application/vnd.google.colaboratory.intrinsic+json": {
              "type": "string"
            }
          },
          "metadata": {},
          "execution_count": 2
        }
      ]
    },
    {
      "cell_type": "code",
      "source": [
        "#tell me aa 10 important string methods?\n"
      ],
      "metadata": {
        "id": "mcZKxV9uENFr"
      },
      "execution_count": null,
      "outputs": []
    },
    {
      "cell_type": "code",
      "source": [
        "a = \"hello World!\"\n",
        "#capitalize():- it coverts 1st letter capital\n",
        "print(a.capitalize())\n"
      ],
      "metadata": {
        "colab": {
          "base_uri": "https://localhost:8080/"
        },
        "id": "l_aJ1Y8KE9yF",
        "outputId": "7ba3a426-83d7-422c-f308-297751794c18"
      },
      "execution_count": null,
      "outputs": [
        {
          "output_type": "stream",
          "name": "stdout",
          "text": [
            "Hello world!\n"
          ]
        }
      ]
    },
    {
      "cell_type": "code",
      "source": [
        "#2.upper():- it converts the string into lower case\n",
        "print(a.lower())"
      ],
      "metadata": {
        "colab": {
          "base_uri": "https://localhost:8080/"
        },
        "id": "3eElKBNjFX6P",
        "outputId": "0a291a27-fc3e-4fab-859e-ccce7dd75ff5"
      },
      "execution_count": null,
      "outputs": [
        {
          "output_type": "stream",
          "name": "stdout",
          "text": [
            "hello world!\n"
          ]
        }
      ]
    },
    {
      "cell_type": "code",
      "source": [
        "#3.lower():- it converts the string into lower case\n",
        "print(a.lower())"
      ],
      "metadata": {
        "colab": {
          "base_uri": "https://localhost:8080/"
        },
        "id": "aeJoARznFjtB",
        "outputId": "6d340964-1b1e-4163-b5a7-347fc95faa97"
      },
      "execution_count": null,
      "outputs": [
        {
          "output_type": "stream",
          "name": "stdout",
          "text": [
            "hello world!\n"
          ]
        }
      ]
    },
    {
      "cell_type": "code",
      "source": [
        "#4.title():- converts 1st letter of string into capital letter after every white space\n",
        "print(a.title())"
      ],
      "metadata": {
        "colab": {
          "base_uri": "https://localhost:8080/"
        },
        "id": "vqc1sSp1Ft1S",
        "outputId": "1dc96af4-e1c0-4f45-92ba-c129f3b73b2f"
      },
      "execution_count": null,
      "outputs": [
        {
          "output_type": "stream",
          "name": "stdout",
          "text": [
            "Hello World!\n"
          ]
        }
      ]
    },
    {
      "cell_type": "code",
      "source": [
        "#***5.replace(old,new):- replace the old string with new string\n",
        "#replace the 'world' to 'universe' and print 'hello universe!'\n",
        "b = \"hello world!\"\n",
        "print(b.replace('world','universe!'))"
      ],
      "metadata": {
        "colab": {
          "base_uri": "https://localhost:8080/"
        },
        "id": "g8LnjUsBGN8J",
        "outputId": "3ec02a44-37e2-4788-e545-180e45e17f2f"
      },
      "execution_count": null,
      "outputs": [
        {
          "output_type": "stream",
          "name": "stdout",
          "text": [
            "hello universe!!\n"
          ]
        }
      ]
    },
    {
      "cell_type": "code",
      "source": [
        "#6.strip:-removes the unwanted spaces from leading and trailing side of a string\n",
        "c = \"     Hello World!\"\n",
        "print(c)\n",
        "print(c.strip())"
      ],
      "metadata": {
        "id": "e6r-X2LwHKVc",
        "colab": {
          "base_uri": "https://localhost:8080/"
        },
        "outputId": "bac6a0f4-e233-4cb2-affb-ad8dc7d5ec0c"
      },
      "execution_count": 2,
      "outputs": [
        {
          "output_type": "stream",
          "name": "stdout",
          "text": [
            "     Hello World!\n",
            "Hello World!\n"
          ]
        }
      ]
    },
    {
      "cell_type": "code",
      "source": [
        "#7.lstrip():-removes the space from the left side of the string\n",
        "print(c.lstrip())\n",
        "\n",
        "#8.rstrip():-removes the spaces from right side\n",
        "print(c.rstrip())"
      ],
      "metadata": {
        "id": "xkfiGIQ5KZWa",
        "colab": {
          "base_uri": "https://localhost:8080/"
        },
        "outputId": "dceacefc-8367-4f50-cd09-0e839805d7a9"
      },
      "execution_count": 3,
      "outputs": [
        {
          "output_type": "stream",
          "name": "stdout",
          "text": [
            "Hello World!\n",
            "     Hello World!\n"
          ]
        }
      ]
    },
    {
      "cell_type": "code",
      "source": [
        "#9.find():-finds the index number of character in the string\n",
        "d = \"Medha edu-Tech\"\n",
        "#print the index position of '-'\n",
        "print(d.find('d'))\n",
        "print(d.find('-'))\n",
        "print(d.find('x'))\n",
        "#if the character are present means find() returns index position number else returns -1"
      ],
      "metadata": {
        "colab": {
          "base_uri": "https://localhost:8080/"
        },
        "id": "9szUutfNKpy9",
        "outputId": "a68ba619-d652-4643-8aab-43ba3304539f"
      },
      "execution_count": null,
      "outputs": [
        {
          "output_type": "stream",
          "name": "stdout",
          "text": [
            "2\n",
            "9\n",
            "-1\n"
          ]
        }
      ]
    },
    {
      "cell_type": "code",
      "source": [
        "#10.index():-finds the index number of chracter in the string\n",
        "d = \"medha edu-Tech\"\n",
        "print(d.index('d'))\n",
        "print(d.index('x'))\n",
        "#q)what is the difference between index() and find()/\n",
        "#in find() method if the character is not found means it returns -1\n",
        "#where as in index() method if the character is not found means it rise an error"
      ],
      "metadata": {
        "id": "kcaJMs0-KvRt"
      },
      "execution_count": null,
      "outputs": []
    },
    {
      "cell_type": "code",
      "source": [
        "a = \"Hello world!\"\n",
        "print(a.find('l'))"
      ],
      "metadata": {
        "colab": {
          "base_uri": "https://localhost:8080/"
        },
        "id": "Ciba_04jQDXs",
        "outputId": "2bf913a1-61dd-45c8-f574-339c12a3794f"
      },
      "execution_count": null,
      "outputs": [
        {
          "output_type": "stream",
          "name": "stdout",
          "text": [
            "2\n"
          ]
        }
      ]
    },
    {
      "cell_type": "code",
      "source": [
        "#swap case():- converts the upper into lower and lower into upper\n",
        "b = \"Medha edu-tech\"\n",
        "print(b.swapcase())"
      ],
      "metadata": {
        "colab": {
          "base_uri": "https://localhost:8080/"
        },
        "id": "f4IlKv1LQLPK",
        "outputId": "ea6238fa-c360-4d5d-ffe7-0443fb74d085"
      },
      "execution_count": null,
      "outputs": [
        {
          "output_type": "stream",
          "name": "stdout",
          "text": [
            "mEDHA EDU-TECH\n"
          ]
        }
      ]
    },
    {
      "cell_type": "code",
      "source": [
        "#11.zfill():- fill the zeroes infront of the string to match the length of argument\n",
        "print(b.zfill(20))"
      ],
      "metadata": {
        "colab": {
          "base_uri": "https://localhost:8080/"
        },
        "id": "GDIw8cp3KziF",
        "outputId": "1dfdde0f-a3ee-4bbe-8fc8-8be83018a781"
      },
      "execution_count": null,
      "outputs": [
        {
          "output_type": "stream",
          "name": "stdout",
          "text": [
            "00000000hello world!\n"
          ]
        }
      ]
    },
    {
      "cell_type": "markdown",
      "source": [
        "String Format methods"
      ],
      "metadata": {
        "id": "MenRMqgnLF95"
      }
    },
    {
      "cell_type": "code",
      "source": [
        "#f'string {format} method:-\n",
        "#it takes  an argument and place it over the place holder\n",
        "age = 10\n",
        "text = f'my age is {age} years old'\n",
        "print(text)"
      ],
      "metadata": {
        "colab": {
          "base_uri": "https://localhost:8080/"
        },
        "id": "tu_ZUEWtLFC1",
        "outputId": "e5788efc-2bbd-41d4-9749-d59b50f87fb3"
      },
      "execution_count": null,
      "outputs": [
        {
          "output_type": "stream",
          "name": "stdout",
          "text": [
            "my age is 10 years old\n"
          ]
        }
      ]
    },
    {
      "cell_type": "code",
      "source": [
        "item = input(\"Enter your item name: \")\n",
        "quantity = int(input(\"enter quantity: \"))\n",
        "price_each = float(input(\"enter price of each: \"))\n",
        "notify = f\"\"\"Your order for {item} is confirmed with an quantity of {quantity} and Total price is {price_each*quantity}\"\"\"\n",
        "print(notify)"
      ],
      "metadata": {
        "colab": {
          "base_uri": "https://localhost:8080/"
        },
        "id": "2pUSqh0_LrgT",
        "outputId": "401de3c3-b2ce-4a62-8dfa-3e2b7806221d"
      },
      "execution_count": null,
      "outputs": [
        {
          "output_type": "stream",
          "name": "stdout",
          "text": [
            "Enter your item name: biryani\n",
            "enter quantity: 3\n",
            "enter price of each: 199.0\n",
            "Your order for biryani is confirmed with an quantity of 3 and Total price is 597.0\n"
          ]
        }
      ]
    },
    {
      "cell_type": "markdown",
      "source": [
        "sub-slicing"
      ],
      "metadata": {
        "id": "5P3YbjjpNHZf"
      }
    },
    {
      "cell_type": "code",
      "source": [
        "a = \"Hello world!\"\n",
        "print(a[0:5][2:6])"
      ],
      "metadata": {
        "colab": {
          "base_uri": "https://localhost:8080/"
        },
        "id": "duQP8Dw7NF1J",
        "outputId": "140c3c1e-3eea-4410-aaf2-6f89ef8fb257"
      },
      "execution_count": null,
      "outputs": [
        {
          "output_type": "stream",
          "name": "stdout",
          "text": [
            "llo\n"
          ]
        }
      ]
    },
    {
      "cell_type": "markdown",
      "source": [
        "05-05-2025"
      ],
      "metadata": {
        "id": "qnvksgD8gCgz"
      }
    },
    {
      "cell_type": "code",
      "source": [
        "#what is condition?\n",
        "#we have 3 conditions\n",
        "#if,else,elif\n",
        "user_name = int(input(\"Enter your marks: \"))\n",
        "if user_name>=45:\n",
        "  print(\"Congratulations\")\n",
        "  print(\"You have pass\")\n",
        "else:\n",
        "  print(\"Better luck next time\")"
      ],
      "metadata": {
        "colab": {
          "base_uri": "https://localhost:8080/"
        },
        "id": "9TgEPtVZgB-x",
        "outputId": "4e8f7b9d-b800-4f99-98b0-c319245ffe81"
      },
      "execution_count": null,
      "outputs": [
        {
          "output_type": "stream",
          "name": "stdout",
          "text": [
            "Enter your marks: 45\n",
            "Congratulations\n",
            "You have pass\n"
          ]
        }
      ]
    },
    {
      "cell_type": "code",
      "source": [
        "#write a program if the num is >0 print +ve result else print -ve. if the num is equal to zero point neutral\n",
        "#if---elif---else\n",
        "num = int(input(\"Enter number: \"))\n",
        "if num>0:\n",
        "  print(\"Positive\")\n",
        "elif num==0:\n",
        "  print(\"Neutral\")\n",
        "else:\n",
        "  print(\"Negative\")\n"
      ],
      "metadata": {
        "colab": {
          "base_uri": "https://localhost:8080/"
        },
        "id": "EnhaiKWUnT6q",
        "outputId": "affed9df-8557-458e-8095-7b49f48b4e2b"
      },
      "execution_count": null,
      "outputs": [
        {
          "output_type": "stream",
          "name": "stdout",
          "text": [
            "Enter number: 0\n",
            "Neutral\n"
          ]
        }
      ]
    },
    {
      "cell_type": "code",
      "source": [
        "#how can we check the condition?\n",
        "#comparison operators or relational operators\n",
        "#1.equlal's too---> \"=\"\n",
        "#2.not equal too--->\"!=\"\n",
        "#3.greater than---> >\n",
        "#4. less than ---> <\n",
        "#5. greater than or equal too ---> >=\n",
        "#6. less than or equal too--> <=\n"
      ],
      "metadata": {
        "id": "yA28nxn9l-Fw"
      },
      "execution_count": null,
      "outputs": []
    },
    {
      "cell_type": "code",
      "source": [
        "#logical operators ---> 3 types\n",
        "#And- if all the conditions are true than only execute the program\n",
        "#logical operators ---> 3 types\n",
        "#And- if all the conditions are true than only execute the program\n",
        "#or- if any one condition is true execute program\n",
        "#not: it reverse your actual output\n",
        "print(10==10)\n",
        "print(10==25)\n",
        "print('H'=='h')\n",
        "print(not(10==10))\n"
      ],
      "metadata": {
        "colab": {
          "base_uri": "https://localhost:8080/"
        },
        "id": "16O4ua81qW6z",
        "outputId": "d85cf6b1-4bcf-4b12-acb3-df4eebcfecdb"
      },
      "execution_count": null,
      "outputs": [
        {
          "output_type": "stream",
          "name": "stdout",
          "text": [
            "True\n",
            "False\n",
            "False\n",
            "False\n"
          ]
        }
      ]
    },
    {
      "cell_type": "code",
      "source": [
        "a = 25\n",
        "b = 10\n",
        "c = 15\n",
        "d = 60\n",
        "#check a>c and d>b and c<b\n",
        "if a>c or d>b or c>b:\n",
        "  print(\"all the statements are true\")\n",
        "else:\n",
        "  print(\"any one statement is wrong\")"
      ],
      "metadata": {
        "colab": {
          "base_uri": "https://localhost:8080/"
        },
        "id": "Az0u83BvqVbe",
        "outputId": "5afc3716-a3c7-44b5-e6c8-2ee18921ca61"
      },
      "execution_count": null,
      "outputs": [
        {
          "output_type": "stream",
          "name": "stdout",
          "text": [
            "all the statements are true\n"
          ]
        }
      ]
    },
    {
      "cell_type": "markdown",
      "source": [
        "08-05-2025"
      ],
      "metadata": {
        "id": "J7TXzv4ev7qR"
      }
    },
    {
      "cell_type": "markdown",
      "source": [
        "Conditional statements\n"
      ],
      "metadata": {
        "id": "RRez8Lyhv-s1"
      }
    },
    {
      "cell_type": "code",
      "source": [
        "#conditional statements: is used to check specific condition is ssatisfied or not\n"
      ],
      "metadata": {
        "id": "AarTwuoNw-bH"
      },
      "execution_count": null,
      "outputs": []
    },
    {
      "cell_type": "markdown",
      "source": [],
      "metadata": {
        "id": "dI6jELbJKqaB"
      }
    },
    {
      "cell_type": "code",
      "source": [
        "#To build decision making codes  we use conditional statements\n",
        "#How can we check a condition?\n",
        "#to check the condition we need to use comparison operators\n",
        "#There are 6 comparison operators\n",
        "#1.equlal's too---> ==\n",
        "#2.not equal too---> !=\n",
        "#3.greater than---> >\n",
        "#4. less than ---> <\n",
        "#5. greater than or equal too ---> >=\n",
        "#6. less than or equal too--> <=\n"
      ],
      "metadata": {
        "id": "tvlphKx4xgrM"
      },
      "execution_count": null,
      "outputs": []
    },
    {
      "cell_type": "code",
      "source": [
        "#How many conditional statements do we have?\n",
        "#3 conditional statement\n",
        "#if--->elif---->else\n",
        "#what is if?\n",
        "#if i want to check a single true condition will use 'if'\n",
        "#what is else?\n",
        "#other than if condition or if the"
      ],
      "metadata": {
        "id": "R_YAKGHJxjHa"
      },
      "execution_count": null,
      "outputs": []
    },
    {
      "cell_type": "code",
      "source": [
        "#check the 10 is greater than 5 or not\n",
        "a = 10\n",
        "if a>5:\n",
        "  print(\"True\")\n",
        "else:\n",
        "  print(\"False\")"
      ],
      "metadata": {
        "colab": {
          "base_uri": "https://localhost:8080/"
        },
        "id": "9uCEVjDIzbIn",
        "outputId": "22064e9f-9165-4f95-f15b-29218082f1ce"
      },
      "execution_count": null,
      "outputs": [
        {
          "output_type": "stream",
          "name": "stdout",
          "text": [
            "True\n"
          ]
        }
      ]
    },
    {
      "cell_type": "code",
      "source": [
        "#check a string is palindrome or not irrespective of letter case\n",
        "print('hello' == 'hello')\n",
        "print('Hello' == 'hello')"
      ],
      "metadata": {
        "colab": {
          "base_uri": "https://localhost:8080/"
        },
        "id": "XiXIv5A8ztYu",
        "outputId": "63b8c700-aed4-408a-eef6-02ada0f85168"
      },
      "execution_count": null,
      "outputs": [
        {
          "output_type": "stream",
          "name": "stdout",
          "text": [
            "True\n",
            "False\n"
          ]
        }
      ]
    },
    {
      "cell_type": "markdown",
      "source": [
        "***Nested conditions***"
      ],
      "metadata": {
        "id": "fr2LQI_902gZ"
      }
    },
    {
      "cell_type": "code",
      "source": [
        "#writing a condition inside another condition is known as nested condition\n",
        "#1.why we require nested condition? or what is the purpose of nested condition?\n",
        "#A Block of code can be executed if the previous condition is true\n",
        "#nested conditions give the series of output"
      ],
      "metadata": {
        "id": "cgMlpprB0J0i"
      },
      "execution_count": null,
      "outputs": []
    },
    {
      "cell_type": "code",
      "source": [
        "a = 20\n",
        "#check this num is greater than 10,20,30,40 and 50\n",
        "#iff the a>10---> 35 is greater than 10\n",
        "#iff the a>20---> 35 is greater than 20\n",
        "#iff the a>30---> 35 is greater than 30\n",
        "#iff the a>40---> 35 is greater than 40\n",
        "#iff the a>50---> 35 is greater than 50\n",
        "if a>10:\n",
        "  print('a is greater than 10')\n",
        "  if a>20:\n",
        "    print('a is greater than 20')\n",
        "    if a>30:\n",
        "      print('a is greater than 30')\n",
        "      if a>40:\n",
        "        print('a is greater than 40')\n",
        "        if a>50: #removed extra indentation here\n",
        "          print('a is greater than 50')\n",
        "        else:\n",
        "          print('a is less than 50')\n",
        "      else:\n",
        "        print('a is less than 40')\n",
        "    else:\n",
        "      print('a is greater than 30') #this line also has logic error and should be 'a is less than 30'\n",
        "  else:\n",
        "    print('a is less than 20')\n",
        "else:\n",
        "  print('a is less than 10')"
      ],
      "metadata": {
        "colab": {
          "base_uri": "https://localhost:8080/"
        },
        "id": "9dm0C6SN15-O",
        "outputId": "fca708d4-e76b-48fb-ad57-a88ed0a5259e"
      },
      "execution_count": null,
      "outputs": [
        {
          "output_type": "stream",
          "name": "stdout",
          "text": [
            "a is greater than 10\n",
            "a is less than 20\n"
          ]
        }
      ]
    },
    {
      "cell_type": "code",
      "source": [
        "#conditional statements ---> if-->elif--->else\n",
        "#comparison operators is also known as relational operators--->6 types, ==,!=.>,<,>=,<=\n"
      ],
      "metadata": {
        "id": "nThSGfsh4u51"
      },
      "execution_count": null,
      "outputs": []
    },
    {
      "cell_type": "markdown",
      "source": [
        "Ternary operator"
      ],
      "metadata": {
        "id": "cAS3hEfh5hLF"
      }
    },
    {
      "cell_type": "code",
      "source": [
        "x = 5\n",
        "result = \"even\" if x%2==0 else \"odd\"\n",
        "print(result)"
      ],
      "metadata": {
        "colab": {
          "base_uri": "https://localhost:8080/"
        },
        "id": "48bFeuPK5gQL",
        "outputId": "819424f7-38df-4f7e-e9a0-3af5c8fa61e4"
      },
      "execution_count": null,
      "outputs": [
        {
          "output_type": "stream",
          "name": "stdout",
          "text": [
            "odd\n"
          ]
        }
      ]
    },
    {
      "cell_type": "code",
      "source": [
        "a = \"Hello good morning\"\n",
        "#check \"good\" is present in above string\n",
        "if \"good\""
      ],
      "metadata": {
        "id": "I_ReB2Bv5wp4"
      },
      "execution_count": null,
      "outputs": []
    },
    {
      "cell_type": "code",
      "source": [
        "#write a program to check eligible for vote or not\n",
        "#greater than or equal to 18years\n",
        "x = int(input(\"Enter your age: \"))\n",
        "if x>=18:\n",
        "  print(\"You are Eligible\")\n",
        "else:\n",
        "  print(\"You are not Eligible\")"
      ],
      "metadata": {
        "id": "44vn1xT36Bah",
        "colab": {
          "base_uri": "https://localhost:8080/"
        },
        "outputId": "22ce898d-0474-4487-f872-681fd1dec969"
      },
      "execution_count": null,
      "outputs": [
        {
          "output_type": "stream",
          "name": "stdout",
          "text": [
            "Enter your age: 14\n",
            "You are not Eligible\n"
          ]
        }
      ]
    },
    {
      "cell_type": "code",
      "source": [
        "#write a program to check the grades of the students based on the received marks\n",
        "#if the student is having marks from 40 to 60---> print \"D\" grade along with marks\n",
        "#if the student is having marks from 61 to 70---> print \"c\" grade along with marks\n",
        "#if the student is having marks from 71 to 80---> print \"B\" grade along with marks\n",
        "#if the student is having marks from 81 to 90---> print \"A\" grade along with marks\n",
        "#if the student is having marks from 91 to 100---> print \"A+\" grade along with marks\n",
        "#if the sudent is having marks than 100 print \"Dont be smart\"\n",
        "#if the student is having marks less than 40 print \"Better luck next time\"\n",
        "#Use tha nested if condition along with elif.\n",
        "marks = int(input(\"Enter your marks: \"))\n",
        "\n",
        "if marks > 100:\n",
        "    print(\"Don't be smart\")\n",
        "elif marks >= 91:\n",
        "    print(f\"You got a A+ with {marks} marks!\")\n",
        "elif marks >= 81:\n",
        "    print(f\"You got a A with {marks} marks!\")\n",
        "elif marks >= 71:\n",
        "    print(f\"You got a B with {marks} marks!\")\n",
        "elif marks >= 61:\n",
        "    print(f\"You got a C with {marks} marks!\")\n",
        "elif marks >= 40:\n",
        "    print(f\"You got a D with {marks} marks!\")\n",
        "else:\n",
        "    print(\"Better luck next time\")\n"
      ],
      "metadata": {
        "id": "Ulc08ct_6U6m",
        "colab": {
          "base_uri": "https://localhost:8080/"
        },
        "outputId": "78e56627-a203-47ca-d41a-1c87e03a7405"
      },
      "execution_count": null,
      "outputs": [
        {
          "output_type": "stream",
          "name": "stdout",
          "text": [
            "Enter your marks: 95\n",
            "You got a A+ with 95 marks!\n"
          ]
        }
      ]
    },
    {
      "cell_type": "markdown",
      "source": [
        "Pass"
      ],
      "metadata": {
        "id": "VKAxioEI7ePT"
      }
    },
    {
      "cell_type": "code",
      "source": [
        "#what is pass?\n",
        "#pass is a null place holder whrn executes nothing will happens\n",
        "a = 10\n",
        "if a>20:\n",
        "  pass"
      ],
      "metadata": {
        "id": "oib_1Fy67dsN"
      },
      "execution_count": null,
      "outputs": []
    },
    {
      "cell_type": "code",
      "source": [],
      "metadata": {
        "colab": {
          "base_uri": "https://localhost:8080/"
        },
        "id": "BBsLQw2lFwDx",
        "outputId": "a5955806-9bc5-4317-8866-ca5c93d4689f"
      },
      "execution_count": 12,
      "outputs": [
        {
          "output_type": "stream",
          "name": "stdout",
          "text": [
            "512\n"
          ]
        }
      ]
    }
  ]
}