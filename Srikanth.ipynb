{
  "nbformat": 4,
  "nbformat_minor": 0,
  "metadata": {
    "colab": {
      "provenance": [],
      "include_colab_link": true
    },
    "kernelspec": {
      "name": "python3",
      "display_name": "Python 3"
    },
    "language_info": {
      "name": "python"
    }
  },
  "cells": [
    {
      "cell_type": "markdown",
      "metadata": {
        "id": "view-in-github",
        "colab_type": "text"
      },
      "source": [
        "<a href=\"https://colab.research.google.com/github/Srikanth-9492/My_python_notebook/blob/main/Srikanth.ipynb\" target=\"_parent\"><img src=\"https://colab.research.google.com/assets/colab-badge.svg\" alt=\"Open In Colab\"/></a>"
      ]
    },
    {
      "cell_type": "markdown",
      "source": [
        "#Module1_Python29-04-2025"
      ],
      "metadata": {
        "id": "BvLs0iu9lZ-U"
      }
    },
    {
      "cell_type": "code",
      "execution_count": null,
      "metadata": {
        "id": "TMvEFv2YkTB9"
      },
      "outputs": [],
      "source": [
        "#what is python\n",
        "\"\"\"1.Python is most emerging,general purposing programming language\n",
        "   2. Python is high level programming language\n",
        "   3.Python is a dynamcally typed programming language\n",
        "   4.Python is object oriented programming language\n",
        "   5.Python is interpreted programming language \"\"\"\n",
        "#what is comment?\n",
        "#for better understanding of the code we use comments\n",
        "#comments are 2 types\n",
        "#1.Single line comment\n",
        "#2.multiline comment-->double triple quotes(\"\"\" \"\"\")"
      ]
    },
    {
      "cell_type": "code",
      "source": [
        "#print \"Hello world!\" in python?\n",
        "print(\"Hello world!\")\n",
        "#print()-->it is inbuilt function used to execute and display the result"
      ],
      "metadata": {
        "colab": {
          "base_uri": "https://localhost:8080/"
        },
        "id": "n7fT5_rJnYQy",
        "outputId": "075bd298-64d3-4f2d-dd42-2dbc4b783948"
      },
      "execution_count": null,
      "outputs": [
        {
          "output_type": "stream",
          "name": "stdout",
          "text": [
            "Hello world!\n"
          ]
        }
      ]
    },
    {
      "cell_type": "markdown",
      "source": [
        "Numerical data types"
      ],
      "metadata": {
        "id": "jGrJBsfMn_jn"
      }
    },
    {
      "cell_type": "code",
      "source": [
        "#How many types of Numerical data types/\n",
        "#there are 3 types\n",
        "#1.Integer--->int-->a whole number eithe +ve or -ve without decimal point is known as integer\n",
        "print(20)\n",
        "print(5)\n",
        "#find the type for above elements\n",
        "#type()--- is an inbuilt function used to print the data type of the object\n",
        "print(type(10))\n",
        "print(type(5))"
      ],
      "metadata": {
        "colab": {
          "base_uri": "https://localhost:8080/"
        },
        "id": "lpjP62hfoGFq",
        "outputId": "c53a4ab9-cdad-48a8-d95d-9720f12c962e"
      },
      "execution_count": null,
      "outputs": [
        {
          "output_type": "stream",
          "name": "stdout",
          "text": [
            "20\n",
            "5\n",
            "<class 'int'>\n",
            "<class 'int'>\n"
          ]
        }
      ]
    },
    {
      "cell_type": "code",
      "source": [
        "#float----> #float---> A whole number either +ve or -ve with decimal point is known as float\n",
        "print(10.5)\n",
        "print(-5.5)\n",
        "#find the type for above elements\n",
        "print(type(10.5))\n",
        "print(type(-5.5))"
      ],
      "metadata": {
        "colab": {
          "base_uri": "https://localhost:8080/"
        },
        "id": "5W3ccuUbpS6a",
        "outputId": "a3616b1a-03c6-47b0-ad14-2cda2c4ce3eb"
      },
      "execution_count": null,
      "outputs": [
        {
          "output_type": "stream",
          "name": "stdout",
          "text": [
            "10.5\n",
            "-5.5\n",
            "<class 'float'>\n",
            "<class 'float'>\n"
          ]
        }
      ]
    },
    {
      "cell_type": "code",
      "source": [
        "#3.Complex numbers----->complex----> A REAL NUMBER withits imaginary part is known as complex number\n",
        "#imaginary is denoted with letter 'i'---->is known as iota\n",
        "print(2+5j)\n",
        "print(6j+3)\n",
        "print(type(2+5j))\n",
        "print(type(6j+3))"
      ],
      "metadata": {
        "colab": {
          "base_uri": "https://localhost:8080/"
        },
        "id": "TRvyXYgqqCia",
        "outputId": "cdc3af5d-8834-4b85-be2f-d1a370293314"
      },
      "execution_count": null,
      "outputs": [
        {
          "output_type": "stream",
          "name": "stdout",
          "text": [
            "(2+5j)\n",
            "(3+6j)\n",
            "<class 'complex'>\n",
            "<class 'complex'>\n"
          ]
        }
      ]
    },
    {
      "cell_type": "markdown",
      "source": [
        "Arthemetic Operators\n"
      ],
      "metadata": {
        "id": "IAALqlE7rmZj"
      }
    },
    {
      "cell_type": "code",
      "source": [
        "#How many types of arthimetic operators do we have in Python?\n",
        "#There are 7 types of arithemetic operators\n",
        "#1.Addition----->\n",
        "print(10+5)\n",
        "print(type(10+5))"
      ],
      "metadata": {
        "colab": {
          "base_uri": "https://localhost:8080/"
        },
        "collapsed": true,
        "id": "V-VfMrBcr3s8",
        "outputId": "38f52667-a573-4579-87f3-0a7bd7d2bdfd"
      },
      "execution_count": null,
      "outputs": [
        {
          "output_type": "stream",
          "name": "stdout",
          "text": [
            "15\n",
            "<class 'int'>\n"
          ]
        }
      ]
    },
    {
      "cell_type": "code",
      "source": [
        "#2.Substraction------>\n",
        "print(10-5)\n",
        "print(type(10-5))"
      ],
      "metadata": {
        "colab": {
          "base_uri": "https://localhost:8080/"
        },
        "collapsed": true,
        "id": "RF7gfK9LsI2E",
        "outputId": "608f5a57-bd27-4c6b-9cc8-0e723262308d"
      },
      "execution_count": null,
      "outputs": [
        {
          "output_type": "stream",
          "name": "stdout",
          "text": [
            "5\n",
            "<class 'int'>\n"
          ]
        }
      ]
    },
    {
      "cell_type": "code",
      "source": [
        "#3.Multiplication ------>\n",
        "print(2*3)\n",
        "print(type(2*3))"
      ],
      "metadata": {
        "colab": {
          "base_uri": "https://localhost:8080/"
        },
        "id": "OZhyEGkcsjNn",
        "outputId": "70aa10af-064a-4570-945e-4a451215c6b8"
      },
      "execution_count": null,
      "outputs": [
        {
          "output_type": "stream",
          "name": "stdout",
          "text": [
            "6\n",
            "<class 'int'>\n"
          ]
        }
      ]
    },
    {
      "cell_type": "code",
      "source": [
        "#4.Division------>\n",
        "print(10/5)\n",
        "print(type(10/5))\n",
        "#what is default data type for the division--->why\n",
        "#some times in divison we may get decimal number in quotient or integers also.So the founder\n",
        "#(Gudeo Van Rossum) to get the proper quotient data type for division is float"
      ],
      "metadata": {
        "colab": {
          "base_uri": "https://localhost:8080/"
        },
        "id": "qBm3QDzqsu2E",
        "outputId": "28a79dc4-329f-45f0-b4f1-07730065d12b"
      },
      "execution_count": null,
      "outputs": [
        {
          "output_type": "stream",
          "name": "stdout",
          "text": [
            "2.0\n",
            "<class 'float'>\n"
          ]
        }
      ]
    },
    {
      "cell_type": "code",
      "source": [
        "#5.Modulus--->%----> remainder of the division\n",
        "print(10%5)\n",
        "print(type(10%5))"
      ],
      "metadata": {
        "colab": {
          "base_uri": "https://localhost:8080/"
        },
        "id": "C2lViKztu3j1",
        "outputId": "ab6515ae-3fac-4e57-b94b-7f1184111388"
      },
      "execution_count": null,
      "outputs": [
        {
          "output_type": "stream",
          "name": "stdout",
          "text": [
            "0\n",
            "<class 'int'>\n"
          ]
        }
      ]
    },
    {
      "cell_type": "code",
      "source": [
        "#6.Exponential---->**---> to the power off\n",
        "print(2**3)\n",
        "print(type(2**3))"
      ],
      "metadata": {
        "colab": {
          "base_uri": "https://localhost:8080/"
        },
        "collapsed": true,
        "id": "orXeDF7nvI-N",
        "outputId": "d5d75af9-dcdf-47fd-e5db-d91fc18d8b39"
      },
      "execution_count": null,
      "outputs": [
        {
          "output_type": "stream",
          "name": "stdout",
          "text": [
            "8\n",
            "<class 'int'>\n"
          ]
        }
      ]
    },
    {
      "cell_type": "code",
      "source": [
        "#7.Floor Division---->//---->also known as integer division\n",
        "#it ignores the values after the decimal point for a quotient\n",
        "print(10/3)\n",
        "print(10//3)"
      ],
      "metadata": {
        "colab": {
          "base_uri": "https://localhost:8080/"
        },
        "id": "37ttHifUvZzq",
        "outputId": "3e319b4a-9851-4a53-9b4d-ac09875ed9ee"
      },
      "execution_count": null,
      "outputs": [
        {
          "output_type": "stream",
          "name": "stdout",
          "text": [
            "3.3333333333333335\n",
            "3\n"
          ]
        }
      ]
    },
    {
      "cell_type": "code",
      "source": [
        "#what is floor value?\n",
        "#The values before the decimal point is known as floor value\n",
        "#what is ceil value?\n",
        "#the text upcoming value for a decimal number where the decimal point is more than 0.5"
      ],
      "metadata": {
        "id": "npUWiZ4Sv4Wn"
      },
      "execution_count": null,
      "outputs": []
    },
    {
      "cell_type": "markdown",
      "source": [
        "round()"
      ],
      "metadata": {
        "id": "O2GJbOZRwWJO"
      }
    },
    {
      "cell_type": "code",
      "source": [
        "#1.round() works only for the decimal numbers\n",
        "#2.if the decimal point more than 0.5 round() print the next upcoming value--->ceil value\n",
        "#3.if the decimal point less than 0.5 round() print the floor value\n",
        "print(round(9))\n",
        "print(round(5.5))\n",
        "print(round(5.48))\n",
        "print(round(1234.46789))\n",
        "print(round(567.987))\n",
        "#round() is used print number with specific ndigits\n",
        "#round(number,ndigits)\n"
      ],
      "metadata": {
        "colab": {
          "base_uri": "https://localhost:8080/"
        },
        "id": "_bXB3mD5wUgi",
        "outputId": "10843323-a1ed-45c7-dfb1-8778f9ffb8db"
      },
      "execution_count": null,
      "outputs": [
        {
          "output_type": "stream",
          "name": "stdout",
          "text": [
            "9\n",
            "6\n",
            "5\n",
            "1234\n",
            "568\n"
          ]
        }
      ]
    },
    {
      "cell_type": "code",
      "source": [
        "print(round(231537.8378844540))\n",
        "print(round(426.3284747,3))"
      ],
      "metadata": {
        "colab": {
          "base_uri": "https://localhost:8080/"
        },
        "id": "8g-hAVOsx8kz",
        "outputId": "7497196d-a9d6-4a3d-8320-9a6db6d836d4"
      },
      "execution_count": null,
      "outputs": [
        {
          "output_type": "stream",
          "name": "stdout",
          "text": [
            "231538\n",
            "426.328\n"
          ]
        }
      ]
    },
    {
      "cell_type": "code",
      "source": [
        "print(round(785.42563,0))\n",
        "print(round(6589.32947890,5))\n",
        "print(round(12.59426,4))"
      ],
      "metadata": {
        "colab": {
          "base_uri": "https://localhost:8080/"
        },
        "id": "cLt6ruNUyjFj",
        "outputId": "8b6adcbb-ecea-4951-b179-13172a0a13db"
      },
      "execution_count": null,
      "outputs": [
        {
          "output_type": "stream",
          "name": "stdout",
          "text": [
            "785.0\n",
            "6589.32948\n",
            "12.5943\n"
          ]
        }
      ]
    },
    {
      "cell_type": "code",
      "source": [
        "#round(-ve digit)\n",
        "#variables\n",
        "#types of errors\n",
        "#industrial rules to create the variables\n",
        "#what is dynamically typed programming language\n",
        "#why python is interpreted programming\n",
        "#prove python is a case sensitive programming language\n",
        "#smart ways of writing variables\n",
        "#input()"
      ],
      "metadata": {
        "id": "FWVYEfaOy2yR"
      },
      "execution_count": null,
      "outputs": []
    },
    {
      "cell_type": "markdown",
      "source": [
        "30_04_2025\n",
        "\n",
        "round()"
      ],
      "metadata": {
        "id": "QaLUOoPZtyop"
      }
    },
    {
      "cell_type": "code",
      "source": [
        "print(3754.2366325)\n",
        "print(round(3754.2366325,2))\n"
      ],
      "metadata": {
        "colab": {
          "base_uri": "https://localhost:8080/"
        },
        "id": "MxUNvhMmubQh",
        "outputId": "5ebb930a-3921-4ea3-d791-e80b117ca42b"
      },
      "execution_count": null,
      "outputs": [
        {
          "output_type": "stream",
          "name": "stdout",
          "text": [
            "3754.2366325\n",
            "3754.24\n"
          ]
        }
      ]
    },
    {
      "cell_type": "code",
      "source": [
        "print(3754.2366325)\n",
        "print(round(3754.2366325,-2))\n",
        "#after decimal point the number become zero"
      ],
      "metadata": {
        "colab": {
          "base_uri": "https://localhost:8080/"
        },
        "id": "W5_PTId2vH6t",
        "outputId": "c09c89d2-ef38-4d1e-d0c8-586c301dbbc4"
      },
      "execution_count": null,
      "outputs": [
        {
          "output_type": "stream",
          "name": "stdout",
          "text": [
            "3754.2366325\n",
            "3800.0\n"
          ]
        }
      ]
    },
    {
      "cell_type": "code",
      "source": [
        "print(3754.2366325)\n",
        "print(round(3754.2366325,-3))"
      ],
      "metadata": {
        "colab": {
          "base_uri": "https://localhost:8080/"
        },
        "id": "UTgJFJa7vaCE",
        "outputId": "8139ab2b-2fac-44db-f8c3-2d3598d02f17"
      },
      "execution_count": null,
      "outputs": [
        {
          "output_type": "stream",
          "name": "stdout",
          "text": [
            "3754.2366325\n",
            "4000.0\n"
          ]
        }
      ]
    },
    {
      "cell_type": "code",
      "source": [
        "print(3754.2366325)\n",
        "print(round(3754.2366325,-4))"
      ],
      "metadata": {
        "colab": {
          "base_uri": "https://localhost:8080/"
        },
        "id": "H5BkJU9evn-h",
        "outputId": "0c8e68a4-6e25-48c3-bfc7-3de50b87ba1d"
      },
      "execution_count": null,
      "outputs": [
        {
          "output_type": "stream",
          "name": "stdout",
          "text": [
            "3754.2366325\n",
            "0.0\n"
          ]
        }
      ]
    },
    {
      "cell_type": "code",
      "source": [
        "print(round(827256.723456,-3))"
      ],
      "metadata": {
        "colab": {
          "base_uri": "https://localhost:8080/"
        },
        "id": "UopdTs03vtU9",
        "outputId": "3545338e-ab05-462b-fd18-91747e8d8ec8"
      },
      "execution_count": null,
      "outputs": [
        {
          "output_type": "stream",
          "name": "stdout",
          "text": [
            "827000.0\n"
          ]
        }
      ]
    },
    {
      "cell_type": "code",
      "source": [
        "print(round(827256.723456,-4))"
      ],
      "metadata": {
        "colab": {
          "base_uri": "https://localhost:8080/"
        },
        "id": "cfgdrIiZwURP",
        "outputId": "05d4c750-0769-4f72-dba1-253330fad461"
      },
      "execution_count": null,
      "outputs": [
        {
          "output_type": "stream",
          "name": "stdout",
          "text": [
            "830000.0\n"
          ]
        }
      ]
    },
    {
      "cell_type": "code",
      "source": [
        "print(round(-12345.4567,-3))"
      ],
      "metadata": {
        "colab": {
          "base_uri": "https://localhost:8080/"
        },
        "id": "GastTRddwUJ6",
        "outputId": "ae8fc6d4-12bd-4b20-d64f-ab0e5a85f294"
      },
      "execution_count": null,
      "outputs": [
        {
          "output_type": "stream",
          "name": "stdout",
          "text": [
            "-12000.0\n"
          ]
        }
      ]
    },
    {
      "cell_type": "code",
      "source": [
        "print(round(73424.3452,-5))"
      ],
      "metadata": {
        "colab": {
          "base_uri": "https://localhost:8080/"
        },
        "id": "P4bsof2txcWE",
        "outputId": "0d66c508-0c49-4aa0-a145-9d7ef186a888"
      },
      "execution_count": null,
      "outputs": [
        {
          "output_type": "stream",
          "name": "stdout",
          "text": [
            "100000.0\n"
          ]
        }
      ]
    },
    {
      "cell_type": "code",
      "source": [
        "print(round(53624.73626,-5))"
      ],
      "metadata": {
        "colab": {
          "base_uri": "https://localhost:8080/"
        },
        "id": "-r_uEug9xnxk",
        "outputId": "f9dfc0f5-5c55-4909-834a-87ff42233bb3"
      },
      "execution_count": null,
      "outputs": [
        {
          "output_type": "stream",
          "name": "stdout",
          "text": [
            "100000.0\n"
          ]
        }
      ]
    },
    {
      "cell_type": "markdown",
      "source": [
        "Variables"
      ],
      "metadata": {
        "id": "F6jevzBJx37f"
      }
    },
    {
      "cell_type": "code",
      "source": [
        "#what is a variable?\n",
        "#variables are containers where we can store our valuable information/data to reuse it\n",
        "#How can we create a variable and how can we access the data from variables?\n",
        "a = \"Hello world!\"\n",
        "print(a)\n",
        "print(type(a))"
      ],
      "metadata": {
        "colab": {
          "base_uri": "https://localhost:8080/"
        },
        "id": "8naZBy2ox9uH",
        "outputId": "48117ca2-b2eb-4bf5-abc7-bf4ef6759fb7"
      },
      "execution_count": null,
      "outputs": [
        {
          "output_type": "stream",
          "name": "stdout",
          "text": [
            "Hello world!\n",
            "<class 'str'>\n"
          ]
        }
      ]
    },
    {
      "cell_type": "code",
      "source": [
        "#take two variables and apply all arthemetic operators\n",
        "a = 10\n",
        "b = 5\n",
        "print(a+b)\n",
        "print(a-b)\n",
        "print(a*b)\n",
        "print(a/b)"
      ],
      "metadata": {
        "colab": {
          "base_uri": "https://localhost:8080/"
        },
        "id": "iRBFebtCzbQs",
        "outputId": "02c11c16-ce7a-4f4a-d584-1c38e5279f09"
      },
      "execution_count": null,
      "outputs": [
        {
          "output_type": "stream",
          "name": "stdout",
          "text": [
            "15\n",
            "5\n",
            "50\n",
            "2.0\n"
          ]
        }
      ]
    },
    {
      "cell_type": "markdown",
      "source": [
        "Types of Errors"
      ],
      "metadata": {
        "id": "6lml_ZXYz6zu"
      }
    },
    {
      "cell_type": "code",
      "source": [
        "#How many types of errors do we have in Python?\n",
        "#there are 2 types of errors\n",
        "#1.Syntax Error:-when you break rules of a programming language it can rise syntax error\n",
        "'''hello I am using\n",
        "multiline comment when we use single triple quotes\n",
        "we need to enclose with single quotes\"\"\"\n",
        "#2.logical Error:-except syntax error all the errors comes under logical errors\n",
        "print(10* *5)\n",
        "#ex:- indentation errors,Name error, Type error, attribute error, recurssive error....etc\n"
      ],
      "metadata": {
        "id": "4fuu6n1Az5pP"
      },
      "execution_count": null,
      "outputs": []
    },
    {
      "cell_type": "markdown",
      "source": [
        "rules to create variables"
      ],
      "metadata": {
        "id": "19Fy7neg2NNQ"
      }
    },
    {
      "cell_type": "code",
      "source": [
        "#1.start creating the variables by using alphabets\n",
        "son = 20\n",
        "print(son)"
      ],
      "metadata": {
        "colab": {
          "base_uri": "https://localhost:8080/"
        },
        "id": "iUg35Y4C2Muh",
        "outputId": "08de7012-27af-4064-fa6b-08cb13b4c771"
      },
      "execution_count": null,
      "outputs": [
        {
          "output_type": "stream",
          "name": "stdout",
          "text": [
            "20\n"
          ]
        }
      ]
    },
    {
      "cell_type": "code",
      "source": [
        "#2.dont start creating the variable by using numbers\n",
        "2 = \"hello\"\n",
        "print(2)"
      ],
      "metadata": {
        "id": "s4E0CwNy2gGo"
      },
      "execution_count": null,
      "outputs": []
    },
    {
      "cell_type": "code",
      "source": [
        "#2.dont start creating the variable by using numbers\n",
        "2 = \"hello\"\n",
        "print(2)"
      ],
      "metadata": {
        "id": "4jRe5qBU2s9W"
      },
      "execution_count": null,
      "outputs": []
    },
    {
      "cell_type": "code",
      "source": [
        "#4.dont use special characters in the variable name--->!,@,#,$,%,^,&,*,?,white space\n",
        "son@age = 20\n",
        "print(son@age)"
      ],
      "metadata": {
        "id": "YHXuT7Sm-EB3"
      },
      "execution_count": null,
      "outputs": []
    },
    {
      "cell_type": "code",
      "source": [
        "#5.start creating the variable by using under score __\n",
        "_ = 10\n",
        "print(_)"
      ],
      "metadata": {
        "colab": {
          "base_uri": "https://localhost:8080/"
        },
        "id": "bhh3MaRp-mQc",
        "outputId": "cb2c48db-51bd-402e-eb7f-c6513dbd1fc3"
      },
      "execution_count": null,
      "outputs": [
        {
          "output_type": "stream",
          "name": "stdout",
          "text": [
            "10\n"
          ]
        }
      ]
    },
    {
      "cell_type": "code",
      "source": [
        "#instead of space use the underscore\n",
        "son_age = 20\n",
        "print(son_age)"
      ],
      "metadata": {
        "colab": {
          "base_uri": "https://localhost:8080/"
        },
        "id": "etHUUQEd-yEH",
        "outputId": "93d4d575-35f2-488f-88c3-2b67856496a9"
      },
      "execution_count": null,
      "outputs": [
        {
          "output_type": "stream",
          "name": "stdout",
          "text": [
            "20\n"
          ]
        }
      ]
    },
    {
      "cell_type": "code",
      "source": [
        "#6.Dont use the inbuilt keywords in the variable name\n",
        "import keyword\n",
        "print(keyword.kwlist)"
      ],
      "metadata": {
        "colab": {
          "base_uri": "https://localhost:8080/"
        },
        "id": "3-Ob2Cy4-84y",
        "outputId": "9fd1f971-e1b3-41d2-a354-65f904952010"
      },
      "execution_count": null,
      "outputs": [
        {
          "output_type": "stream",
          "name": "stdout",
          "text": [
            "['False', 'None', 'True', 'and', 'as', 'assert', 'async', 'await', 'break', 'class', 'continue', 'def', 'del', 'elif', 'else', 'except', 'finally', 'for', 'from', 'global', 'if', 'import', 'in', 'is', 'lambda', 'nonlocal', 'not', 'or', 'pass', 'raise', 'return', 'try', 'while', 'with', 'yield']\n"
          ]
        }
      ]
    },
    {
      "cell_type": "code",
      "source": [
        "None = 90\n",
        "print(None)"
      ],
      "metadata": {
        "id": "ZGpVrm9FAvfL"
      },
      "execution_count": null,
      "outputs": []
    },
    {
      "cell_type": "code",
      "source": [
        "#7.we cannot encourage to write a variable name in uppercase letters\n",
        "SONAGE = 30\n",
        "print(SONAGE)"
      ],
      "metadata": {
        "colab": {
          "base_uri": "https://localhost:8080/"
        },
        "id": "FRxvwDuDA2zp",
        "outputId": "54e30720-174a-444d-e35a-9c3b54d18bb2"
      },
      "execution_count": null,
      "outputs": [
        {
          "output_type": "stream",
          "name": "stdout",
          "text": [
            "30\n"
          ]
        }
      ]
    },
    {
      "cell_type": "code",
      "source": [
        "# object oriented programming means each LOC having own identity own properties own interaction based on three ways the object is belongs to certain category of class"
      ],
      "metadata": {
        "id": "hKlGbENMBe2w"
      },
      "execution_count": null,
      "outputs": []
    },
    {
      "cell_type": "markdown",
      "source": [
        "Python is a dynamically typed programming language"
      ],
      "metadata": {
        "id": "h-1_yIrdCUWj"
      }
    },
    {
      "cell_type": "code",
      "source": [
        "#we no need to define the datatypes to the variables in the python\n",
        "#python can read the data automatically by itself\n",
        "a = 10\n",
        "print(type(a))\n",
        "b = \"How\"\n",
        "print(type(b))"
      ],
      "metadata": {
        "colab": {
          "base_uri": "https://localhost:8080/"
        },
        "id": "9pc0SX0dCSyg",
        "outputId": "48c73039-e2f1-4102-fa0c-c0d677303bbd"
      },
      "execution_count": null,
      "outputs": [
        {
          "output_type": "stream",
          "name": "stdout",
          "text": [
            "<class 'int'>\n",
            "<class 'str'>\n"
          ]
        }
      ]
    },
    {
      "cell_type": "markdown",
      "source": [
        "Python is a interpreted programming language"
      ],
      "metadata": {
        "id": "lqXuEuNhC3fE"
      }
    },
    {
      "cell_type": "code",
      "source": [
        "#python execute the code step by step and last line of values can be taken into consideration\n",
        "a = 20\n",
        "b = 4\n",
        "a = 5\n",
        "b = 10\n",
        "print(a+b)"
      ],
      "metadata": {
        "colab": {
          "base_uri": "https://localhost:8080/"
        },
        "id": "9TtM6xMCC8Co",
        "outputId": "3f3b49e6-3294-4653-c0d1-f087c139bde1"
      },
      "execution_count": null,
      "outputs": [
        {
          "output_type": "stream",
          "name": "stdout",
          "text": [
            "15\n"
          ]
        }
      ]
    },
    {
      "cell_type": "markdown",
      "source": [
        "Python is a case sensitive programming language"
      ],
      "metadata": {
        "id": "XjJhgHF_DNN9"
      }
    },
    {
      "cell_type": "code",
      "source": [
        "c = 10\n",
        "print(C)"
      ],
      "metadata": {
        "id": "Uj_f5ZhEDStK"
      },
      "execution_count": null,
      "outputs": []
    },
    {
      "cell_type": "markdown",
      "source": [
        "Smart ways of writing variables"
      ],
      "metadata": {
        "id": "etrbmgjPDcwf"
      }
    },
    {
      "cell_type": "code",
      "source": [
        "#1.assign multiple value to multiple variables and printing separate line?\n",
        "# hint:take 3 variables and assign values\n",
        "a = 10\n",
        "b = 5\n",
        "c = 4\n",
        "print(a)\n",
        "print(b)\n",
        "print(c)"
      ],
      "metadata": {
        "colab": {
          "base_uri": "https://localhost:8080/"
        },
        "id": "wPQF4ufQDYNB",
        "outputId": "ef285fc2-a328-4785-a603-c4575cc259ea"
      },
      "execution_count": null,
      "outputs": [
        {
          "output_type": "stream",
          "name": "stdout",
          "text": [
            "10\n",
            "5\n",
            "4\n"
          ]
        }
      ]
    },
    {
      "cell_type": "code",
      "source": [
        "a,b,c = 10,20,30\n",
        "print(a,b,c, sep='\\n')"
      ],
      "metadata": {
        "colab": {
          "base_uri": "https://localhost:8080/"
        },
        "id": "uQzTCSdwEGc-",
        "outputId": "edc0ea9f-81cb-4dd3-e80c-4e39640aad07"
      },
      "execution_count": null,
      "outputs": [
        {
          "output_type": "stream",
          "name": "stdout",
          "text": [
            "10\n",
            "20\n",
            "30\n"
          ]
        }
      ]
    },
    {
      "cell_type": "code",
      "source": [
        "#Assign the same value to the variables and print in sep line\n",
        "a = b = c = 10\n",
        "print(a,b,c, sep='\\n')"
      ],
      "metadata": {
        "colab": {
          "base_uri": "https://localhost:8080/"
        },
        "id": "fivRr6c5EV_G",
        "outputId": "2567620d-044d-4caf-bc00-688643e01c88"
      },
      "execution_count": null,
      "outputs": [
        {
          "output_type": "stream",
          "name": "stdout",
          "text": [
            "10\n",
            "10\n",
            "10\n"
          ]
        }
      ]
    },
    {
      "cell_type": "code",
      "source": [
        "a = b = c = 10\n",
        "print(a,b,c)"
      ],
      "metadata": {
        "colab": {
          "base_uri": "https://localhost:8080/"
        },
        "id": "6fSYaGsuE3qR",
        "outputId": "cfefffbf-27c5-4114-c3df-c191683ad0c2"
      },
      "execution_count": null,
      "outputs": [
        {
          "output_type": "stream",
          "name": "stdout",
          "text": [
            "10 10 10\n"
          ]
        }
      ]
    },
    {
      "cell_type": "markdown",
      "source": [
        "01-05-2025"
      ],
      "metadata": {
        "id": "DcVok7mpuCfl"
      }
    },
    {
      "cell_type": "markdown",
      "source": [
        "***input()***"
      ],
      "metadata": {
        "id": "eKsaVRnruHxw"
      }
    },
    {
      "cell_type": "code",
      "source": [
        "#what is input()?\n",
        "#input() is a inbuilt function where it can intakes any kind of information or value and store it\n",
        "#How can we create the input()?\n",
        "#by assigning to a variable\n",
        "a = input('Enter your Name: ')\n",
        "#HOow can we access the information from input()?\n",
        "print(a)"
      ],
      "metadata": {
        "id": "cgN3x_j9sFPV"
      },
      "execution_count": null,
      "outputs": []
    },
    {
      "cell_type": "code",
      "source": [
        "#take 2 input functions and apply addition on it\n",
        "a = input('enter num1: ')\n",
        "b = input('enter num2: ')\n",
        "print(a+b)\n",
        "#Note:- The default data type for input() is strings\n",
        "#adding of two strings is known as concatenation"
      ],
      "metadata": {
        "colab": {
          "base_uri": "https://localhost:8080/"
        },
        "id": "SRWGrR9VwPLD",
        "outputId": "ac07a1de-d483-4056-efaf-17b2d8bebacf"
      },
      "execution_count": null,
      "outputs": [
        {
          "output_type": "stream",
          "name": "stdout",
          "text": [
            "enter num1: 7\n",
            "enter num2: 3\n",
            "73\n"
          ]
        }
      ]
    },
    {
      "cell_type": "code",
      "source": [
        "#How can we deal with numerical data when we use input()?\n",
        "#before the input() we need specify the particular numerical data type, int or float\n",
        "a = int(input('enter num1: '))\n",
        "b = int(input('enter num2: '))\n",
        "print(a+b)"
      ],
      "metadata": {
        "id": "vA4kYlBww2px",
        "colab": {
          "base_uri": "https://localhost:8080/"
        },
        "outputId": "8fd1e6ad-cb1d-4e0b-d9f6-8f6228d2d8dc"
      },
      "execution_count": null,
      "outputs": [
        {
          "output_type": "stream",
          "name": "stdout",
          "text": [
            "enter num1: 3\n",
            "enter num2: 5\n",
            "8\n"
          ]
        }
      ]
    },
    {
      "cell_type": "code",
      "source": [
        "a = float(input('enter num1: '))\n",
        "b = float(input('enter num2: '))\n",
        "print(a+b)"
      ],
      "metadata": {
        "colab": {
          "base_uri": "https://localhost:8080/"
        },
        "id": "mo7BfIhxzrey",
        "outputId": "acf4faeb-9a7d-4a4b-d629-20e12fc77801"
      },
      "execution_count": null,
      "outputs": [
        {
          "output_type": "stream",
          "name": "stdout",
          "text": [
            "enter num1: 34.6\n",
            "enter num2: 23.6\n",
            "58.2\n"
          ]
        }
      ]
    },
    {
      "cell_type": "code",
      "source": [],
      "metadata": {
        "id": "9mpgcKg4IO71"
      },
      "execution_count": null,
      "outputs": []
    },
    {
      "cell_type": "markdown",
      "source": [
        "#Strings"
      ],
      "metadata": {
        "id": "6JZJCz9u0zkv"
      }
    },
    {
      "cell_type": "code",
      "source": [
        "    #what is Strings?\n",
        "#string is collection of multiple characters where each characters can be accessible\n",
        "#How can we declare string?\n",
        "#a string declared by using(\" \") or (' ')\n",
        "#How many types of strings do we have?\n",
        "#There are 2 types\n",
        "#1.single line string--->\" \" or ' '\n",
        "#2.multiline string---->\"\"\"double triple quotes \"\"\" or '''single triple quotes'''\n",
        "\n"
      ],
      "metadata": {
        "id": "eVpbAkrFz3tw"
      },
      "execution_count": null,
      "outputs": []
    },
    {
      "cell_type": "code",
      "source": [
        "print(\"Hello world!\")\n",
        "a = \"\"\"Hi\n",
        "       Good day!\n",
        "       Today session is about strings\"\"\"\n",
        "print(a)"
      ],
      "metadata": {
        "colab": {
          "base_uri": "https://localhost:8080/"
        },
        "id": "Ra_Hkw9M2CQi",
        "outputId": "9add3ae5-cd38-4639-dcc1-350f665ccf55"
      },
      "execution_count": null,
      "outputs": [
        {
          "output_type": "stream",
          "name": "stdout",
          "text": [
            "Hello world!\n",
            "Hi\n",
            "       Good day!\n",
            "       Today session is about strings\n"
          ]
        }
      ]
    },
    {
      "cell_type": "code",
      "source": [
        "#How can we access the characters from the string\n",
        "#by using indexing and slicing operator---->[]\n",
        "#what is indexing?\n",
        "#positional number character in the string\n",
        "#the indexing can be starts from zero\n",
        "#The process of accessing a range of characters from string is known as slicing\n",
        "#The range of characters from the main string is known as sub-string"
      ],
      "metadata": {
        "id": "NrRWfxpB2ZGE"
      },
      "execution_count": null,
      "outputs": []
    },
    {
      "cell_type": "code",
      "source": [
        "a = \"Hello world!\"\n",
        "#from the above string print letter 'w'\n",
        "#syntax:- [index number]\n",
        "print(a[6])\n",
        "#print letter 'd'\n",
        "print(a[10])"
      ],
      "metadata": {
        "colab": {
          "base_uri": "https://localhost:8080/"
        },
        "id": "gME0rkEX4QXu",
        "outputId": "0b4f95ed-b2da-4188-de31-009b31e635fc"
      },
      "execution_count": null,
      "outputs": [
        {
          "output_type": "stream",
          "name": "stdout",
          "text": [
            "w\n",
            "d\n"
          ]
        }
      ]
    },
    {
      "cell_type": "code",
      "source": [
        "#access the range of characters from above string print only \"hello\"\n",
        "#syntax :- [start:end_index] ----> always give the end_index can be ---->n+1\n",
        "print(a[0:4])\n",
        "#"
      ],
      "metadata": {
        "colab": {
          "base_uri": "https://localhost:8080/"
        },
        "id": "yaUi6K0O430d",
        "outputId": "4e19ac93-fc8a-45c4-9616-56f026e4aaf2"
      },
      "execution_count": null,
      "outputs": [
        {
          "output_type": "stream",
          "name": "stdout",
          "text": [
            "Hell\n"
          ]
        }
      ]
    },
    {
      "cell_type": "code",
      "source": [
        "b = \"Hello world!\"\n",
        "print(b[6:12])"
      ],
      "metadata": {
        "colab": {
          "base_uri": "https://localhost:8080/"
        },
        "id": "WgXvI1eZ5ku5",
        "outputId": "a092b1a4-c991-49a5-b2c2-b8f62a3bd7ff"
      },
      "execution_count": null,
      "outputs": [
        {
          "output_type": "stream",
          "name": "stdout",
          "text": [
            "world!\n"
          ]
        }
      ]
    },
    {
      "cell_type": "code",
      "source": [
        "c = \"hello good evening!\"\n",
        "#print \"good\"\n",
        "print(c[6:10])"
      ],
      "metadata": {
        "colab": {
          "base_uri": "https://localhost:8080/"
        },
        "id": "w8aa7yXX5vEt",
        "outputId": "149f00e7-943c-4ed2-8a96-e556c22a30ab"
      },
      "execution_count": null,
      "outputs": [
        {
          "output_type": "stream",
          "name": "stdout",
          "text": [
            "good\n"
          ]
        }
      ]
    },
    {
      "cell_type": "code",
      "source": [
        "d = \"Hello world!\"\n",
        "#from above string print the characters at the even inde position number\n",
        "#syntax---->[start:end:step]\n",
        "print(d[0:12:2])\n",
        "#from above string print the odd index position characters.\n",
        "print(d[1:12:2])\n",
        "#print the last character of the string\n",
        "print(d[11])"
      ],
      "metadata": {
        "colab": {
          "base_uri": "https://localhost:8080/"
        },
        "id": "suoyUg3T6eTA",
        "outputId": "f02d7f86-8ef1-4065-ccea-249dcd3d94c2"
      },
      "execution_count": null,
      "outputs": [
        {
          "output_type": "stream",
          "name": "stdout",
          "text": [
            "Hlowrd\n",
            "el ol!\n",
            "!\n"
          ]
        }
      ]
    },
    {
      "cell_type": "code",
      "source": [
        "#what is negative indexing?\n",
        "#accessing the range of characters in reverse direction by using -ve indexing\n",
        "#negative indexing starts with -1\n",
        "a = \"Hello guys accessing the range of characters in reverse direction\"\n",
        "#syntax:- [-ve_index]\n",
        "print(a[-1])"
      ],
      "metadata": {
        "colab": {
          "base_uri": "https://localhost:8080/"
        },
        "id": "FjIVtxYW74cV",
        "outputId": "6a4be3de-757c-4131-8fcf-84d04f3dd191"
      },
      "execution_count": null,
      "outputs": [
        {
          "output_type": "stream",
          "name": "stdout",
          "text": [
            "n\n"
          ]
        }
      ]
    },
    {
      "cell_type": "code",
      "source": [
        "#access the range of characters in reverse direction--- for ex access 'world!'\n",
        "#expect_output:- !dlrow\n",
        "#syntax:- [start-ve index:end-ve index]\n",
        "a = \"Hello world!\"\n",
        "print(a[-1:-7:-1])\n",
        "print(a[6:12])\n",
        "#Because the default slicing direction is from left to right\n",
        "#if you want to reverse a string we need define the step_index as -1"
      ],
      "metadata": {
        "colab": {
          "base_uri": "https://localhost:8080/"
        },
        "id": "WH_TcJBn81bG",
        "outputId": "5a61ec5b-0615-4b0e-b2d2-0021f6659c4e"
      },
      "execution_count": null,
      "outputs": [
        {
          "output_type": "stream",
          "name": "stdout",
          "text": [
            "!dlrow\n",
            "world!\n"
          ]
        }
      ]
    },
    {
      "cell_type": "code",
      "source": [
        "#find the length of the below string?\n",
        "d = \"Hello world!\"\n",
        "print(len(d))\n",
        "#len starts from 1"
      ],
      "metadata": {
        "colab": {
          "base_uri": "https://localhost:8080/"
        },
        "id": "AyG2k6cv-Gl1",
        "outputId": "555cc277-ed9b-4bf0-eacc-5815959be2b7"
      },
      "execution_count": null,
      "outputs": [
        {
          "output_type": "stream",
          "name": "stdout",
          "text": [
            "12\n"
          ]
        }
      ]
    },
    {
      "cell_type": "markdown",
      "source": [
        "Default indexing\n"
      ],
      "metadata": {
        "id": "KoCAoRGn-cxG"
      }
    },
    {
      "cell_type": "code",
      "source": [
        "a = \"Hello World!\"\n",
        "print(a[:])\n",
        "print(a[0:len(a)])\n",
        "print(a[::2])\n",
        "print(a[1::2])"
      ],
      "metadata": {
        "colab": {
          "base_uri": "https://localhost:8080/"
        },
        "id": "vE9o2A2n-fK7",
        "outputId": "c06a13a0-90af-49bc-9242-9bc378154f73"
      },
      "execution_count": null,
      "outputs": [
        {
          "output_type": "stream",
          "name": "stdout",
          "text": [
            "Hello World!\n",
            "Hello World!\n",
            "HloWrd\n",
            "el ol!\n"
          ]
        }
      ]
    },
    {
      "cell_type": "code",
      "source": [
        "#check the string whether it is palindrome or not\n",
        "b = input(\"enter the string\")\n",
        "print(b[::-1])"
      ],
      "metadata": {
        "id": "-6Xp7P6k_TPd"
      },
      "execution_count": null,
      "outputs": []
    },
    {
      "cell_type": "markdown",
      "source": [
        "02-05-2025"
      ],
      "metadata": {
        "id": "OC_7vULt3XCq"
      }
    },
    {
      "cell_type": "markdown",
      "source": [
        "String Methods"
      ],
      "metadata": {
        "id": "3CKLMpaSDH6y"
      }
    },
    {
      "cell_type": "code",
      "source": [
        "#what is string? #what are all the methods we can apply on string\n",
        "#The methods applied on string is known as string methods\n",
        "#if i want to know all the methods of a string use---> dir()\n",
        "a = \"Hello World!\"\n",
        "print(type(a))\n",
        "print(dir(a))\n",
        "\"\"\"'capitalize', 'casefold', 'center', 'count', 'encode', 'endswith', 'expandtabs', 'find', 'format', 'format_map',\n",
        "'index', 'isalnum', 'isalpha', 'isascii', 'isdecimal', 'isdigit', 'isidentifier', 'islower', 'isnumeric', 'isprintable',\n",
        " 'isspace', 'istitle', 'isupper', 'join', 'ljust', 'lower', 'lstrip', 'maketrans', 'partition', 'removeprefix',\n",
        "  'removesuffix', 'replace', 'rfind', 'rindex', 'rjust', 'rpartition', 'rsplit', 'rstrip',\n",
        "'split', 'splitlines', 'startswith', 'strip', 'swapcase', 'title', 'translate', 'upper', 'zfill'\"\"\""
      ],
      "metadata": {
        "colab": {
          "base_uri": "https://localhost:8080/",
          "height": 125
        },
        "id": "dJ6Itb213aBX",
        "outputId": "707bd8a2-172a-4d46-ac11-1341868103d8"
      },
      "execution_count": null,
      "outputs": [
        {
          "output_type": "stream",
          "name": "stdout",
          "text": [
            "<class 'str'>\n",
            "['__add__', '__class__', '__contains__', '__delattr__', '__dir__', '__doc__', '__eq__', '__format__', '__ge__', '__getattribute__', '__getitem__', '__getnewargs__', '__getstate__', '__gt__', '__hash__', '__init__', '__init_subclass__', '__iter__', '__le__', '__len__', '__lt__', '__mod__', '__mul__', '__ne__', '__new__', '__reduce__', '__reduce_ex__', '__repr__', '__rmod__', '__rmul__', '__setattr__', '__sizeof__', '__str__', '__subclasshook__', 'capitalize', 'casefold', 'center', 'count', 'encode', 'endswith', 'expandtabs', 'find', 'format', 'format_map', 'index', 'isalnum', 'isalpha', 'isascii', 'isdecimal', 'isdigit', 'isidentifier', 'islower', 'isnumeric', 'isprintable', 'isspace', 'istitle', 'isupper', 'join', 'ljust', 'lower', 'lstrip', 'maketrans', 'partition', 'removeprefix', 'removesuffix', 'replace', 'rfind', 'rindex', 'rjust', 'rpartition', 'rsplit', 'rstrip', 'split', 'splitlines', 'startswith', 'strip', 'swapcase', 'title', 'translate', 'upper', 'zfill']\n"
          ]
        },
        {
          "output_type": "execute_result",
          "data": {
            "text/plain": [
              "\"'capitalize', 'casefold', 'center', 'count', 'encode', 'endswith', 'expandtabs', 'find', 'format', 'format_map', \\n'index', 'isalnum', 'isalpha', 'isascii', 'isdecimal', 'isdigit', 'isidentifier', 'islower', 'isnumeric', 'isprintable',\\n 'isspace', 'istitle', 'isupper', 'join', 'ljust', 'lower', 'lstrip', 'maketrans', 'partition', 'removeprefix',\\n  'removesuffix', 'replace', 'rfind', 'rindex', 'rjust', 'rpartition', 'rsplit', 'rstrip', \\n'split', 'splitlines', 'startswith', 'strip', 'swapcase', 'title', 'translate', 'upper', 'zfill'\""
            ],
            "application/vnd.google.colaboratory.intrinsic+json": {
              "type": "string"
            }
          },
          "metadata": {},
          "execution_count": 2
        }
      ]
    },
    {
      "cell_type": "code",
      "source": [
        "#tell me aa 10 important string methods?\n"
      ],
      "metadata": {
        "id": "mcZKxV9uENFr"
      },
      "execution_count": null,
      "outputs": []
    },
    {
      "cell_type": "code",
      "source": [
        "a = \"hello World!\"\n",
        "#capitalize():- it coverts 1st letter capital\n",
        "print(a.capitalize())\n"
      ],
      "metadata": {
        "colab": {
          "base_uri": "https://localhost:8080/"
        },
        "id": "l_aJ1Y8KE9yF",
        "outputId": "7ba3a426-83d7-422c-f308-297751794c18"
      },
      "execution_count": null,
      "outputs": [
        {
          "output_type": "stream",
          "name": "stdout",
          "text": [
            "Hello world!\n"
          ]
        }
      ]
    },
    {
      "cell_type": "code",
      "source": [
        "#2.upper():- it converts the string into lower case\n",
        "print(a.lower())"
      ],
      "metadata": {
        "colab": {
          "base_uri": "https://localhost:8080/"
        },
        "id": "3eElKBNjFX6P",
        "outputId": "0a291a27-fc3e-4fab-859e-ccce7dd75ff5"
      },
      "execution_count": null,
      "outputs": [
        {
          "output_type": "stream",
          "name": "stdout",
          "text": [
            "hello world!\n"
          ]
        }
      ]
    },
    {
      "cell_type": "code",
      "source": [
        "#3.lower():- it converts the string into lower case\n",
        "print(a.lower())"
      ],
      "metadata": {
        "colab": {
          "base_uri": "https://localhost:8080/"
        },
        "id": "aeJoARznFjtB",
        "outputId": "6d340964-1b1e-4163-b5a7-347fc95faa97"
      },
      "execution_count": null,
      "outputs": [
        {
          "output_type": "stream",
          "name": "stdout",
          "text": [
            "hello world!\n"
          ]
        }
      ]
    },
    {
      "cell_type": "code",
      "source": [
        "#4.title():- converts 1st letter of string into capital letter after every white space\n",
        "print(a.title())"
      ],
      "metadata": {
        "colab": {
          "base_uri": "https://localhost:8080/"
        },
        "id": "vqc1sSp1Ft1S",
        "outputId": "1dc96af4-e1c0-4f45-92ba-c129f3b73b2f"
      },
      "execution_count": null,
      "outputs": [
        {
          "output_type": "stream",
          "name": "stdout",
          "text": [
            "Hello World!\n"
          ]
        }
      ]
    },
    {
      "cell_type": "code",
      "source": [
        "#***5.replace(old,new):- replace the old string with new string\n",
        "#replace the 'world' to 'universe' and print 'hello universe!'\n",
        "b = \"hello world!\"\n",
        "print(b.replace('world','universe!'))"
      ],
      "metadata": {
        "colab": {
          "base_uri": "https://localhost:8080/"
        },
        "id": "g8LnjUsBGN8J",
        "outputId": "3ec02a44-37e2-4788-e545-180e45e17f2f"
      },
      "execution_count": null,
      "outputs": [
        {
          "output_type": "stream",
          "name": "stdout",
          "text": [
            "hello universe!!\n"
          ]
        }
      ]
    },
    {
      "cell_type": "code",
      "source": [
        "#6.strip:-removes the unwanted spaces from leading and trailing side of a string\n",
        "c = \"     Hello World!\"\n",
        "print(c)\n",
        "print(c.strip())"
      ],
      "metadata": {
        "id": "e6r-X2LwHKVc",
        "colab": {
          "base_uri": "https://localhost:8080/"
        },
        "outputId": "bac6a0f4-e233-4cb2-affb-ad8dc7d5ec0c"
      },
      "execution_count": null,
      "outputs": [
        {
          "output_type": "stream",
          "name": "stdout",
          "text": [
            "     Hello World!\n",
            "Hello World!\n"
          ]
        }
      ]
    },
    {
      "cell_type": "code",
      "source": [
        "#7.lstrip():-removes the space from the left side of the string\n",
        "print(c.lstrip())\n",
        "\n",
        "#8.rstrip():-removes the spaces from right side\n",
        "print(c.rstrip())"
      ],
      "metadata": {
        "id": "xkfiGIQ5KZWa",
        "colab": {
          "base_uri": "https://localhost:8080/"
        },
        "outputId": "dceacefc-8367-4f50-cd09-0e839805d7a9"
      },
      "execution_count": null,
      "outputs": [
        {
          "output_type": "stream",
          "name": "stdout",
          "text": [
            "Hello World!\n",
            "     Hello World!\n"
          ]
        }
      ]
    },
    {
      "cell_type": "code",
      "source": [
        "#9.find():-finds the index number of character in the string\n",
        "d = \"Medha edu-Tech\"\n",
        "#print the index position of '-'\n",
        "print(d.find('d'))\n",
        "print(d.find('-'))\n",
        "print(d.find('x'))\n",
        "#if the character are present means find() returns index position number else returns -1"
      ],
      "metadata": {
        "colab": {
          "base_uri": "https://localhost:8080/"
        },
        "id": "9szUutfNKpy9",
        "outputId": "a68ba619-d652-4643-8aab-43ba3304539f"
      },
      "execution_count": null,
      "outputs": [
        {
          "output_type": "stream",
          "name": "stdout",
          "text": [
            "2\n",
            "9\n",
            "-1\n"
          ]
        }
      ]
    },
    {
      "cell_type": "code",
      "source": [
        "#10.index():-finds the index number of chracter in the string\n",
        "d = \"medha edu-Tech\"\n",
        "print(d.index('d'))\n",
        "print(d.index('x'))\n",
        "#q)what is the difference between index() and find()/\n",
        "#in find() method if the character is not found means it returns -1\n",
        "#where as in index() method if the character is not found means it rise an error"
      ],
      "metadata": {
        "id": "kcaJMs0-KvRt"
      },
      "execution_count": null,
      "outputs": []
    },
    {
      "cell_type": "code",
      "source": [
        "a = \"Hello world!\"\n",
        "print(a.find('l'))"
      ],
      "metadata": {
        "colab": {
          "base_uri": "https://localhost:8080/"
        },
        "id": "Ciba_04jQDXs",
        "outputId": "2bf913a1-61dd-45c8-f574-339c12a3794f"
      },
      "execution_count": null,
      "outputs": [
        {
          "output_type": "stream",
          "name": "stdout",
          "text": [
            "2\n"
          ]
        }
      ]
    },
    {
      "cell_type": "code",
      "source": [
        "#swap case():- converts the upper into lower and lower into upper\n",
        "b = \"Medha edu-tech\"\n",
        "print(b.swapcase())"
      ],
      "metadata": {
        "colab": {
          "base_uri": "https://localhost:8080/"
        },
        "id": "f4IlKv1LQLPK",
        "outputId": "ea6238fa-c360-4d5d-ffe7-0443fb74d085"
      },
      "execution_count": null,
      "outputs": [
        {
          "output_type": "stream",
          "name": "stdout",
          "text": [
            "mEDHA EDU-TECH\n"
          ]
        }
      ]
    },
    {
      "cell_type": "code",
      "source": [
        "#11.zfill():- fill the zeroes infront of the string to match the length of argument\n",
        "print(b.zfill(20))"
      ],
      "metadata": {
        "colab": {
          "base_uri": "https://localhost:8080/"
        },
        "id": "GDIw8cp3KziF",
        "outputId": "1dfdde0f-a3ee-4bbe-8fc8-8be83018a781"
      },
      "execution_count": null,
      "outputs": [
        {
          "output_type": "stream",
          "name": "stdout",
          "text": [
            "00000000hello world!\n"
          ]
        }
      ]
    },
    {
      "cell_type": "markdown",
      "source": [
        "String Format methods"
      ],
      "metadata": {
        "id": "MenRMqgnLF95"
      }
    },
    {
      "cell_type": "code",
      "source": [
        "#f'string {format} method:-\n",
        "#it takes  an argument and place it over the place holder\n",
        "age = 10\n",
        "text = f'my age is {age} years old'\n",
        "print(text)"
      ],
      "metadata": {
        "colab": {
          "base_uri": "https://localhost:8080/"
        },
        "id": "tu_ZUEWtLFC1",
        "outputId": "e5788efc-2bbd-41d4-9749-d59b50f87fb3"
      },
      "execution_count": null,
      "outputs": [
        {
          "output_type": "stream",
          "name": "stdout",
          "text": [
            "my age is 10 years old\n"
          ]
        }
      ]
    },
    {
      "cell_type": "code",
      "source": [
        "item = input(\"Enter your item name: \")\n",
        "quantity = int(input(\"enter quantity: \"))\n",
        "price_each = float(input(\"enter price of each: \"))\n",
        "notify = f\"\"\"Your order for {item} is confirmed with an quantity of {quantity} and Total price is {price_each*quantity}\"\"\"\n",
        "print(notify)"
      ],
      "metadata": {
        "colab": {
          "base_uri": "https://localhost:8080/"
        },
        "id": "2pUSqh0_LrgT",
        "outputId": "401de3c3-b2ce-4a62-8dfa-3e2b7806221d"
      },
      "execution_count": null,
      "outputs": [
        {
          "output_type": "stream",
          "name": "stdout",
          "text": [
            "Enter your item name: biryani\n",
            "enter quantity: 3\n",
            "enter price of each: 199.0\n",
            "Your order for biryani is confirmed with an quantity of 3 and Total price is 597.0\n"
          ]
        }
      ]
    },
    {
      "cell_type": "markdown",
      "source": [
        "sub-slicing"
      ],
      "metadata": {
        "id": "5P3YbjjpNHZf"
      }
    },
    {
      "cell_type": "code",
      "source": [
        "a = \"Hello world!\"\n",
        "print(a[0:5][2:6])"
      ],
      "metadata": {
        "colab": {
          "base_uri": "https://localhost:8080/"
        },
        "id": "duQP8Dw7NF1J",
        "outputId": "140c3c1e-3eea-4410-aaf2-6f89ef8fb257"
      },
      "execution_count": null,
      "outputs": [
        {
          "output_type": "stream",
          "name": "stdout",
          "text": [
            "llo\n"
          ]
        }
      ]
    },
    {
      "cell_type": "markdown",
      "source": [
        "05-05-2025"
      ],
      "metadata": {
        "id": "qnvksgD8gCgz"
      }
    },
    {
      "cell_type": "code",
      "source": [
        "#what is condition?\n",
        "#we have 3 conditions\n",
        "#if,else,elif\n",
        "user_name = int(input(\"Enter your marks: \"))\n",
        "if user_name>=45:\n",
        "  print(\"Congratulations\")\n",
        "  print(\"You have pass\")\n",
        "else:\n",
        "  print(\"Better luck next time\")"
      ],
      "metadata": {
        "colab": {
          "base_uri": "https://localhost:8080/"
        },
        "id": "9TgEPtVZgB-x",
        "outputId": "4e8f7b9d-b800-4f99-98b0-c319245ffe81"
      },
      "execution_count": null,
      "outputs": [
        {
          "output_type": "stream",
          "name": "stdout",
          "text": [
            "Enter your marks: 45\n",
            "Congratulations\n",
            "You have pass\n"
          ]
        }
      ]
    },
    {
      "cell_type": "code",
      "source": [
        "#write a program if the num is >0 print +ve result else print -ve. if the num is equal to zero point neutral\n",
        "#if---elif---else\n",
        "num = int(input(\"Enter number: \"))\n",
        "if num>0:\n",
        "  print(\"Positive\")\n",
        "elif num==0:\n",
        "  print(\"Neutral\")\n",
        "else:\n",
        "  print(\"Negative\")\n"
      ],
      "metadata": {
        "colab": {
          "base_uri": "https://localhost:8080/"
        },
        "id": "EnhaiKWUnT6q",
        "outputId": "affed9df-8557-458e-8095-7b49f48b4e2b"
      },
      "execution_count": null,
      "outputs": [
        {
          "output_type": "stream",
          "name": "stdout",
          "text": [
            "Enter number: 0\n",
            "Neutral\n"
          ]
        }
      ]
    },
    {
      "cell_type": "code",
      "source": [
        "#how can we check the condition?\n",
        "#comparison operators or relational operators\n",
        "#1.equlal's too---> \"=\"\n",
        "#2.not equal too--->\"!=\"\n",
        "#3.greater than---> >\n",
        "#4. less than ---> <\n",
        "#5. greater than or equal too ---> >=\n",
        "#6. less than or equal too--> <=\n"
      ],
      "metadata": {
        "id": "yA28nxn9l-Fw"
      },
      "execution_count": null,
      "outputs": []
    },
    {
      "cell_type": "code",
      "source": [
        "#logical operators ---> 3 types\n",
        "#And- if all the conditions are true than only execute the program\n",
        "#logical operators ---> 3 types\n",
        "#And- if all the conditions are true than only execute the program\n",
        "#or- if any one condition is true execute program\n",
        "#not: it reverse your actual output\n",
        "print(10==10)\n",
        "print(10==25)\n",
        "print('H'=='h')\n",
        "print(not(10==10))\n"
      ],
      "metadata": {
        "colab": {
          "base_uri": "https://localhost:8080/"
        },
        "id": "16O4ua81qW6z",
        "outputId": "d85cf6b1-4bcf-4b12-acb3-df4eebcfecdb"
      },
      "execution_count": null,
      "outputs": [
        {
          "output_type": "stream",
          "name": "stdout",
          "text": [
            "True\n",
            "False\n",
            "False\n",
            "False\n"
          ]
        }
      ]
    },
    {
      "cell_type": "code",
      "source": [
        "a = 25\n",
        "b = 10\n",
        "c = 15\n",
        "d = 60\n",
        "#check a>c and d>b and c<b\n",
        "if a>c or d>b or c>b:\n",
        "  print(\"all the statements are true\")\n",
        "else:\n",
        "  print(\"any one statement is wrong\")"
      ],
      "metadata": {
        "colab": {
          "base_uri": "https://localhost:8080/"
        },
        "id": "Az0u83BvqVbe",
        "outputId": "5afc3716-a3c7-44b5-e6c8-2ee18921ca61"
      },
      "execution_count": null,
      "outputs": [
        {
          "output_type": "stream",
          "name": "stdout",
          "text": [
            "all the statements are true\n"
          ]
        }
      ]
    },
    {
      "cell_type": "markdown",
      "source": [
        "08-05-2025"
      ],
      "metadata": {
        "id": "J7TXzv4ev7qR"
      }
    },
    {
      "cell_type": "markdown",
      "source": [
        "Conditional statements\n"
      ],
      "metadata": {
        "id": "RRez8Lyhv-s1"
      }
    },
    {
      "cell_type": "code",
      "source": [
        "#conditional statements: is used to check specific condition is ssatisfied or not\n"
      ],
      "metadata": {
        "id": "AarTwuoNw-bH"
      },
      "execution_count": null,
      "outputs": []
    },
    {
      "cell_type": "markdown",
      "source": [],
      "metadata": {
        "id": "dI6jELbJKqaB"
      }
    },
    {
      "cell_type": "code",
      "source": [
        "#To build decision making codes  we use conditional statements\n",
        "#How can we check a condition?\n",
        "#to check the condition we need to use comparison operators\n",
        "#There are 6 comparison operators\n",
        "#1.equlal's too---> ==\n",
        "#2.not equal too---> !=\n",
        "#3.greater than---> >\n",
        "#4. less than ---> <\n",
        "#5. greater than or equal too ---> >=\n",
        "#6. less than or equal too--> <=\n"
      ],
      "metadata": {
        "id": "tvlphKx4xgrM"
      },
      "execution_count": null,
      "outputs": []
    },
    {
      "cell_type": "code",
      "source": [
        "#How many conditional statements do we have?\n",
        "#3 conditional statement\n",
        "#if--->elif---->else\n",
        "#what is if?\n",
        "#if i want to check a single true condition will use 'if'\n",
        "#what is else?\n",
        "#other than if condition or if the"
      ],
      "metadata": {
        "id": "R_YAKGHJxjHa"
      },
      "execution_count": null,
      "outputs": []
    },
    {
      "cell_type": "code",
      "source": [
        "#check the 10 is greater than 5 or not\n",
        "a = 10\n",
        "if a>5:\n",
        "  print(\"True\")\n",
        "else:\n",
        "  print(\"False\")"
      ],
      "metadata": {
        "colab": {
          "base_uri": "https://localhost:8080/"
        },
        "id": "9uCEVjDIzbIn",
        "outputId": "22064e9f-9165-4f95-f15b-29218082f1ce"
      },
      "execution_count": null,
      "outputs": [
        {
          "output_type": "stream",
          "name": "stdout",
          "text": [
            "True\n"
          ]
        }
      ]
    },
    {
      "cell_type": "code",
      "source": [
        "#check a string is palindrome or not irrespective of letter case\n",
        "print('hello' == 'hello')\n",
        "print('Hello' == 'hello')"
      ],
      "metadata": {
        "colab": {
          "base_uri": "https://localhost:8080/"
        },
        "id": "XiXIv5A8ztYu",
        "outputId": "63b8c700-aed4-408a-eef6-02ada0f85168"
      },
      "execution_count": null,
      "outputs": [
        {
          "output_type": "stream",
          "name": "stdout",
          "text": [
            "True\n",
            "False\n"
          ]
        }
      ]
    },
    {
      "cell_type": "markdown",
      "source": [
        "***Nested conditions***"
      ],
      "metadata": {
        "id": "fr2LQI_902gZ"
      }
    },
    {
      "cell_type": "code",
      "source": [
        "#writing a condition inside another condition is known as nested condition\n",
        "#1.why we require nested condition? or what is the purpose of nested condition?\n",
        "#A Block of code can be executed if the previous condition is true\n",
        "#nested conditions give the series of output"
      ],
      "metadata": {
        "id": "cgMlpprB0J0i"
      },
      "execution_count": null,
      "outputs": []
    },
    {
      "cell_type": "code",
      "source": [
        "a = 20\n",
        "#check this num is greater than 10,20,30,40 and 50\n",
        "#iff the a>10---> 35 is greater than 10\n",
        "#iff the a>20---> 35 is greater than 20\n",
        "#iff the a>30---> 35 is greater than 30\n",
        "#iff the a>40---> 35 is greater than 40\n",
        "#iff the a>50---> 35 is greater than 50\n",
        "if a>10:\n",
        "  print('a is greater than 10')\n",
        "  if a>20:\n",
        "    print('a is greater than 20')\n",
        "    if a>30:\n",
        "      print('a is greater than 30')\n",
        "      if a>40:\n",
        "        print('a is greater than 40')\n",
        "        if a>50: #removed extra indentation here\n",
        "          print('a is greater than 50')\n",
        "        else:\n",
        "          print('a is less than 50')\n",
        "      else:\n",
        "        print('a is less than 40')\n",
        "    else:\n",
        "      print('a is greater than 30') #this line also has logic error and should be 'a is less than 30'\n",
        "  else:\n",
        "    print('a is less than 20')\n",
        "else:\n",
        "  print('a is less than 10')"
      ],
      "metadata": {
        "colab": {
          "base_uri": "https://localhost:8080/"
        },
        "id": "9dm0C6SN15-O",
        "outputId": "fca708d4-e76b-48fb-ad57-a88ed0a5259e"
      },
      "execution_count": null,
      "outputs": [
        {
          "output_type": "stream",
          "name": "stdout",
          "text": [
            "a is greater than 10\n",
            "a is less than 20\n"
          ]
        }
      ]
    },
    {
      "cell_type": "code",
      "source": [
        "#conditional statements ---> if-->elif--->else\n",
        "#comparison operators is also known as relational operators--->6 types, ==,!=.>,<,>=,<=\n"
      ],
      "metadata": {
        "id": "nThSGfsh4u51"
      },
      "execution_count": null,
      "outputs": []
    },
    {
      "cell_type": "markdown",
      "source": [
        "Ternary operator"
      ],
      "metadata": {
        "id": "cAS3hEfh5hLF"
      }
    },
    {
      "cell_type": "code",
      "source": [
        "x = 5\n",
        "result = \"even\" if x%2==0 else \"odd\"\n",
        "print(result)"
      ],
      "metadata": {
        "colab": {
          "base_uri": "https://localhost:8080/"
        },
        "id": "48bFeuPK5gQL",
        "outputId": "819424f7-38df-4f7e-e9a0-3af5c8fa61e4"
      },
      "execution_count": null,
      "outputs": [
        {
          "output_type": "stream",
          "name": "stdout",
          "text": [
            "odd\n"
          ]
        }
      ]
    },
    {
      "cell_type": "code",
      "source": [
        "a = \"Hello good morning\"\n",
        "#check \"good\" is present in above string\n",
        "if \"good\""
      ],
      "metadata": {
        "id": "I_ReB2Bv5wp4"
      },
      "execution_count": null,
      "outputs": []
    },
    {
      "cell_type": "code",
      "source": [
        "#write a program to check eligible for vote or not\n",
        "#greater than or equal to 18years\n",
        "x = int(input(\"Enter your age: \"))\n",
        "if x>=18:\n",
        "  print(\"You are Eligible\")\n",
        "else:\n",
        "  print(\"You are not Eligible\")"
      ],
      "metadata": {
        "id": "44vn1xT36Bah",
        "colab": {
          "base_uri": "https://localhost:8080/"
        },
        "outputId": "22ce898d-0474-4487-f872-681fd1dec969"
      },
      "execution_count": null,
      "outputs": [
        {
          "output_type": "stream",
          "name": "stdout",
          "text": [
            "Enter your age: 14\n",
            "You are not Eligible\n"
          ]
        }
      ]
    },
    {
      "cell_type": "code",
      "source": [
        "#write a program to check the grades of the students based on the received marks\n",
        "#if the student is having marks from 40 to 60---> print \"D\" grade along with marks\n",
        "#if the student is having marks from 61 to 70---> print \"c\" grade along with marks\n",
        "#if the student is having marks from 71 to 80---> print \"B\" grade along with marks\n",
        "#if the student is having marks from 81 to 90---> print \"A\" grade along with marks\n",
        "#if the student is having marks from 91 to 100---> print \"A+\" grade along with marks\n",
        "#if the sudent is having marks than 100 print \"Dont be smart\"\n",
        "#if the student is having marks less than 40 print \"Better luck next time\"\n",
        "#Use tha nested if condition along with elif.\n",
        "marks = int(input(\"Enter your marks: \"))\n",
        "\n",
        "if marks > 100:\n",
        "    print(\"Don't be smart\")\n",
        "elif marks >= 91:\n",
        "    print(f\"You got a A+ with {marks} marks!\")\n",
        "elif marks >= 81:\n",
        "    print(f\"You got a A with {marks} marks!\")\n",
        "elif marks >= 71:\n",
        "    print(f\"You got a B with {marks} marks!\")\n",
        "elif marks >= 61:\n",
        "    print(f\"You got a C with {marks} marks!\")\n",
        "elif marks >= 40:\n",
        "    print(f\"You got a D with {marks} marks!\")\n",
        "else:\n",
        "    print(\"Better luck next time\")\n"
      ],
      "metadata": {
        "id": "Ulc08ct_6U6m",
        "colab": {
          "base_uri": "https://localhost:8080/"
        },
        "outputId": "78e56627-a203-47ca-d41a-1c87e03a7405"
      },
      "execution_count": null,
      "outputs": [
        {
          "output_type": "stream",
          "name": "stdout",
          "text": [
            "Enter your marks: 95\n",
            "You got a A+ with 95 marks!\n"
          ]
        }
      ]
    },
    {
      "cell_type": "markdown",
      "source": [
        "Pass"
      ],
      "metadata": {
        "id": "VKAxioEI7ePT"
      }
    },
    {
      "cell_type": "code",
      "source": [
        "#what is pass?\n",
        "#pass is a null place holder whrn executes nothing will happens\n",
        "a = 10\n",
        "if a>20:\n",
        "  pass"
      ],
      "metadata": {
        "id": "oib_1Fy67dsN"
      },
      "execution_count": null,
      "outputs": []
    },
    {
      "cell_type": "markdown",
      "source": [
        "12-05-2025"
      ],
      "metadata": {
        "id": "576XqpqZkD1t"
      }
    },
    {
      "cell_type": "markdown",
      "source": [
        "**Loops**"
      ],
      "metadata": {
        "id": "7-V_EilclakR"
      }
    },
    {
      "cell_type": "code",
      "source": [
        "#loop: set of instructions or rules\n",
        "#1.while loop:runs a set of instructions until the condition remains true\n",
        "#2.For loop:"
      ],
      "metadata": {
        "id": "BBsLQw2lFwDx"
      },
      "execution_count": null,
      "outputs": []
    },
    {
      "cell_type": "code",
      "source": [
        "#write a program to count down the pushups\n",
        "target = int(input())\n",
        "initial = 0\n",
        "while initial <= target:\n",
        "  print(\"go up\")\n",
        "  print(\"go down\")\n",
        "  print(\"======rep completed======\",initial)\n",
        "  initial = initial + 1"
      ],
      "metadata": {
        "colab": {
          "base_uri": "https://localhost:8080/"
        },
        "id": "MfB6cONDmhtB",
        "outputId": "6959963c-24fc-43c3-db9f-8261bb209319"
      },
      "execution_count": null,
      "outputs": [
        {
          "output_type": "stream",
          "name": "stdout",
          "text": [
            "5\n",
            "go up\n",
            "go down\n",
            "======rep completed====== 0\n",
            "go up\n",
            "go down\n",
            "======rep completed====== 1\n",
            "go up\n",
            "go down\n",
            "======rep completed====== 2\n",
            "go up\n",
            "go down\n",
            "======rep completed====== 3\n",
            "go up\n",
            "go down\n",
            "======rep completed====== 4\n",
            "go up\n",
            "go down\n",
            "======rep completed====== 5\n"
          ]
        }
      ]
    },
    {
      "cell_type": "code",
      "source": [
        "#write a simple program to run a lift?\n",
        "user = int(input(\"Enter your floor: \"))\n",
        "initial = 0\n",
        "while initial <= user:\n",
        "  print(\"you are at floor\",initial)\n",
        "  initial = initial + 1"
      ],
      "metadata": {
        "colab": {
          "base_uri": "https://localhost:8080/"
        },
        "id": "zsuUMcdqnKp9",
        "outputId": "78a4545d-0497-4bf4-88c6-420db04025e7"
      },
      "execution_count": null,
      "outputs": [
        {
          "output_type": "stream",
          "name": "stdout",
          "text": [
            "Enter your floor: 5\n",
            "you are at floor 0\n",
            "you are at floor 1\n",
            "you are at floor 2\n",
            "you are at floor 3\n",
            "you are at floor 4\n",
            "you are at floor 5\n"
          ]
        }
      ]
    },
    {
      "cell_type": "code",
      "source": [
        "#what are the control structures of while loop\n",
        "#break: break will stop the iteration irrespective of code\n",
        "#continue:\n",
        "#pass:- null operator when exdecutes nothing will happen\n"
      ],
      "metadata": {
        "id": "zqDHhFg2pHLm"
      },
      "execution_count": null,
      "outputs": []
    },
    {
      "cell_type": "code",
      "source": [
        "user = int(input(\"Enter your floor: \"))\n",
        "initial = 0\n",
        "while initial <= user:\n",
        "  print(\"you are at floor\",initial)\n",
        "  if initial ==3:\n",
        "    break\n",
        "  initial = initial + 1"
      ],
      "metadata": {
        "colab": {
          "base_uri": "https://localhost:8080/"
        },
        "id": "UlHAj0tMp4Zg",
        "outputId": "f62e1b3c-5475-491c-c280-585fd06b3536"
      },
      "execution_count": null,
      "outputs": [
        {
          "output_type": "stream",
          "name": "stdout",
          "text": [
            "Enter your floor: 2\n",
            "you are at floor 0\n",
            "you are at floor 1\n",
            "you are at floor 2\n"
          ]
        }
      ]
    },
    {
      "cell_type": "code",
      "source": [
        "user = int(input(\"Enter your floor: \"))\n",
        "initial = 0\n",
        "while initial <= user:\n",
        "  initial = initial + 1\n",
        "  if initial ==3 or initial ==4 or initial ==7:\n",
        "    continue\n",
        "  print(\"you are at floor\",initial)"
      ],
      "metadata": {
        "colab": {
          "base_uri": "https://localhost:8080/"
        },
        "id": "JiZizpEYqEu0",
        "outputId": "70a0f6f5-c4d8-456a-c7b0-b79c929cfa82"
      },
      "execution_count": null,
      "outputs": [
        {
          "output_type": "stream",
          "name": "stdout",
          "text": [
            "Enter your floor: 3\n",
            "you are at floor 1\n",
            "you are at floor 2\n"
          ]
        }
      ]
    },
    {
      "cell_type": "code",
      "source": [
        "# print a range of 1 to 10 numbers by  using while ?\n",
        "initial = 1\n",
        "while initial <= 10:\n",
        "  print(initial, end=\"$\")\n",
        "  initial += 1"
      ],
      "metadata": {
        "colab": {
          "base_uri": "https://localhost:8080/"
        },
        "id": "S2HmiNwksZkS",
        "outputId": "889fff3f-82a7-40d4-d5ac-4e7e0b0a5151"
      },
      "execution_count": null,
      "outputs": [
        {
          "output_type": "stream",
          "name": "stdout",
          "text": [
            "1$2$3$4$5$6$7$8$9$10$"
          ]
        }
      ]
    },
    {
      "cell_type": "code",
      "source": [
        "initial = 10\n",
        "while initial >=1:\n",
        "  print(initial, end=\" \")\n",
        "  initial -= 1"
      ],
      "metadata": {
        "colab": {
          "base_uri": "https://localhost:8080/"
        },
        "id": "f1U5Mo68u5yg",
        "outputId": "ff696ef6-5baa-439e-de6b-9207d2f15cb6"
      },
      "execution_count": null,
      "outputs": [
        {
          "output_type": "stream",
          "name": "stdout",
          "text": [
            "10 9 8 7 6 5 4 3 2 1 "
          ]
        }
      ]
    },
    {
      "cell_type": "code",
      "source": [
        "user = input()\n",
        "count = 1\n",
        "while count <= 10:\n",
        "  print(user)\n",
        "  count += 1"
      ],
      "metadata": {
        "colab": {
          "base_uri": "https://localhost:8080/"
        },
        "id": "xDTYj3Ijvh-C",
        "outputId": "f00e7425-2ae5-4abf-dd34-ddfbdc80d9f9"
      },
      "execution_count": null,
      "outputs": [
        {
          "output_type": "stream",
          "name": "stdout",
          "text": [
            "Hello World!\n",
            "Hello World!\n",
            "Hello World!\n",
            "Hello World!\n",
            "Hello World!\n",
            "Hello World!\n",
            "Hello World!\n",
            "Hello World!\n",
            "Hello World!\n",
            "Hello World!\n",
            "Hello World!\n"
          ]
        }
      ]
    },
    {
      "cell_type": "markdown",
      "source": [
        "13-05-2025"
      ],
      "metadata": {
        "id": "J2j3IoGypapr"
      }
    },
    {
      "cell_type": "markdown",
      "source": [
        "For Loop"
      ],
      "metadata": {
        "id": "PXDviM-hp6gQ"
      }
    },
    {
      "cell_type": "code",
      "source": [
        "#what is for loop?\n",
        "#i want to run a set of instructions in my iterables(collections)---->[list,tuple,sets,dict,array]\n",
        "#where these rules can be applicable for each and every element"
      ],
      "metadata": {
        "id": "p5h7VYxgpaSb"
      },
      "execution_count": null,
      "outputs": []
    },
    {
      "cell_type": "code",
      "source": [
        "l = [1,2,3,4,5,6,7,8,9]\n",
        "#print even number data from above list\n",
        "for i in l:\n",
        "  if i%2==0:\n",
        "    print(i,end=\" \")\n"
      ],
      "metadata": {
        "colab": {
          "base_uri": "https://localhost:8080/"
        },
        "id": "wuqUiHSarv2f",
        "outputId": "0b757513-7606-4217-8138-feb822d572d0"
      },
      "execution_count": null,
      "outputs": [
        {
          "output_type": "stream",
          "name": "stdout",
          "text": [
            "2 4 6 8 "
          ]
        }
      ]
    },
    {
      "cell_type": "code",
      "source": [
        "#how the iterator has built?\n",
        "#with 2 protocals\n",
        "#_iter_ and _next_\n"
      ],
      "metadata": {
        "id": "c_SoNiqFtZC3"
      },
      "execution_count": null,
      "outputs": []
    },
    {
      "cell_type": "code",
      "source": [
        "a = [1,2,3,4,5,6]\n",
        "#print the multiples of 2 from above list\n",
        "for i in a:\n",
        "  print(i*2,end=\" \")"
      ],
      "metadata": {
        "colab": {
          "base_uri": "https://localhost:8080/"
        },
        "id": "AFBC1S-4vJfz",
        "outputId": "74ff4dff-fd1d-410e-e2e7-eef6cdc99b6a"
      },
      "execution_count": null,
      "outputs": [
        {
          "output_type": "stream",
          "name": "stdout",
          "text": [
            "2 4 6 8 10 12 "
          ]
        }
      ]
    },
    {
      "cell_type": "code",
      "source": [
        "b = ['apple','banana','orange','kiwi','mango']\n",
        "#print the fruits which is having letter 'a'\n",
        "for i in b:\n",
        "  if 'a' in i:\n",
        "    print(i)"
      ],
      "metadata": {
        "colab": {
          "base_uri": "https://localhost:8080/"
        },
        "id": "hRv58_7CwMfm",
        "outputId": "725ba282-c96b-4713-f1c0-ac41cfdaeb41"
      },
      "execution_count": null,
      "outputs": [
        {
          "output_type": "stream",
          "name": "stdout",
          "text": [
            "apple\n",
            "banana\n",
            "orange\n",
            "mango\n"
          ]
        }
      ]
    },
    {
      "cell_type": "markdown",
      "source": [
        "control structures of for loop"
      ],
      "metadata": {
        "id": "fUEkZycCwv_M"
      }
    },
    {
      "cell_type": "code",
      "source": [
        "#break, continue, pass\n",
        "#break: it stops the iterations irrespective of items in the collections\n"
      ],
      "metadata": {
        "id": "5jLWZ1LcwoM5"
      },
      "execution_count": null,
      "outputs": []
    },
    {
      "cell_type": "code",
      "source": [
        "a = [1,2,3,4,5,6,7,8,9]\n",
        "#break the loop when it reaches '4'\n",
        "for j in a:\n",
        "  if j ==4:\n",
        "    break\n",
        "  print(j)"
      ],
      "metadata": {
        "colab": {
          "base_uri": "https://localhost:8080/"
        },
        "id": "NHpkL-RPxN0B",
        "outputId": "2c4c48c0-d02c-4397-f22e-bcb201013821"
      },
      "execution_count": null,
      "outputs": [
        {
          "output_type": "stream",
          "name": "stdout",
          "text": [
            "1\n",
            "2\n",
            "3\n"
          ]
        }
      ]
    },
    {
      "cell_type": "code",
      "source": [
        "#continue: it skips the current iteration and moves to next iteration\n",
        "# i don't want to print 2,6,8, from above list\n",
        "for j in a:\n",
        "  if j ==2 or j ==6 or j ==8:\n",
        "    continue\n",
        "  print(j,end=\" \")\n"
      ],
      "metadata": {
        "colab": {
          "base_uri": "https://localhost:8080/"
        },
        "id": "NkhaxKYFxgFh",
        "outputId": "07fbf252-e0ef-4758-e919-e21bac1f6aa4"
      },
      "execution_count": null,
      "outputs": [
        {
          "output_type": "stream",
          "name": "stdout",
          "text": [
            "1 3 4 5 7 9 "
          ]
        }
      ]
    },
    {
      "cell_type": "code",
      "source": [],
      "metadata": {
        "id": "BCzwg48dyU3n"
      },
      "execution_count": null,
      "outputs": []
    },
    {
      "cell_type": "code",
      "source": [
        "#pass: if the code is incomplete then we should not raise an error means use pass,then it will execute nothing and show no error\n",
        "for j in a:\n",
        "  if j ==2 or j ==6 or j ==8:\n",
        "    pass\n"
      ],
      "metadata": {
        "id": "h91PBUt1ygvM"
      },
      "execution_count": null,
      "outputs": []
    },
    {
      "cell_type": "code",
      "source": [
        "i = 0\n",
        "while i <= 10:\n",
        "  print(i)\n",
        "  i = i + 1"
      ],
      "metadata": {
        "colab": {
          "base_uri": "https://localhost:8080/"
        },
        "id": "hBE_KKFRy0Nq",
        "outputId": "c3e479c8-c218-4953-efb0-d229f141069b"
      },
      "execution_count": null,
      "outputs": [
        {
          "output_type": "stream",
          "name": "stdout",
          "text": [
            "0\n",
            "1\n",
            "2\n",
            "3\n",
            "4\n",
            "5\n",
            "6\n",
            "7\n",
            "8\n",
            "9\n",
            "10\n"
          ]
        }
      ]
    },
    {
      "cell_type": "markdown",
      "source": [
        "**range(start,end,step)**"
      ],
      "metadata": {
        "id": "wcnb_lJO0eO3"
      }
    },
    {
      "cell_type": "code",
      "source": [
        "for i in range(10):\n",
        "  print(i,end=\" \")"
      ],
      "metadata": {
        "colab": {
          "base_uri": "https://localhost:8080/"
        },
        "id": "h3BakO3n0Lvx",
        "outputId": "e22268b0-5289-4a8e-feb6-e70e9a7a2a91"
      },
      "execution_count": null,
      "outputs": [
        {
          "output_type": "stream",
          "name": "stdout",
          "text": [
            "0 1 2 3 4 5 6 7 8 9 "
          ]
        }
      ]
    },
    {
      "cell_type": "code",
      "source": [
        "#print the range of numbers from 20 and 40\n",
        "for i in range(20,41):\n",
        "  print(i,end=\" \")"
      ],
      "metadata": {
        "colab": {
          "base_uri": "https://localhost:8080/"
        },
        "id": "yl8nOdOk01LE",
        "outputId": "76084dad-8809-4f91-d81d-96ce32c1bd73"
      },
      "execution_count": null,
      "outputs": [
        {
          "output_type": "stream",
          "name": "stdout",
          "text": [
            "20 21 22 23 24 25 26 27 28 29 30 31 32 33 34 35 36 37 38 39 40 "
          ]
        }
      ]
    },
    {
      "cell_type": "code",
      "source": [
        "#print a range of even numbers upto 100?\n",
        "for i in range(0,101,2):\n",
        "  print(i,end=\" \")"
      ],
      "metadata": {
        "colab": {
          "base_uri": "https://localhost:8080/"
        },
        "id": "RtcWFfWu1MTq",
        "outputId": "16fbc8c2-e0b4-4051-90d8-c4154954b6e9"
      },
      "execution_count": null,
      "outputs": [
        {
          "output_type": "stream",
          "name": "stdout",
          "text": [
            "1 3 5 7 9 11 13 15 17 19 21 23 25 27 29 31 33 35 37 39 41 43 45 47 49 51 53 55 57 59 61 63 65 67 69 71 73 75 77 79 81 83 85 87 89 91 93 95 97 99 "
          ]
        }
      ]
    },
    {
      "cell_type": "code",
      "source": [
        "#print a range of odd numbers upto 100?\n",
        "for i in range(1,101,2):\n",
        "  print(i,end=\" \")"
      ],
      "metadata": {
        "colab": {
          "base_uri": "https://localhost:8080/"
        },
        "id": "DbNxxkLY1eQJ",
        "outputId": "7a575a5b-c3c9-4ec6-f495-b34720e4e57f"
      },
      "execution_count": null,
      "outputs": [
        {
          "output_type": "stream",
          "name": "stdout",
          "text": [
            "1 3 5 7 9 11 13 15 17 19 21 23 25 27 29 31 33 35 37 39 41 43 45 47 49 51 53 55 57 59 61 63 65 67 69 71 73 75 77 79 81 83 85 87 89 91 93 95 97 99 "
          ]
        }
      ]
    },
    {
      "cell_type": "code",
      "source": [
        "#calculate the sum of numbers from 1 to 10 using for loop?\n",
        "sum = 0\n",
        "for i in range(1,11):\n",
        "  sum = sum + i\n",
        "print(sum)\n"
      ],
      "metadata": {
        "colab": {
          "base_uri": "https://localhost:8080/"
        },
        "id": "M_jP_eHf15ma",
        "outputId": "f6c93770-79dc-4047-90bd-44a8e3556fcb"
      },
      "execution_count": null,
      "outputs": [
        {
          "output_type": "stream",
          "name": "stdout",
          "text": [
            "55\n"
          ]
        }
      ]
    },
    {
      "cell_type": "code",
      "source": [
        "a = [20,30,40,45,63,23,90]\n",
        "#calculate the product of elements in above list?\n",
        "product = 1\n",
        "for i in a:\n",
        "  product = product * i\n",
        "  print(product)"
      ],
      "metadata": {
        "colab": {
          "base_uri": "https://localhost:8080/"
        },
        "id": "HeMdWxhd2tT9",
        "outputId": "6b3e0bbb-227e-4263-f15a-81413186317d"
      },
      "execution_count": null,
      "outputs": [
        {
          "output_type": "stream",
          "name": "stdout",
          "text": [
            "20\n",
            "600\n",
            "24000\n",
            "1080000\n",
            "68040000\n",
            "1564920000\n",
            "140842800000\n"
          ]
        }
      ]
    },
    {
      "cell_type": "code",
      "source": [
        "#print the numbers in reverse from 10 to 1\n",
        "for i in range(10,0,-1):\n",
        "  print(i)"
      ],
      "metadata": {
        "colab": {
          "base_uri": "https://localhost:8080/"
        },
        "id": "YS4gBaKN4Bhs",
        "outputId": "de4d2058-a2ad-4182-986b-694cacce7bcc"
      },
      "execution_count": null,
      "outputs": [
        {
          "output_type": "stream",
          "name": "stdout",
          "text": [
            "10\n",
            "9\n",
            "8\n",
            "7\n",
            "6\n",
            "5\n",
            "4\n",
            "3\n",
            "2\n",
            "1\n"
          ]
        }
      ]
    },
    {
      "cell_type": "code",
      "source": [
        "a = [1,2,45,63,54,76,98,23,54,60]\n",
        "#find the largest num from the above list\n",
        "large = a[0]\n",
        "for i in a:\n",
        "  if i>large:\n",
        "    large = i\n",
        "print(large)\n",
        "print(min(a))"
      ],
      "metadata": {
        "colab": {
          "base_uri": "https://localhost:8080/"
        },
        "id": "JXHpRd274TQj",
        "outputId": "b14bc225-d432-4141-fea0-92bc11a602be"
      },
      "execution_count": null,
      "outputs": [
        {
          "output_type": "stream",
          "name": "stdout",
          "text": [
            "98\n",
            "1\n"
          ]
        }
      ]
    },
    {
      "cell_type": "code",
      "source": [
        "#print all the upper case letters from the string?\n",
        "#\"Hello World!\""
      ],
      "metadata": {
        "id": "lj2HxEEW5FBD"
      },
      "execution_count": null,
      "outputs": []
    },
    {
      "cell_type": "code",
      "source": [
        "a = \"Hello World!\"\n",
        "for i in a:\n",
        "  if 'A' <= i <= 'Z':\n",
        "    print(i,end=\" \")"
      ],
      "metadata": {
        "colab": {
          "base_uri": "https://localhost:8080/"
        },
        "id": "vorHBwdoofji",
        "outputId": "093e74d6-ca83-486d-83b5-0761b10c6c5d"
      },
      "execution_count": null,
      "outputs": [
        {
          "output_type": "stream",
          "name": "stdout",
          "text": [
            "H W "
          ]
        }
      ]
    },
    {
      "cell_type": "code",
      "source": [
        "#calculate the factoorial of numbers using for loop or while?\n",
        "num = int(input(\"Enter a non-negative integer: \"))\n",
        "\n",
        "if num < 0:\n",
        "    print(\"Factorial is not defined for negative numbers\")\n",
        "elif num == 0:\n",
        "    print(\"The factorial of 0 is 1\")\n",
        "else:\n",
        "    fact = 1\n",
        "    for i in range(1, num + 1):\n",
        "        fact *= i\n",
        "    print(f\"The factorial of {num} is {fact}\")"
      ],
      "metadata": {
        "id": "mUNwNui_5P0P",
        "colab": {
          "base_uri": "https://localhost:8080/"
        },
        "outputId": "d1afa7d3-7a8f-4ab0-9fb4-5c17234d372e"
      },
      "execution_count": null,
      "outputs": [
        {
          "output_type": "stream",
          "name": "stdout",
          "text": [
            "Enter a non-negative integer: 5\n",
            "The factorial of 5 is 120\n"
          ]
        }
      ]
    },
    {
      "cell_type": "code",
      "source": [
        "#find the all prime numbers from 1 to 50 ?\n",
        "#print the numbers divisible with 3 or 5 in the range 1 to 20:\n",
        "#print a fibonacci series upto 1oth interval?\n"
      ],
      "metadata": {
        "id": "DWAL1qfn5eHD"
      },
      "execution_count": null,
      "outputs": []
    },
    {
      "cell_type": "code",
      "source": [
        "for num in range(2, 51):\n",
        "    is_prime = True\n",
        "    for i in range(2, num):\n",
        "        if num % i == 0:\n",
        "            is_prime = False\n",
        "            break\n",
        "    if is_prime:\n",
        "        print(num, end=\" \")"
      ],
      "metadata": {
        "colab": {
          "base_uri": "https://localhost:8080/"
        },
        "id": "lDQkJ568rClh",
        "outputId": "edbf550a-fee9-4b42-de48-72a226661849"
      },
      "execution_count": null,
      "outputs": [
        {
          "output_type": "stream",
          "name": "stdout",
          "text": [
            "2 3 5 7 11 13 17 19 23 29 31 37 41 43 47 "
          ]
        }
      ]
    },
    {
      "cell_type": "code",
      "source": [
        "for num in range(1, 21):\n",
        "    if num % 3 == 0 or num % 5 == 0:\n",
        "        print(num, end=\" \")"
      ],
      "metadata": {
        "colab": {
          "base_uri": "https://localhost:8080/"
        },
        "id": "T_e0R-xJrnBp",
        "outputId": "9188d672-334f-449c-8aff-6a7e2488817a"
      },
      "execution_count": null,
      "outputs": [
        {
          "output_type": "stream",
          "name": "stdout",
          "text": [
            "3 5 6 9 10 12 15 18 20 "
          ]
        }
      ]
    },
    {
      "cell_type": "code",
      "source": [
        "a, b = 0, 1\n",
        "for _ in range(10):\n",
        "    print(a, end=\" \")\n",
        "    a, b = b, a + b"
      ],
      "metadata": {
        "colab": {
          "base_uri": "https://localhost:8080/"
        },
        "id": "CrfvurYcsXYk",
        "outputId": "267e7c87-b03b-4c53-ed65-3b6420e2d834"
      },
      "execution_count": null,
      "outputs": [
        {
          "output_type": "stream",
          "name": "stdout",
          "text": [
            "0 1 1 2 3 5 8 13 21 34 "
          ]
        }
      ]
    },
    {
      "cell_type": "markdown",
      "source": [
        "14-05-2025"
      ],
      "metadata": {
        "id": "CSNCAu4h7Fdn"
      }
    },
    {
      "cell_type": "code",
      "source": [
        "# Collections or iterables\n",
        "\n",
        "#what is collection?\n",
        "#collection is having 2 types of data Homogenous data and Hetergenous data\n",
        "#what is homogenous data?\n",
        "#collection is having same data type\n",
        "#ex:-list is having integers\n",
        "#Hetergenous data:-collection is multiple data inside it\n",
        "#How many types of collections do we have?\n",
        "#there are 4 types\n",
        "#1.List\n",
        "#2.Tuple\n",
        "#3.Set\n",
        "#4.Dictionary"
      ],
      "metadata": {
        "id": "4FLLwFGE7HzE"
      },
      "execution_count": null,
      "outputs": []
    },
    {
      "cell_type": "markdown",
      "source": [
        "List"
      ],
      "metadata": {
        "id": "59BtHSVp7f1b"
      }
    },
    {
      "cell_type": "code",
      "source": [
        "\n",
        "\n",
        "#what is list? or define a list or how can we declare a list?\n",
        "#list -->[]\n",
        "#list defined as ordered, mutable, and it allows the duplicate data"
      ],
      "metadata": {
        "id": "ie1qUzbn7UIm"
      },
      "execution_count": null,
      "outputs": []
    },
    {
      "cell_type": "markdown",
      "source": [
        "list allows the dulipate data"
      ],
      "metadata": {
        "id": "xjtDH8os7o8F"
      }
    },
    {
      "cell_type": "code",
      "source": [
        "\n",
        "\n",
        "l1 = ['apple','banana','kiwi','orange','apple','banana']\n",
        "#what is length of l1\n",
        "print(len(l1))\n",
        "print(type(l1))\n",
        "print(l1)\n"
      ],
      "metadata": {
        "colab": {
          "base_uri": "https://localhost:8080/"
        },
        "id": "xVS9ewYI7h1r",
        "outputId": "484e75f6-4d5c-4208-aca6-35d32acdb29a"
      },
      "execution_count": null,
      "outputs": [
        {
          "output_type": "stream",
          "name": "stdout",
          "text": [
            "6\n",
            "<class 'list'>\n",
            "['apple', 'banana', 'kiwi', 'orange', 'apple', 'banana']\n"
          ]
        }
      ]
    },
    {
      "cell_type": "markdown",
      "source": [
        "*List is ordered*"
      ],
      "metadata": {
        "id": "-cnk13ld7u46"
      }
    },
    {
      "cell_type": "code",
      "source": [
        "\n",
        "\n",
        "\n",
        "#what is ordered means?\n",
        "#each character in the list is having sequence of index position numbers\n",
        "#from list l1 print kiwi\n",
        "#syntax[index]\n",
        "print(l1[3])"
      ],
      "metadata": {
        "id": "xfqIKfM97qyx"
      },
      "execution_count": null,
      "outputs": []
    },
    {
      "cell_type": "code",
      "source": [
        "#print a range of characters 'pineapple', 'kiwi', 'orange' from l1\n",
        "#[start:end index]\n",
        "print(l1[2:5])   #slicing will stops always before one index position number\n"
      ],
      "metadata": {
        "colab": {
          "base_uri": "https://localhost:8080/"
        },
        "id": "UJhMWzAI7wKL",
        "outputId": "74e46dc9-6e0f-4474-c5f4-ed5a4dc15a99"
      },
      "execution_count": null,
      "outputs": [
        {
          "output_type": "stream",
          "name": "stdout",
          "text": [
            "['kiwi', 'orange', 'apple']\n"
          ]
        }
      ]
    },
    {
      "cell_type": "code",
      "source": [
        "#print the even elements from the list l1?\n",
        "print(l1[0:9:2])\n",
        "#print the odd index position character?\n",
        "print(l1[1:9:2])\n"
      ],
      "metadata": {
        "colab": {
          "base_uri": "https://localhost:8080/"
        },
        "id": "j_cW0hO570sc",
        "outputId": "b7c4c6ef-fccf-40cc-82e2-5656a0b2a93f"
      },
      "execution_count": null,
      "outputs": [
        {
          "output_type": "stream",
          "name": "stdout",
          "text": [
            "['apple', 'kiwi', 'apple']\n",
            "['banana', 'orange', 'banana']\n"
          ]
        }
      ]
    },
    {
      "cell_type": "code",
      "source": [
        "\n",
        "# This is formatted as code\n"
      ],
      "metadata": {
        "id": "zPEUtDC173XA"
      },
      "execution_count": null,
      "outputs": []
    },
    {
      "cell_type": "code",
      "source": [
        "\n",
        "*default indexing*"
      ],
      "metadata": {
        "id": "ohaa3-Yh8Glh"
      },
      "execution_count": null,
      "outputs": []
    },
    {
      "cell_type": "code",
      "source": [
        "\n",
        "\n",
        "#what is default indexing?\n",
        "#by deafuly start is 0, end is length of collection and step is 1\n",
        "l2 = ['apple','banana','pineapple','kiwi','orange','apple','banana','apple']\n",
        "#print 5 from above list\n",
        "# print(l2[8])\n",
        "# print(l2[:])\n",
        "# print(l2[::])\n",
        "print(l2[::2]) #o/p--> all the even elements\n",
        "print(l2[1::2]) #o/p all the odd elements\n"
      ],
      "metadata": {
        "colab": {
          "base_uri": "https://localhost:8080/"
        },
        "id": "U60TBhB479YX",
        "outputId": "cfef7b10-f1cc-4a22-8392-b0b3edc82b05"
      },
      "execution_count": null,
      "outputs": [
        {
          "output_type": "stream",
          "name": "stdout",
          "text": [
            "['apple', 'pineapple', 'orange', 'banana']\n",
            "['banana', 'kiwi', 'apple', 'apple']\n"
          ]
        }
      ]
    },
    {
      "cell_type": "code",
      "source": [
        "#reverse the above list l2\n",
        "print(l2[::-1])"
      ],
      "metadata": {
        "colab": {
          "base_uri": "https://localhost:8080/"
        },
        "id": "fn1Z_G128JCv",
        "outputId": "28ff6413-3373-4a6d-90b6-f8f954ad2aee"
      },
      "execution_count": null,
      "outputs": [
        {
          "output_type": "stream",
          "name": "stdout",
          "text": [
            "['apple', 'banana', 'apple', 'orange', 'kiwi', 'pineapple', 'banana', 'apple']\n"
          ]
        }
      ]
    },
    {
      "cell_type": "markdown",
      "source": [
        "*list mutable*"
      ],
      "metadata": {
        "id": "GaQYrOQN8VCl"
      }
    },
    {
      "cell_type": "markdown",
      "source": [
        "\n",
        "\n",
        "when we suppose to say a collection is mutable?\n",
        "\n",
        "--> if the collection is following 3 properties  then it is mutable\n",
        "1. replace or swap the items\n",
        "2. add the new item to existing list\n",
        "3. remove the items from existing list"
      ],
      "metadata": {
        "id": "0RTwQ1UQ8bA2"
      }
    },
    {
      "cell_type": "markdown",
      "source": [
        "*replace or swap the items from list*"
      ],
      "metadata": {
        "id": "9jVlyW7x8kGI"
      }
    },
    {
      "cell_type": "code",
      "source": [
        "\n",
        "\n",
        "\n",
        "#How can we replace the items from list?\n",
        "#By using the index position numbers\n",
        "l3 = ['java','JS','R','Python','c','c++']\n",
        "#replace the js with java script\n",
        "l3[1]='javascript'\n",
        "print(l3)"
      ],
      "metadata": {
        "colab": {
          "base_uri": "https://localhost:8080/"
        },
        "id": "fWtUoyKW8cBv",
        "outputId": "da830e68-e503-4ef5-fbf6-24fa85efe608"
      },
      "execution_count": null,
      "outputs": [
        {
          "output_type": "stream",
          "name": "stdout",
          "text": [
            "['java', 'javascript', 'R', 'Python', 'c', 'c++']\n"
          ]
        }
      ]
    },
    {
      "cell_type": "markdown",
      "source": [],
      "metadata": {
        "id": "A9bPhixe8xRd"
      }
    },
    {
      "cell_type": "markdown",
      "source": [
        "*Add the new items to the list*"
      ],
      "metadata": {
        "id": "D9IllAeA82w1"
      }
    },
    {
      "cell_type": "code",
      "source": [
        "\n",
        "\n",
        "l4 = ['java', '.net', 'seasharp', 'nodejs', 'Python', 'c', 'c++']\n",
        "#we are some methods to add items to the list\n",
        "print(dir(l4))\n",
        "\"\"\"'append', 'clear', 'copy', 'count', 'extend',\n",
        "'index', 'insert', 'pop', 'remove', 'reverse', 'sort' \"\"\"\n"
      ],
      "metadata": {
        "colab": {
          "base_uri": "https://localhost:8080/",
          "height": 73
        },
        "id": "0HccrX-l8lSa",
        "outputId": "2f5aad10-3bb2-4779-b190-de7a037f6ef8"
      },
      "execution_count": null,
      "outputs": [
        {
          "output_type": "stream",
          "name": "stdout",
          "text": [
            "['__add__', '__class__', '__class_getitem__', '__contains__', '__delattr__', '__delitem__', '__dir__', '__doc__', '__eq__', '__format__', '__ge__', '__getattribute__', '__getitem__', '__getstate__', '__gt__', '__hash__', '__iadd__', '__imul__', '__init__', '__init_subclass__', '__iter__', '__le__', '__len__', '__lt__', '__mul__', '__ne__', '__new__', '__reduce__', '__reduce_ex__', '__repr__', '__reversed__', '__rmul__', '__setattr__', '__setitem__', '__sizeof__', '__str__', '__subclasshook__', 'append', 'clear', 'copy', 'count', 'extend', 'index', 'insert', 'pop', 'remove', 'reverse', 'sort']\n"
          ]
        },
        {
          "output_type": "execute_result",
          "data": {
            "text/plain": [
              "\"'append', 'clear', 'copy', 'count', 'extend',\\n'index', 'insert', 'pop', 'remove', 'reverse', 'sort' \""
            ],
            "application/vnd.google.colaboratory.intrinsic+json": {
              "type": "string"
            }
          },
          "metadata": {},
          "execution_count": 7
        }
      ]
    },
    {
      "cell_type": "code",
      "source": [
        "#1.append():- by default it add the single element at the end of the list\n",
        "#q)what is default index position when we use append()?\n",
        "#end of the list\n",
        "#add 'mongo DB' in to above list.\n",
        "l4.append('Mongo DB')\n",
        "print(l4)\n"
      ],
      "metadata": {
        "colab": {
          "base_uri": "https://localhost:8080/"
        },
        "id": "ITXF-x6l86PL",
        "outputId": "61b9665e-a671-4f41-d283-2eadb85f19ad"
      },
      "execution_count": null,
      "outputs": [
        {
          "output_type": "stream",
          "name": "stdout",
          "text": [
            "['java', '.net', 'seasharp', 'nodejs', 'Python', 'c', 'c++', 'Mongo DB']\n"
          ]
        }
      ]
    },
    {
      "cell_type": "code",
      "source": [
        "#2.insert(index,item):- is used add the item at specific index position\n",
        "l4.insert(3,'SQL')\n",
        "print(l4)\n",
        "#can i add multiple items by using insert method---> no\n"
      ],
      "metadata": {
        "colab": {
          "base_uri": "https://localhost:8080/"
        },
        "id": "PzHqZPrt8_Sc",
        "outputId": "ebcfce82-812f-4d17-f972-70e16c8a912f"
      },
      "execution_count": null,
      "outputs": [
        {
          "output_type": "stream",
          "name": "stdout",
          "text": [
            "['java', '.net', 'seasharp', 'SQL', 'nodejs', 'Python', 'c', 'c++', 'Mongo DB']\n"
          ]
        }
      ]
    },
    {
      "cell_type": "code",
      "source": [
        "#3.extend(collection_name):- adds the multiple items in to list\n",
        "l5 = [1,2,3,4,5]\n",
        "#add the l5 into l4\n",
        "l4.extend(l5)\n",
        "print(l4)\n"
      ],
      "metadata": {
        "colab": {
          "base_uri": "https://localhost:8080/"
        },
        "id": "Io1Uj9cY9EBw",
        "outputId": "de7ab630-0720-4371-d9f5-7cc223e6957d"
      },
      "execution_count": null,
      "outputs": [
        {
          "output_type": "stream",
          "name": "stdout",
          "text": [
            "['java', '.net', 'seasharp', 'SQL', 'nodejs', 'Python', 'c', 'c++', 'Mongo DB', 1, 2, 3, 4, 5]\n"
          ]
        }
      ]
    },
    {
      "cell_type": "markdown",
      "source": [
        "*remove the items from list*"
      ],
      "metadata": {
        "id": "XXcAk2pj9Nbj"
      }
    },
    {
      "cell_type": "code",
      "source": [
        "\n",
        "\n",
        "l6 = ['java', '.net', 'seasharp', 'SQL', 'nodejs', 'Python', 'c', 'c++', 'Mongo DB', 1, 2, 3, 4, 5]\n",
        "#1.pop(index):by default it remove last element\n",
        "print(l6.pop())\n",
        "\n",
        "print(l6)\n",
        "\n",
        "print(l6.pop(-1))"
      ],
      "metadata": {
        "colab": {
          "base_uri": "https://localhost:8080/"
        },
        "id": "677pG0aj9HwZ",
        "outputId": "f313516b-7fa4-402e-9ef9-8725efab8b9a"
      },
      "execution_count": null,
      "outputs": [
        {
          "output_type": "stream",
          "name": "stdout",
          "text": [
            "5\n",
            "['java', '.net', 'seasharp', 'SQL', 'nodejs', 'Python', 'c', 'c++', 'Mongo DB', 1, 2, 3, 4]\n",
            "4\n"
          ]
        }
      ]
    },
    {
      "cell_type": "code",
      "source": [
        "#remove(item_name):- by using name or identity of element it removes the item from list\n",
        "l6.remove('Mongo DB')\n",
        "print(l6)\n",
        "#can i remove the multiple items by usimg the remove()----> No"
      ],
      "metadata": {
        "colab": {
          "base_uri": "https://localhost:8080/"
        },
        "id": "I9akfNY19XCF",
        "outputId": "a66f3965-9546-4288-a331-813b33927e02"
      },
      "execution_count": null,
      "outputs": [
        {
          "output_type": "stream",
          "name": "stdout",
          "text": [
            "['java', '.net', 'seasharp', 'SQL', 'nodejs', 'Python', 'c', 'c++', 1, 2, 3]\n"
          ]
        }
      ]
    },
    {
      "cell_type": "code",
      "source": [
        "#How can i remove the multiple items from list l6--> 'c', 'c++', 1, 2, 3\n",
        "del l6[6:]\n",
        "print(l6)\n"
      ],
      "metadata": {
        "colab": {
          "base_uri": "https://localhost:8080/"
        },
        "id": "TGWAyjR79hF-",
        "outputId": "f0596fbf-5748-4b54-df1f-bdb86b16b725"
      },
      "execution_count": null,
      "outputs": [
        {
          "output_type": "stream",
          "name": "stdout",
          "text": [
            "['java', '.net', 'seasharp', 'SQL', 'nodejs', 'Python']\n"
          ]
        }
      ]
    },
    {
      "cell_type": "code",
      "source": [
        "l6.index('seasharp')\n",
        "\n",
        "#remove all the items from the list and return empty list\n",
        "l6.clear()\n",
        "print(l6)\n"
      ],
      "metadata": {
        "colab": {
          "base_uri": "https://localhost:8080/"
        },
        "id": "sNQQEFK89kNR",
        "outputId": "c32eeab1-b210-4f84-bdf7-48ecc25ebcff"
      },
      "execution_count": null,
      "outputs": [
        {
          "output_type": "stream",
          "name": "stdout",
          "text": [
            "[]\n"
          ]
        }
      ]
    },
    {
      "cell_type": "code",
      "source": [
        "#delete the list\n",
        "del l6\n",
        "print(l6)"
      ],
      "metadata": {
        "colab": {
          "base_uri": "https://localhost:8080/",
          "height": 158
        },
        "id": "dXsFerl_9rFW",
        "outputId": "b0e8c955-5a9c-4110-b104-de3f805dff3e"
      },
      "execution_count": null,
      "outputs": [
        {
          "output_type": "error",
          "ename": "NameError",
          "evalue": "name 'l6' is not defined",
          "traceback": [
            "\u001b[0;31m---------------------------------------------------------------------------\u001b[0m",
            "\u001b[0;31mNameError\u001b[0m                                 Traceback (most recent call last)",
            "\u001b[0;32m<ipython-input-19-7e1946dc3a78>\u001b[0m in \u001b[0;36m<cell line: 0>\u001b[0;34m()\u001b[0m\n\u001b[1;32m      1\u001b[0m \u001b[0;31m#delete the list\u001b[0m\u001b[0;34m\u001b[0m\u001b[0;34m\u001b[0m\u001b[0m\n\u001b[0;32m----> 2\u001b[0;31m \u001b[0;32mdel\u001b[0m \u001b[0ml6\u001b[0m\u001b[0;34m\u001b[0m\u001b[0;34m\u001b[0m\u001b[0m\n\u001b[0m",
            "\u001b[0;31mNameError\u001b[0m: name 'l6' is not defined"
          ]
        }
      ]
    },
    {
      "cell_type": "markdown",
      "source": [
        "*sorting of list*"
      ],
      "metadata": {
        "id": "j1n6MncI-C7N"
      }
    },
    {
      "cell_type": "code",
      "source": [
        "\n",
        "l = ['apple','banana','Apple','Ornage','kiwi','mango','pineapple','Watermelon']\n",
        "#sort the above list in ascending orderd\n",
        "l.sort()\n",
        "print(l)\n",
        "#How this sorting can be done?\n",
        "#sorting can be done based ASCII\n",
        "\n",
        "#PRINT IN descending order?\n",
        "l.sort(reverse=True)\n",
        "print(l)\n"
      ],
      "metadata": {
        "colab": {
          "base_uri": "https://localhost:8080/"
        },
        "id": "AvOKiUNz91Op",
        "outputId": "f3662644-cd33-4480-b9fb-fab40f17a657"
      },
      "execution_count": null,
      "outputs": [
        {
          "output_type": "stream",
          "name": "stdout",
          "text": [
            "['Apple', 'Ornage', 'Watermelon', 'apple', 'banana', 'kiwi', 'mango', 'pineapple']\n",
            "['pineapple', 'mango', 'kiwi', 'banana', 'apple', 'Watermelon', 'Ornage', 'Apple']\n"
          ]
        }
      ]
    },
    {
      "cell_type": "code",
      "source": [
        "\n",
        "l = [746,3635,36,282,363,254,978,3532,656,432]\n",
        "l.sort(reverse = True)\n",
        "print(l)"
      ],
      "metadata": {
        "colab": {
          "base_uri": "https://localhost:8080/"
        },
        "id": "-1wWvRvS-GAq",
        "outputId": "ef71ddd3-8a1e-4d73-f0a7-3548210ca393"
      },
      "execution_count": null,
      "outputs": [
        {
          "output_type": "stream",
          "name": "stdout",
          "text": [
            "[3635, 3532, 978, 746, 656, 432, 363, 282, 254, 36]\n"
          ]
        }
      ]
    },
    {
      "cell_type": "markdown",
      "source": [
        "15-05-2025"
      ],
      "metadata": {
        "id": "RYghP7-_-KvI"
      }
    },
    {
      "cell_type": "markdown",
      "source": [
        "Tuple"
      ],
      "metadata": {
        "id": "nTL5M6y3-Nc6"
      }
    },
    {
      "cell_type": "code",
      "source": [
        "#what is tuple? define tuple or how can you declare a tuple\n",
        "#tuple is declared in ()\n",
        "#tuple is defined as ordered, immutable and its allows duplicates data\n"
      ],
      "metadata": {
        "id": "gjF1tYAn-Mjl"
      },
      "execution_count": null,
      "outputs": []
    },
    {
      "cell_type": "markdown",
      "source": [
        "Tuple allows duplicate data"
      ],
      "metadata": {
        "id": "mbO3dVmc-izF"
      }
    },
    {
      "cell_type": "code",
      "source": [
        "t1 = (1,2,3,4,5,6,7,8,1,2,3,4,5,6,7)\n",
        "print(len(t1))\n",
        "print(type(t1))\n",
        "print(t1)\n"
      ],
      "metadata": {
        "id": "HOf6tj_O-h1y",
        "colab": {
          "base_uri": "https://localhost:8080/"
        },
        "outputId": "33b91572-1d29-4b80-8b32-d7a76b55e290"
      },
      "execution_count": null,
      "outputs": [
        {
          "output_type": "stream",
          "name": "stdout",
          "text": [
            "15\n",
            "<class 'tuple'>\n",
            "(1, 2, 3, 4, 5, 6, 7, 8, 1, 2, 3, 4, 5, 6, 7)\n"
          ]
        }
      ]
    },
    {
      "cell_type": "markdown",
      "source": [
        "Tuple is ordered"
      ],
      "metadata": {
        "id": "Vkqs2vfv-3y6"
      }
    },
    {
      "cell_type": "code",
      "source": [
        "t2 = ('apple','banana','Apple','Ornage','kiwi','mango','pineapple','Watermelon')\n",
        "print(t2[3])"
      ],
      "metadata": {
        "id": "Wko6ULaz-6fn",
        "colab": {
          "base_uri": "https://localhost:8080/"
        },
        "outputId": "c70f15eb-1de3-4942-8681-4d96247dc574"
      },
      "execution_count": null,
      "outputs": [
        {
          "output_type": "stream",
          "name": "stdout",
          "text": [
            "Ornage\n"
          ]
        }
      ]
    },
    {
      "cell_type": "code",
      "source": [
        "#access a range of fruits from 'banana','mango','pineapple','kiwi'\n",
        "print(t2[1:5])"
      ],
      "metadata": {
        "colab": {
          "base_uri": "https://localhost:8080/"
        },
        "id": "lK68eCmWx6Ne",
        "outputId": "6cfb0159-ebd6-4e93-8341-60070c4640ed"
      },
      "execution_count": null,
      "outputs": [
        {
          "output_type": "stream",
          "name": "stdout",
          "text": [
            "('banana', 'Apple', 'Ornage', 'kiwi')\n"
          ]
        }
      ]
    },
    {
      "cell_type": "code",
      "source": [
        "print(t2[::-1])"
      ],
      "metadata": {
        "colab": {
          "base_uri": "https://localhost:8080/"
        },
        "id": "Ft9CGo1EyDRf",
        "outputId": "6a5932de-4840-4615-e688-85ebccf100c2"
      },
      "execution_count": null,
      "outputs": [
        {
          "output_type": "stream",
          "name": "stdout",
          "text": [
            "('Watermelon', 'pineapple', 'mango', 'kiwi', 'Ornage', 'Apple', 'banana', 'apple')\n"
          ]
        }
      ]
    },
    {
      "cell_type": "markdown",
      "source": [
        "**Tuple is Immutable**"
      ],
      "metadata": {
        "id": "BYnVIMVZyIPV"
      }
    },
    {
      "cell_type": "code",
      "source": [
        "#in tuples we cannot replace, add and remove the items\n",
        "print(dir(t2))"
      ],
      "metadata": {
        "colab": {
          "base_uri": "https://localhost:8080/"
        },
        "id": "8MIm4n2ryR8v",
        "outputId": "ce7533b4-a91d-4ee0-9a01-114db08cfcf5"
      },
      "execution_count": null,
      "outputs": [
        {
          "output_type": "stream",
          "name": "stdout",
          "text": [
            "['__add__', '__class__', '__class_getitem__', '__contains__', '__delattr__', '__dir__', '__doc__', '__eq__', '__format__', '__ge__', '__getattribute__', '__getitem__', '__getnewargs__', '__getstate__', '__gt__', '__hash__', '__init__', '__init_subclass__', '__iter__', '__le__', '__len__', '__lt__', '__mul__', '__ne__', '__new__', '__reduce__', '__reduce_ex__', '__repr__', '__rmul__', '__setattr__', '__sizeof__', '__str__', '__subclasshook__', 'count', 'index']\n"
          ]
        }
      ]
    },
    {
      "cell_type": "code",
      "source": [
        "#Tuples are faster then the list?--> bcz tuple is immutable"
      ],
      "metadata": {
        "id": "dGAAmRaNybyx"
      },
      "execution_count": null,
      "outputs": []
    },
    {
      "cell_type": "code",
      "source": [
        "#How can we add the items or replace the items in tuple?\n",
        "#convert tuple into list\n",
        "t3 = ('apple', 'orange', 'kiwi', 'pineapple', 'mango', 'banana', 'apple')\n",
        "t_l = list(t3)\n",
        "print(t_l)"
      ],
      "metadata": {
        "colab": {
          "base_uri": "https://localhost:8080/"
        },
        "id": "ixXNAqgeyhp7",
        "outputId": "cb455c0a-f954-40f2-c088-26863ad94d1c"
      },
      "execution_count": null,
      "outputs": [
        {
          "output_type": "stream",
          "name": "stdout",
          "text": [
            "['apple', 'orange', 'kiwi', 'pineapple', 'mango', 'banana', 'apple']\n"
          ]
        }
      ]
    },
    {
      "cell_type": "code",
      "source": [
        "t_l.append('watermelon')\n",
        "print(t_l)"
      ],
      "metadata": {
        "colab": {
          "base_uri": "https://localhost:8080/"
        },
        "id": "x_5Q-eSMyoHj",
        "outputId": "6dce77d1-052c-49cd-a71b-191263fb2533"
      },
      "execution_count": null,
      "outputs": [
        {
          "output_type": "stream",
          "name": "stdout",
          "text": [
            "['apple', 'orange', 'kiwi', 'pineapple', 'mango', 'banana', 'apple', 'watermelon']\n"
          ]
        }
      ]
    },
    {
      "cell_type": "code",
      "source": [
        "t_l.insert(4,'grapes')\n",
        "print(t_l)"
      ],
      "metadata": {
        "colab": {
          "base_uri": "https://localhost:8080/"
        },
        "id": "3uXdfq5PyqRR",
        "outputId": "7b3830b1-b288-4ee6-8fc5-255c079afc8f"
      },
      "execution_count": null,
      "outputs": [
        {
          "output_type": "stream",
          "name": "stdout",
          "text": [
            "['apple', 'orange', 'kiwi', 'pineapple', 'grapes', 'mango', 'banana', 'apple', 'watermelon']\n"
          ]
        }
      ]
    },
    {
      "cell_type": "code",
      "source": [
        "l_t = tuple(t_l)\n",
        "print(l_t)"
      ],
      "metadata": {
        "colab": {
          "base_uri": "https://localhost:8080/"
        },
        "id": "zW2j_IM-yv14",
        "outputId": "691c3267-5d83-46c2-fc99-ba1342a91463"
      },
      "execution_count": null,
      "outputs": [
        {
          "output_type": "stream",
          "name": "stdout",
          "text": [
            "('apple', 'orange', 'kiwi', 'pineapple', 'grapes', 'mango', 'banana', 'apple', 'watermelon')\n"
          ]
        }
      ]
    },
    {
      "cell_type": "code",
      "source": [
        "#when we need to use the tuple and list?\n",
        "#tuple is used to store valueble data where we are not making any changes in future\n",
        "#ex:- aadhar, pan, password,...etc\n",
        "#where we make changes in data in future we use list--> address,phone numb"
      ],
      "metadata": {
        "id": "Ly-V1YJpy0HK"
      },
      "execution_count": null,
      "outputs": []
    },
    {
      "cell_type": "markdown",
      "source": [
        "**SET**"
      ],
      "metadata": {
        "id": "nrxMTn_ny6SY"
      }
    },
    {
      "cell_type": "code",
      "source": [
        "#what is set? or define Set or ? How can we declare a set?\n",
        "#set is --> {}\n",
        "#set is defined as unordered, immutuable, and won't allow the duplicate data"
      ],
      "metadata": {
        "id": "g00dfC2My8c8"
      },
      "execution_count": null,
      "outputs": []
    },
    {
      "cell_type": "markdown",
      "source": [
        "set won't allow duplicate data"
      ],
      "metadata": {
        "id": "4DwnfFm7zByG"
      }
    },
    {
      "cell_type": "code",
      "source": [
        "s1 = {'apple', 'orange', 'kiwi', 'pineapple', 'grapes', 'mango', 'banana', 'apple', 'watermelon'}\n",
        "print(len(s1))\n",
        "print(s1)\n",
        "print(type(s1))"
      ],
      "metadata": {
        "colab": {
          "base_uri": "https://localhost:8080/"
        },
        "id": "KkhcHUngzFOh",
        "outputId": "9376b7a9-6563-4d0e-c542-0c879fddcee3"
      },
      "execution_count": null,
      "outputs": [
        {
          "output_type": "stream",
          "name": "stdout",
          "text": [
            "8\n",
            "{'banana', 'pineapple', 'mango', 'orange', 'apple', 'kiwi', 'grapes', 'watermelon'}\n",
            "<class 'set'>\n"
          ]
        }
      ]
    },
    {
      "cell_type": "code",
      "source": [
        "s2 = {1,2,3,4,5,6,1,2,3,4,5,6}\n",
        "print(s2)"
      ],
      "metadata": {
        "colab": {
          "base_uri": "https://localhost:8080/"
        },
        "id": "Q2OYtTOgzM2q",
        "outputId": "9dc5d9d5-76d2-4246-8a3e-3c0d3b211580"
      },
      "execution_count": null,
      "outputs": [
        {
          "output_type": "stream",
          "name": "stdout",
          "text": [
            "{1, 2, 3, 4, 5, 6}\n"
          ]
        }
      ]
    },
    {
      "cell_type": "markdown",
      "source": [
        "**set is unordered**"
      ],
      "metadata": {
        "id": "C5KvpMFfzXS8"
      }
    },
    {
      "cell_type": "code",
      "source": [
        "#element or items in the set doesn't have index position numbers\n",
        "s3 = {'orange', 'watermelon', 'apple', 'banana', 'pineapple', 'mango', 'kiwi', 'grapes'}\n",
        "print(s3[2])"
      ],
      "metadata": {
        "id": "lboRTkyFzOEY"
      },
      "execution_count": null,
      "outputs": []
    },
    {
      "cell_type": "markdown",
      "source": [
        "**set is immutable**"
      ],
      "metadata": {
        "id": "eLRMPtfczouU"
      }
    },
    {
      "cell_type": "code",
      "source": [
        "#in sets we cannot replace or swap the datapoints but we can add and remove the items from the set\n",
        "#why we cannot replace the items in set ?\n",
        "#-->set is unordered"
      ],
      "metadata": {
        "id": "kxt7kCzFzhST"
      },
      "execution_count": null,
      "outputs": []
    },
    {
      "cell_type": "markdown",
      "source": [
        "**adding methods in set**"
      ],
      "metadata": {
        "id": "TBXTzYnTztrv"
      }
    },
    {
      "cell_type": "code",
      "source": [
        "s4 = {'orange', 'watermelon', 'apple', 'banana', 'pineapple', 'mango', 'kiwi', 'grapes'}\n",
        "#1.add():- is used to add element in set\n",
        "s4.add(5.5)\n",
        "print(s4)\n",
        "#by using the add() can we add multiple items at a time--> No"
      ],
      "metadata": {
        "colab": {
          "base_uri": "https://localhost:8080/"
        },
        "id": "HHnWMcodzyTW",
        "outputId": "6ad8f05b-c371-48a3-dfb4-599460867962"
      },
      "execution_count": null,
      "outputs": [
        {
          "output_type": "stream",
          "name": "stdout",
          "text": [
            "{'banana', 'pineapple', 'mango', 5.5, 'orange', 'apple', 'kiwi', 'grapes', 'watermelon'}\n"
          ]
        }
      ]
    },
    {
      "cell_type": "code",
      "source": [
        "print(dir(s4))\n",
        "\"\"\"'__and__', '__class__', '__class_getitem__', '__contains__', '__delattr__', '__dir__', '__doc__', '__eq__', '__format__', '__ge__', '__getattribute__', '__getstate__', '__gt__', '__hash__', '__iand__', '__init__', '__init_subclass__', '__ior__', '__isub__', '__iter__', '__ixor__', '__le__', '__len__', '__lt__', '__ne__', '__new__', '__or__', '__rand__', '__reduce__', '__reduce_ex__', '__repr__', '__ror__', '__rsub__', '__rxor__', '__setattr__', '__sizeof__', '__str__', '__sub__', '__subclasshook__', '__xor__', 'add', 'clear', 'copy', 'difference', 'difference_update', 'discard', 'intersection',\n",
        "'intersection_update', 'isdisjoint', 'issubset', 'issuperset', 'pop', 'remove', 'symmetric_difference', 'symmetric_difference_update',\n",
        "'union', 'update' \"\"\""
      ],
      "metadata": {
        "colab": {
          "base_uri": "https://localhost:8080/"
        },
        "id": "ojtnM_Rjz1PB",
        "outputId": "a52076c3-ea01-4cb2-e5a3-ad691b3772ce"
      },
      "execution_count": null,
      "outputs": [
        {
          "output_type": "stream",
          "name": "stdout",
          "text": [
            "['__and__', '__class__', '__class_getitem__', '__contains__', '__delattr__', '__dir__', '__doc__', '__eq__', '__format__', '__ge__', '__getattribute__', '__getstate__', '__gt__', '__hash__', '__iand__', '__init__', '__init_subclass__', '__ior__', '__isub__', '__iter__', '__ixor__', '__le__', '__len__', '__lt__', '__ne__', '__new__', '__or__', '__rand__', '__reduce__', '__reduce_ex__', '__repr__', '__ror__', '__rsub__', '__rxor__', '__setattr__', '__sizeof__', '__str__', '__sub__', '__subclasshook__', '__xor__', 'add', 'clear', 'copy', 'difference', 'difference_update', 'discard', 'intersection', 'intersection_update', 'isdisjoint', 'issubset', 'issuperset', 'pop', 'remove', 'symmetric_difference', 'symmetric_difference_update', 'union', 'update']\n"
          ]
        }
      ]
    },
    {
      "cell_type": "code",
      "source": [
        "#update():- is used add multiple items to the set  from other collections\n",
        "l = [1,2,3,4,5,1,1,3,4,5]\n",
        "#add the list of numbers in s4\n",
        "s4.update(l)\n",
        "print(s4)"
      ],
      "metadata": {
        "colab": {
          "base_uri": "https://localhost:8080/"
        },
        "id": "eyxRbbI10MEO",
        "outputId": "0d2e7fe8-d2c8-4792-f87a-f993d5d1af94"
      },
      "execution_count": null,
      "outputs": [
        {
          "output_type": "stream",
          "name": "stdout",
          "text": [
            "{'banana', 1, 'pineapple', 'mango', 2, 5.5, 3, 4, 5, 'orange', 'apple', 'kiwi', 'grapes', 'watermelon'}\n"
          ]
        }
      ]
    },
    {
      "cell_type": "markdown",
      "source": [
        "**remove the items from set**"
      ],
      "metadata": {
        "id": "dnrpD1SF0Y3l"
      }
    },
    {
      "cell_type": "code",
      "source": [
        "#pop():- is bad practice\n",
        "s4.pop()\n",
        "print(s4)"
      ],
      "metadata": {
        "colab": {
          "base_uri": "https://localhost:8080/"
        },
        "id": "4nTuGpVo0YFE",
        "outputId": "ee657ae1-cd0f-4e49-d0e9-2ece5dfeb0e2"
      },
      "execution_count": null,
      "outputs": [
        {
          "output_type": "stream",
          "name": "stdout",
          "text": [
            "{1, 'pineapple', 'mango', 2, 5.5, 3, 4, 5, 'orange', 'apple', 'kiwi', 'grapes', 'watermelon'}\n"
          ]
        }
      ]
    },
    {
      "cell_type": "code",
      "source": [
        "#remove('name_ite')\n",
        "s4.remove('watermelon')\n",
        "print(s4)"
      ],
      "metadata": {
        "colab": {
          "base_uri": "https://localhost:8080/"
        },
        "id": "IhP72j6L0g9j",
        "outputId": "1d7a56b1-085c-488f-b316-42b44d90fbf9"
      },
      "execution_count": null,
      "outputs": [
        {
          "output_type": "stream",
          "name": "stdout",
          "text": [
            "{1, 'pineapple', 'mango', 2, 5.5, 3, 4, 5, 'orange', 'apple', 'kiwi', 'grapes'}\n"
          ]
        }
      ]
    },
    {
      "cell_type": "code",
      "source": [
        "#discard('item_name):- similar to remove\n",
        "s4.discard('mango')\n",
        "print(s4)"
      ],
      "metadata": {
        "colab": {
          "base_uri": "https://localhost:8080/"
        },
        "id": "glaz9cf-0kcs",
        "outputId": "3900118f-ce04-4342-bf13-ceb91e8c75fa"
      },
      "execution_count": null,
      "outputs": [
        {
          "output_type": "stream",
          "name": "stdout",
          "text": [
            "{1, 'pineapple', 2, 5.5, 3, 4, 5, 'orange', 'apple', 'kiwi', 'grapes'}\n"
          ]
        }
      ]
    },
    {
      "cell_type": "code",
      "source": [
        "#what is the difference between remove and discard\n",
        "s4.discard('watermelon')\n",
        "print(s4)"
      ],
      "metadata": {
        "colab": {
          "base_uri": "https://localhost:8080/"
        },
        "id": "U38OCM7x0sgG",
        "outputId": "d2732527-7887-4322-d4eb-008257f7dff0"
      },
      "execution_count": null,
      "outputs": [
        {
          "output_type": "stream",
          "name": "stdout",
          "text": [
            "{1, 'pineapple', 2, 5.5, 3, 4, 5, 'orange', 'apple', 'kiwi', 'grapes'}\n"
          ]
        }
      ]
    },
    {
      "cell_type": "code",
      "source": [
        "#remove() if the datapoint existit remove the data point else it rises and error\n",
        "#discard() if the datapoint exist or not it wont rise an error"
      ],
      "metadata": {
        "id": "s8VgfNiE0x5V"
      },
      "execution_count": null,
      "outputs": []
    },
    {
      "cell_type": "code",
      "source": [
        "s4.clear()\n",
        "print(s4)"
      ],
      "metadata": {
        "colab": {
          "base_uri": "https://localhost:8080/"
        },
        "id": "V0rwaLsV01Ly",
        "outputId": "8178e31a-2659-480c-edcd-82ca36559878"
      },
      "execution_count": null,
      "outputs": [
        {
          "output_type": "stream",
          "name": "stdout",
          "text": [
            "set()\n"
          ]
        }
      ]
    },
    {
      "cell_type": "code",
      "source": [
        "#set is faster then the list, tuple?--> becuse it is unordered and immutable"
      ],
      "metadata": {
        "id": "jrtc5CqW06C1"
      },
      "execution_count": null,
      "outputs": []
    },
    {
      "cell_type": "code",
      "source": [
        "seta = {'a','b','c','d'}\n",
        "setb = {'d','e','f','g'}\n",
        "#union , intersection\n",
        "print(seta.union(setb))\n"
      ],
      "metadata": {
        "colab": {
          "base_uri": "https://localhost:8080/"
        },
        "id": "cEhuLH86067l",
        "outputId": "6641956b-ecad-4d2b-c017-2c149caf42ff"
      },
      "execution_count": null,
      "outputs": [
        {
          "output_type": "stream",
          "name": "stdout",
          "text": [
            "{'c', 'g', 'b', 'a', 'f', 'e', 'd'}\n"
          ]
        }
      ]
    },
    {
      "cell_type": "code",
      "source": [
        "#intersection()\n",
        "print(seta.intersection(setb))"
      ],
      "metadata": {
        "colab": {
          "base_uri": "https://localhost:8080/"
        },
        "id": "KYjTejhw0_XN",
        "outputId": "945cc121-efbb-4292-a71d-0077eac9b2b8"
      },
      "execution_count": null,
      "outputs": [
        {
          "output_type": "stream",
          "name": "stdout",
          "text": [
            "{'d'}\n"
          ]
        }
      ]
    },
    {
      "cell_type": "code",
      "source": [
        "print(seta.isdisjoint(setb))"
      ],
      "metadata": {
        "colab": {
          "base_uri": "https://localhost:8080/"
        },
        "id": "NFSbuOxW1OEJ",
        "outputId": "f4afb5a2-ce68-4c58-9e36-7ba49180ee15"
      },
      "execution_count": null,
      "outputs": [
        {
          "output_type": "stream",
          "name": "stdout",
          "text": [
            "False\n"
          ]
        }
      ]
    },
    {
      "cell_type": "markdown",
      "source": [
        "**Dictionary**"
      ],
      "metadata": {
        "id": "FZgF_pez1fI2"
      }
    },
    {
      "cell_type": "code",
      "source": [
        "#what is dict or define dict or how can we  declare dict?\n",
        "#dict--> {key:value}\n",
        "#how the data can be stored in the dictionary in key:value pair\n",
        "#dictionary is defined unordered, mutable, and wont allow the duplicate data"
      ],
      "metadata": {
        "id": "GzLY53Nc1UuL"
      },
      "execution_count": null,
      "outputs": []
    },
    {
      "cell_type": "markdown",
      "source": [
        "**Dictionary won't allow the duplicate data**"
      ],
      "metadata": {
        "id": "pEZzD9T51m99"
      }
    },
    {
      "cell_type": "code",
      "source": [
        "d1 = {\n",
        "    \"name\": \"sai\",\n",
        "    \"gender\":'Male',\n",
        "    \"Age\":23,\n",
        "    \"education\":\"masters\",\n",
        "    \"education\":\"B.tech\"\n",
        "}\n",
        "print(len(d1))\n",
        "print(d1)\n",
        "print(type(d1))"
      ],
      "metadata": {
        "colab": {
          "base_uri": "https://localhost:8080/"
        },
        "id": "6A0smPZ91kQG",
        "outputId": "99d3cf05-9a29-4093-abad-4289ffd29198"
      },
      "execution_count": null,
      "outputs": [
        {
          "output_type": "stream",
          "name": "stdout",
          "text": [
            "4\n",
            "{'name': 'sai', 'gender': 'Male', 'Age': 23, 'education': 'B.tech'}\n",
            "<class 'dict'>\n"
          ]
        }
      ]
    },
    {
      "cell_type": "markdown",
      "source": [
        "**Dictionary is unordered**"
      ],
      "metadata": {
        "id": "zzMBYPsg1wIX"
      }
    },
    {
      "cell_type": "code",
      "source": [
        "#key:value pairs doesn't have index position numbers\n",
        "#How can we access the data from the dictionary?\n",
        "#using key names"
      ],
      "metadata": {
        "id": "SKj4ydO01vOl"
      },
      "execution_count": null,
      "outputs": []
    },
    {
      "cell_type": "code",
      "source": [
        "print(d1['name'])"
      ],
      "metadata": {
        "colab": {
          "base_uri": "https://localhost:8080/"
        },
        "id": "oS3F4yGl13nL",
        "outputId": "4ce2ccca-5f17-4302-8429-b7662af1b032"
      },
      "execution_count": null,
      "outputs": [
        {
          "output_type": "stream",
          "name": "stdout",
          "text": [
            "sai\n"
          ]
        }
      ]
    },
    {
      "cell_type": "code",
      "source": [
        "#print the multiple keys\n",
        "print(d1['name'],d1['Age'],d1['education'])"
      ],
      "metadata": {
        "colab": {
          "base_uri": "https://localhost:8080/"
        },
        "id": "fzVVDJD11_wJ",
        "outputId": "4a7e0178-0224-4b95-c2b1-323331bf9e99"
      },
      "execution_count": null,
      "outputs": [
        {
          "output_type": "stream",
          "name": "stdout",
          "text": [
            "sai 23 B.tech\n"
          ]
        }
      ]
    },
    {
      "cell_type": "markdown",
      "source": [
        "Dictionary is mutable\n",
        "\n",
        "Replace the values in dictionary **bold text**"
      ],
      "metadata": {
        "id": "gKe-dCSB2EEH"
      }
    },
    {
      "cell_type": "code",
      "source": [
        "d1 = {\n",
        "    \"name\": \"sai\",\n",
        "    \"gender\":'Male',\n",
        "    \"Age\":23,\n",
        "    \"education\":\"B.tech\"\n",
        "}\n",
        "d1['education'] = 'Masters of DS'\n",
        "print(d1)"
      ],
      "metadata": {
        "colab": {
          "base_uri": "https://localhost:8080/"
        },
        "id": "tdn4Lqc42Lfg",
        "outputId": "0bfe3976-3f67-4be7-d708-a0ff72bf6b1e"
      },
      "execution_count": null,
      "outputs": [
        {
          "output_type": "stream",
          "name": "stdout",
          "text": [
            "{'name': 'sai', 'gender': 'Male', 'Age': 23, 'education': 'Masters of DS'}\n"
          ]
        }
      ]
    },
    {
      "cell_type": "markdown",
      "source": [
        "**add the items in the dicti0onary**"
      ],
      "metadata": {
        "id": "QjlAxKG-2kej"
      }
    },
    {
      "cell_type": "code",
      "source": [
        "d1['fruits'] = ['apple','banana','mango','kiwi']\n",
        "print(d1)"
      ],
      "metadata": {
        "colab": {
          "base_uri": "https://localhost:8080/"
        },
        "id": "TudaBBru2jUL",
        "outputId": "d7397b9f-4255-43eb-ae4c-0754b0caf8c1"
      },
      "execution_count": null,
      "outputs": [
        {
          "output_type": "stream",
          "name": "stdout",
          "text": [
            "{'name': 'sai', 'gender': 'Male', 'Age': 23, 'education': 'Masters of DS', 'fruits': ['apple', 'banana', 'mango', 'kiwi']}\n"
          ]
        }
      ]
    },
    {
      "cell_type": "code",
      "source": [
        "#print the \"mango\" from above dictionary\n",
        "print(d1['fruits'][2])"
      ],
      "metadata": {
        "id": "zeyngxGf2t_h",
        "outputId": "9716e0c3-7842-4da9-a38a-302a65ef5048",
        "colab": {
          "base_uri": "https://localhost:8080/"
        }
      },
      "execution_count": null,
      "outputs": [
        {
          "output_type": "stream",
          "name": "stdout",
          "text": [
            "mango\n"
          ]
        }
      ]
    },
    {
      "cell_type": "markdown",
      "source": [
        "16-05-2025"
      ],
      "metadata": {
        "id": "6Gka6tnwGQHj"
      }
    },
    {
      "cell_type": "code",
      "source": [
        "#what is a function?\n",
        "#function is a block of code which can be executed when we call it\n",
        "#what is the main purpose of the function?\n",
        "#to avoid the duplicate codes"
      ],
      "metadata": {
        "id": "hnqVKz_FGTeS"
      },
      "execution_count": null,
      "outputs": []
    },
    {
      "cell_type": "code",
      "source": [
        "print(\"hello\")\n",
        "print(type(5))\n",
        "print(len(\"hello\"))\n",
        "print(round(12.34))\n",
        "print(dir(5))\n",
        "a = input()"
      ],
      "metadata": {
        "colab": {
          "base_uri": "https://localhost:8080/"
        },
        "id": "v9CuzjnmL2uE",
        "outputId": "309f9ae4-79da-46ad-ebe2-a758c24327a3"
      },
      "execution_count": 1,
      "outputs": [
        {
          "name": "stdout",
          "output_type": "stream",
          "text": [
            "hello\n",
            "<class 'int'>\n",
            "5\n",
            "12\n",
            "['__abs__', '__add__', '__and__', '__bool__', '__ceil__', '__class__', '__delattr__', '__dir__', '__divmod__', '__doc__', '__eq__', '__float__', '__floor__', '__floordiv__', '__format__', '__ge__', '__getattribute__', '__getnewargs__', '__getstate__', '__gt__', '__hash__', '__index__', '__init__', '__init_subclass__', '__int__', '__invert__', '__le__', '__lshift__', '__lt__', '__mod__', '__mul__', '__ne__', '__neg__', '__new__', '__or__', '__pos__', '__pow__', '__radd__', '__rand__', '__rdivmod__', '__reduce__', '__reduce_ex__', '__repr__', '__rfloordiv__', '__rlshift__', '__rmod__', '__rmul__', '__ror__', '__round__', '__rpow__', '__rrshift__', '__rshift__', '__rsub__', '__rtruediv__', '__rxor__', '__setattr__', '__sizeof__', '__str__', '__sub__', '__subclasshook__', '__truediv__', '__trunc__', '__xor__', 'as_integer_ratio', 'bit_count', 'bit_length', 'conjugate', 'denominator', 'from_bytes', 'imag', 'numerator', 'real', 'to_bytes']\n",
            "gdeguwhfi\n"
          ]
        }
      ]
    },
    {
      "cell_type": "code",
      "source": [
        "#how can we create our own function?\n",
        "#by using \"def\"\n",
        "def f1():\n",
        "  print(\"Hello World\")\n",
        "#call function\n",
        "f1()"
      ],
      "metadata": {
        "colab": {
          "base_uri": "https://localhost:8080/"
        },
        "id": "2JV-087TMbuc",
        "outputId": "17de7046-7a08-47d2-cd9d-f70da2b2e08d"
      },
      "execution_count": 2,
      "outputs": [
        {
          "output_type": "stream",
          "name": "stdout",
          "text": [
            "Hello World\n"
          ]
        }
      ]
    },
    {
      "cell_type": "code",
      "source": [
        "def sai():\n",
        "  print(\"Good evening\")\n",
        "sai()"
      ],
      "metadata": {
        "colab": {
          "base_uri": "https://localhost:8080/"
        },
        "id": "CPPLd84gM0n-",
        "outputId": "1b1dec97-a33f-4da2-85b6-fe4011668cfe"
      },
      "execution_count": 3,
      "outputs": [
        {
          "output_type": "stream",
          "name": "stdout",
          "text": [
            "Good evening\n"
          ]
        }
      ]
    },
    {
      "cell_type": "code",
      "source": [
        "#what is parameter?\n",
        "#when we define a function we create a variable which is known as parameter\n",
        "#what is argument?\n",
        "#when we call a function we pass some values which is known as arguments"
      ],
      "metadata": {
        "id": "tDg0g3_CM-Rf"
      },
      "execution_count": null,
      "outputs": []
    },
    {
      "cell_type": "code",
      "source": [
        "def f2(name):\n",
        "  print(f\"Hello {name} welcome to python training programming \")\n",
        "#call function\n",
        "f2(\"medha\")\n"
      ],
      "metadata": {
        "colab": {
          "base_uri": "https://localhost:8080/"
        },
        "id": "IWbDcwTpNUXi",
        "outputId": "171a9a81-4b59-4296-9607-302929942785"
      },
      "execution_count": 4,
      "outputs": [
        {
          "output_type": "stream",
          "name": "stdout",
          "text": [
            "Hello medha welcome to python training programming \n"
          ]
        }
      ]
    },
    {
      "cell_type": "code",
      "source": [
        "def f2(name=\"Medha\"):\n",
        "  print(f\"Hello {name} welcome to python training programming \")\n",
        "#call function\n",
        "f2()\n"
      ],
      "metadata": {
        "colab": {
          "base_uri": "https://localhost:8080/"
        },
        "id": "taPE-TEXO2U1",
        "outputId": "2f2f2dc8-ec62-41de-ddfe-f5b810457cd0"
      },
      "execution_count": 5,
      "outputs": [
        {
          "output_type": "stream",
          "name": "stdout",
          "text": [
            "Hello Medha welcome to python training programming \n"
          ]
        }
      ]
    },
    {
      "cell_type": "code",
      "source": [
        "#how many parameters and arguments shall we give?\n",
        "#The no of parameters we created is == The no of arguments we are passing"
      ],
      "metadata": {
        "id": "NZBNF-WrN5Zw"
      },
      "execution_count": null,
      "outputs": []
    },
    {
      "cell_type": "code",
      "source": [
        "#create a function to check the given number is even or odd\n",
        "def check_even(num):\n",
        "  if num%2 == 0:\n",
        "    print(\"even\")\n",
        "  else:\n",
        "    print(\"odd\")\n",
        "check_even(75)"
      ],
      "metadata": {
        "colab": {
          "base_uri": "https://localhost:8080/"
        },
        "id": "flpl3V0WO7i7",
        "outputId": "1b0298de-4c72-48ae-d0fe-ea12e400a725"
      },
      "execution_count": 6,
      "outputs": [
        {
          "output_type": "stream",
          "name": "stdout",
          "text": [
            "odd\n"
          ]
        }
      ]
    },
    {
      "cell_type": "code",
      "source": [
        "#create a function to check the given string is palindrome or not irrespective letter cases.\n",
        "a = input('enter your string:')\n",
        "if a.lower() == a[::-1].lower():\n",
        "  print(\"yes\")\n",
        "else:\n",
        "  print(\"No\")\n",
        "\n"
      ],
      "metadata": {
        "colab": {
          "base_uri": "https://localhost:8080/"
        },
        "id": "FoariYXrPuQe",
        "outputId": "5ea5715b-e526-4678-df0d-ede4587cafb9"
      },
      "execution_count": 14,
      "outputs": [
        {
          "output_type": "stream",
          "name": "stdout",
          "text": [
            "enter your string:3553\n",
            "yes\n"
          ]
        }
      ]
    }
  ]
}