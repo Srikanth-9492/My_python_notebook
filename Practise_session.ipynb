{
  "nbformat": 4,
  "nbformat_minor": 0,
  "metadata": {
    "colab": {
      "provenance": [],
      "authorship_tag": "ABX9TyPD6x+fwq5+uzFcP3odg+kR",
      "include_colab_link": true
    },
    "kernelspec": {
      "name": "python3",
      "display_name": "Python 3"
    },
    "language_info": {
      "name": "python"
    }
  },
  "cells": [
    {
      "cell_type": "markdown",
      "metadata": {
        "id": "view-in-github",
        "colab_type": "text"
      },
      "source": [
        "<a href=\"https://colab.research.google.com/github/Srikanth-9492/My_python_notebook/blob/main/Practise_session.ipynb\" target=\"_parent\"><img src=\"https://colab.research.google.com/assets/colab-badge.svg\" alt=\"Open In Colab\"/></a>"
      ]
    },
    {
      "cell_type": "markdown",
      "source": [
        "Object oriented Programming language"
      ],
      "metadata": {
        "id": "Q4HOGm_UE6dk"
      }
    },
    {
      "cell_type": "code",
      "execution_count": null,
      "metadata": {
        "colab": {
          "base_uri": "https://localhost:8080/"
        },
        "id": "efiNYmKLEvey",
        "outputId": "38fabeee-07df-4dfd-a115-2d45e6194fa4"
      },
      "outputs": [
        {
          "output_type": "stream",
          "name": "stdout",
          "text": [
            "<class 'str'>\n"
          ]
        }
      ],
      "source": [
        "a = \"hello\"\n",
        "print(type(a))\n",
        "#How we can categorize it is a string or How we can define it is a string?\n",
        "#what is the properties of a?\n",
        "#a is declaring a text in \"\"\n",
        "#length of text is 5\n",
        "#what are all methods we can apply on \"a\"?\n",
        "#upper(),lower(),zfill(),title()\n",
        "#dir()--->by default returns all methods applicable on object"
      ]
    },
    {
      "cell_type": "code",
      "source": [
        "#if we want to build our own classes and object we use four rules or 4 pillars\n",
        "#The four pillars of the OOP's"
      ],
      "metadata": {
        "id": "zNMx8ANHGYzV"
      },
      "execution_count": null,
      "outputs": []
    },
    {
      "cell_type": "markdown",
      "source": [
        "**Encapsulation**---> wrapping the data(variables) and methods\n",
        "(functions) together into a single class\n",
        "\n",
        "--> it also restricts direct access to some variables using private or\n",
        "protected access\n",
        "\n",
        "ex:- A bank account ---> we can deposit the money, or with withdraw\n",
        "money by using the methods\n",
        "\n",
        "can we directly change the account balance ---> No\n"
      ],
      "metadata": {
        "id": "RkgVSxvYGrmW"
      }
    },
    {
      "cell_type": "code",
      "source": [
        "class Bank_Account:\n",
        "  def __init__(self,owner,balance):\n",
        "    self.owner = owner\n",
        "    self.balance = balance\n",
        "    #self is a pointer or referncer\n",
        "  #methods - is nothing but functions created inside the class\n",
        "  def deposit(self,amount):\n",
        "    if amount>0:\n",
        "      self.balance += amount\n",
        "      print(f\"deposited :{amount}\")\n",
        "    else:\n",
        "      print(\"Invalid Deposit Amount\")\n",
        "  def withdraw(self,amount):\n",
        "    if amount<=self.balance:\n",
        "      self.balance -= amount\n",
        "      print(f\"withdraw :{amount}\")\n",
        "    else:\n",
        "      print(\"Insuffiecient balance\")\n",
        "#create an object\n",
        "account1 = Bank_Account(\"Abhi\",1000)\n",
        "account1.deposit(2000)\n",
        "print(account1.__gt__)"
      ],
      "metadata": {
        "colab": {
          "base_uri": "https://localhost:8080/"
        },
        "id": "m9ruN6O4QbYG",
        "outputId": "c3aa008e-620f-47fa-9a79-b76bd9ba59e7"
      },
      "execution_count": null,
      "outputs": [
        {
          "output_type": "stream",
          "name": "stdout",
          "text": [
            "deposited :2000\n",
            "<method-wrapper '__gt__' of Bank_Account object at 0x77fc5bbaa540>\n"
          ]
        }
      ]
    },
    {
      "cell_type": "code",
      "source": [
        "print(dir(account1))"
      ],
      "metadata": {
        "colab": {
          "base_uri": "https://localhost:8080/"
        },
        "id": "CSCBfQi4SEy4",
        "outputId": "471f53a7-a0e8-49d9-96a8-81c900cd5957"
      },
      "execution_count": null,
      "outputs": [
        {
          "output_type": "stream",
          "name": "stdout",
          "text": [
            "['__class__', '__delattr__', '__dict__', '__dir__', '__doc__', '__eq__', '__format__', '__ge__', '__getattribute__', '__getstate__', '__gt__', '__hash__', '__init__', '__init_subclass__', '__le__', '__lt__', '__module__', '__ne__', '__new__', '__reduce__', '__reduce_ex__', '__repr__', '__setattr__', '__sizeof__', '__str__', '__subclasshook__', '__weakref__', 'balance', 'deposit', 'owner', 'withdraw']\n"
          ]
        }
      ]
    },
    {
      "cell_type": "code",
      "source": [
        "#encapsulation (data hiding + controlled access)"
      ],
      "metadata": {
        "id": "Tgb9RmgbT1xe"
      },
      "execution_count": null,
      "outputs": []
    },
    {
      "cell_type": "markdown",
      "source": [
        "**Abstraction**--> Hiding the implementation details and showing only\n",
        "the necessary features\n",
        "\n",
        "this can be achieved using abstract classes and methods\n",
        "\n",
        "\n",
        "ex:-\n"
      ],
      "metadata": {
        "id": "QYUPOTk6T-Mk"
      }
    },
    {
      "cell_type": "code",
      "source": [
        "account1.withdraw(1000)\n",
        "#abstraction Hide details of how the bank can deposit and withdrawn amount but expose only the methods"
      ],
      "metadata": {
        "id": "ytfoAWMoUSQP",
        "colab": {
          "base_uri": "https://localhost:8080/"
        },
        "outputId": "023212c6-39ae-48a3-d289-16bf1e8bdde6"
      },
      "execution_count": 8,
      "outputs": [
        {
          "output_type": "stream",
          "name": "stdout",
          "text": [
            "withdraw :1000\n"
          ]
        }
      ]
    },
    {
      "cell_type": "markdown",
      "source": [
        "**Inheritance** --> One class can inherit properties and methods from\n",
        "another class\n",
        "\n",
        "ex:- child inherits traits from parents"
      ],
      "metadata": {
        "id": "2fz_HFOaXR2J"
      }
    },
    {
      "cell_type": "code",
      "source": [
        "class person:\n",
        "  def __init__(self,name):\n",
        "    self.name = name\n",
        "  def display(self):\n",
        "    print(f\"name : {self.name}\")\n",
        "class student(person):  #inherit from person class\n",
        "  def __init__(self,name,student_id):\n",
        "    super().__init__(name)  #super() means i am inheriting the attributes from the parent class\n",
        "    self.student_id = student_id\n",
        "  def display(self):  #over-riding method\n",
        "      print(f\"name : {self.name},ID: {self.student_id}\")\n",
        "\n",
        "p1 = person(\"areef\")\n",
        "p1.display()\n",
        "\n",
        "s1 = student(\"met\",101)\n",
        "s1.display()\n",
        "\n",
        "#over-riding method :- when a child class provides a new implementation of method that is already exist in parent class\n",
        "#so the child class replace or override the parent class methods when we called on child class object"
      ],
      "metadata": {
        "colab": {
          "base_uri": "https://localhost:8080/"
        },
        "id": "oZPC6TBrXix-",
        "outputId": "7e71c9da-dfa7-4da6-ea2d-ac36a9a63457"
      },
      "execution_count": 10,
      "outputs": [
        {
          "output_type": "stream",
          "name": "stdout",
          "text": [
            "name : areef\n",
            "name : met,ID: 101\n"
          ]
        }
      ]
    },
    {
      "cell_type": "markdown",
      "source": [
        "**Polymorphism** --> One method behvave differently based on object\n",
        "(many forms)"
      ],
      "metadata": {
        "id": "eREaTERHapEb"
      }
    },
    {
      "cell_type": "code",
      "source": [],
      "metadata": {
        "id": "VeUkwik7bGrB"
      },
      "execution_count": null,
      "outputs": []
    },
    {
      "cell_type": "code",
      "source": [
        "import numpy as np"
      ],
      "metadata": {
        "id": "qKtgm5HNch_g"
      },
      "execution_count": 11,
      "outputs": []
    },
    {
      "cell_type": "code",
      "source": [
        "#create an array\n",
        "a = np.array([1,2,3,4,5])\n",
        "print(a)"
      ],
      "metadata": {
        "colab": {
          "base_uri": "https://localhost:8080/"
        },
        "id": "W_piVw5xckil",
        "outputId": "9825712f-f993-4947-9f0e-c4ba163434c7"
      },
      "execution_count": 12,
      "outputs": [
        {
          "output_type": "stream",
          "name": "stdout",
          "text": [
            "[1 2 3 4 5]\n"
          ]
        }
      ]
    },
    {
      "cell_type": "code",
      "source": [
        "#2.np.arange(start,end,step):- create a range of values\n",
        "#create range of even number array upto 10\n",
        "a = np.arange(0,11,2)\n",
        "print(a)"
      ],
      "metadata": {
        "colab": {
          "base_uri": "https://localhost:8080/"
        },
        "id": "gqYv5Aj-crEX",
        "outputId": "96b191a9-771d-4cca-9c3a-a4b7aa860172"
      },
      "execution_count": 13,
      "outputs": [
        {
          "output_type": "stream",
          "name": "stdout",
          "text": [
            "[ 0  2  4  6  8 10]\n"
          ]
        }
      ]
    },
    {
      "cell_type": "code",
      "source": [
        "#3.np.linspace(start,stop,size):-create evenly spaced values or creates eqiually distributed values\n",
        "a = np.linspace(0,1,5)\n",
        "print(a)"
      ],
      "metadata": {
        "colab": {
          "base_uri": "https://localhost:8080/"
        },
        "id": "MjST4TKKdAdZ",
        "outputId": "70a7feed-8db9-4e6d-b2c5-339b25ea994f"
      },
      "execution_count": 14,
      "outputs": [
        {
          "output_type": "stream",
          "name": "stdout",
          "text": [
            "[0.   0.25 0.5  0.75 1.  ]\n"
          ]
        }
      ]
    },
    {
      "cell_type": "code",
      "source": [
        "#4.np.reshape(rows,columns):- change array shape\n",
        "#create range of array from 1 to 10 and shape it in to 3 rows and 3 columns\n",
        "a = np.arange(1,10).reshape(3,3)\n",
        "print(a)\n",
        "#np.reshape converts 1D array to 2D array"
      ],
      "metadata": {
        "colab": {
          "base_uri": "https://localhost:8080/"
        },
        "id": "2Yv_7QhCdS9l",
        "outputId": "89f97299-e369-43e9-a376-3db4e487a9c8"
      },
      "execution_count": 15,
      "outputs": [
        {
          "output_type": "stream",
          "name": "stdout",
          "text": [
            "[[1 2 3]\n",
            " [4 5 6]\n",
            " [7 8 9]]\n"
          ]
        }
      ]
    },
    {
      "cell_type": "code",
      "source": [
        "#5.np.zeros()\n",
        "zero =np.zeros((3,3))\n",
        "print(zero)\n",
        "ones = np.ones((3,3))\n",
        "print(ones)\n",
        "\n",
        "a = np.full((3,3),5)\n",
        "print(a)\n",
        "\n",
        "b = np.eye(3)\n",
        "print(b)"
      ],
      "metadata": {
        "colab": {
          "base_uri": "https://localhost:8080/"
        },
        "id": "dpSoO71kdz1j",
        "outputId": "801c5ee6-bc43-43c7-abfc-80dd98e87e11"
      },
      "execution_count": 19,
      "outputs": [
        {
          "output_type": "stream",
          "name": "stdout",
          "text": [
            "[[0. 0. 0.]\n",
            " [0. 0. 0.]\n",
            " [0. 0. 0.]]\n",
            "[[1. 1. 1.]\n",
            " [1. 1. 1.]\n",
            " [1. 1. 1.]]\n",
            "[[5 5 5]\n",
            " [5 5 5]\n",
            " [5 5 5]]\n",
            "[[1. 0. 0.]\n",
            " [0. 1. 0.]\n",
            " [0. 0. 1.]]\n"
          ]
        }
      ]
    },
    {
      "cell_type": "code",
      "source": [
        "#6.np.random.random():-  uniform distribution random values ranging from o to 1\n",
        "a = np.random.random((3,3))\n",
        "print(a)"
      ],
      "metadata": {
        "colab": {
          "base_uri": "https://localhost:8080/"
        },
        "id": "1jLUDvvuee7q",
        "outputId": "f789a159-6230-4abe-efc2-e03b5dd75136"
      },
      "execution_count": 21,
      "outputs": [
        {
          "output_type": "stream",
          "name": "stdout",
          "text": [
            "[[0.5527191  0.21484384 0.94086592]\n",
            " [0.14694059 0.12854327 0.85232867]\n",
            " [0.76738924 0.64301629 0.94747084]]\n"
          ]
        }
      ]
    },
    {
      "cell_type": "code",
      "source": [
        "#7.np.random.randn()--> generates normal distributed data\n",
        "#np.random.randint()\n",
        "a = np.random.randint(1,10,size=(5,2))\n",
        "print(a)"
      ],
      "metadata": {
        "colab": {
          "base_uri": "https://localhost:8080/"
        },
        "id": "IVUZj0Y7e0QR",
        "outputId": "5caee8ed-702e-4cc6-977b-4e24c0ebea01"
      },
      "execution_count": 26,
      "outputs": [
        {
          "output_type": "stream",
          "name": "stdout",
          "text": [
            "[[7 5]\n",
            " [2 1]\n",
            " [2 2]\n",
            " [8 9]\n",
            " [8 3]]\n"
          ]
        }
      ]
    },
    {
      "cell_type": "code",
      "source": [
        "#8.np.mean(),np.median(),np.std()\n",
        "a = np.array([10,20,30,40,50])\n",
        "print(a.mean())\n",
        "print(np.mean(a))"
      ],
      "metadata": {
        "colab": {
          "base_uri": "https://localhost:8080/"
        },
        "id": "54qGVEdVfZeD",
        "outputId": "fca17aa3-990f-4d57-8714-d2ff5ca7b1c6"
      },
      "execution_count": 27,
      "outputs": [
        {
          "output_type": "stream",
          "name": "stdout",
          "text": [
            "30.0\n",
            "30.0\n"
          ]
        }
      ]
    },
    {
      "cell_type": "code",
      "source": [
        "#9.dot product / @ operator :- matrix  multiplication\n",
        "a = np.array([[1,2],[3,4]])\n",
        "b = np.array([[5,6],[7,8]])\n",
        "print(a@b)\n",
        "print(np.dot(a,b))"
      ],
      "metadata": {
        "colab": {
          "base_uri": "https://localhost:8080/"
        },
        "id": "M2aMlHFxfskc",
        "outputId": "554734f8-b649-465c-c2a8-6b69e54fa5a9"
      },
      "execution_count": 29,
      "outputs": [
        {
          "output_type": "stream",
          "name": "stdout",
          "text": [
            "[[19 22]\n",
            " [43 50]]\n",
            "[[19 22]\n",
            " [43 50]]\n"
          ]
        }
      ]
    },
    {
      "cell_type": "code",
      "source": [
        "#10.np.concatenate(),np.vstack(),np.hstack()\n",
        "print(np.concatenate([a,b],axis=1))"
      ],
      "metadata": {
        "colab": {
          "base_uri": "https://localhost:8080/"
        },
        "id": "5J8C_ooygQsC",
        "outputId": "b94341ca-196e-475f-ab4c-6c440f223640"
      },
      "execution_count": 30,
      "outputs": [
        {
          "output_type": "stream",
          "name": "stdout",
          "text": [
            "[[1 2 5 6]\n",
            " [3 4 7 8]]\n"
          ]
        }
      ]
    },
    {
      "cell_type": "code",
      "source": [
        "print(np.hstack([a,b]))\n",
        "print(np.vstack([a,b]))\n"
      ],
      "metadata": {
        "colab": {
          "base_uri": "https://localhost:8080/"
        },
        "id": "uStugBDfgj5s",
        "outputId": "73903c8f-b85e-4a0b-f27b-44a41dc19c6f"
      },
      "execution_count": 31,
      "outputs": [
        {
          "output_type": "stream",
          "name": "stdout",
          "text": [
            "[[1 2 5 6]\n",
            " [3 4 7 8]]\n",
            "[[1 2]\n",
            " [3 4]\n",
            " [5 6]\n",
            " [7 8]]\n"
          ]
        }
      ]
    },
    {
      "cell_type": "code",
      "source": [
        "#11. np.ndim, np.shape, np.dtype, np.itemsize\n",
        "print(a.ndim)\n",
        "print(a.shape)\n",
        "print(a.dtype)\n",
        "print(a.size) #total number of elements in the array\n",
        "\n",
        "#np.where() --> used to apply the condition\n",
        "#np.argwhere() --> is used to compute the indices where the condition is true"
      ],
      "metadata": {
        "colab": {
          "base_uri": "https://localhost:8080/"
        },
        "id": "t-cGloHFgyfe",
        "outputId": "2ef8deb7-0215-4225-dfd6-fa7f4918620e"
      },
      "execution_count": 33,
      "outputs": [
        {
          "output_type": "stream",
          "name": "stdout",
          "text": [
            "2\n",
            "(2, 2)\n",
            "int64\n",
            "4\n"
          ]
        }
      ]
    },
    {
      "cell_type": "code",
      "source": [
        "#get the even numbers from array \"a\"\n",
        "a = np.array([[1,2],[3,4]])\n",
        "eve = np.where(a%2==0,a,-1)\n",
        "print(eve)"
      ],
      "metadata": {
        "colab": {
          "base_uri": "https://localhost:8080/"
        },
        "id": "M3BEQsKIhNuV",
        "outputId": "7c1b488a-8a85-4caa-a7d1-873216e58d98"
      },
      "execution_count": 34,
      "outputs": [
        {
          "output_type": "stream",
          "name": "stdout",
          "text": [
            "[[-1  2]\n",
            " [-1  4]]\n"
          ]
        }
      ]
    },
    {
      "cell_type": "code",
      "source": [
        "a = np.ndarray((2,3),dtype=int)\n",
        "print(a)"
      ],
      "metadata": {
        "colab": {
          "base_uri": "https://localhost:8080/"
        },
        "id": "YlznV20hiVRR",
        "outputId": "b1bf414b-0928-469c-c093-06a1cae7f483"
      },
      "execution_count": 40,
      "outputs": [
        {
          "output_type": "stream",
          "name": "stdout",
          "text": [
            "[[729061092         0         0]\n",
            " [        0         0         0]]\n"
          ]
        }
      ]
    }
  ]
}